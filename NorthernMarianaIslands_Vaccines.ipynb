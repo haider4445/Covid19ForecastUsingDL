{
 "cells": [
  {
   "cell_type": "code",
   "execution_count": 1,
   "metadata": {},
   "outputs": [],
   "source": [
    "import pandas as pd\n",
    "import numpy as np\n",
    "import torch\n",
    "from torch import optim\n",
    "from datetime import timedelta\n",
    "from torch.utils.data import DataLoader,TensorDataset\n",
    "import matplotlib\n",
    "import matplotlib.pyplot as plt\n",
    "matplotlib.style.use('ggplot')\n",
    "import plotly.express as px\n",
    "import plotly.graph_objects as go\n",
    "import math\n",
    "from sklearn.preprocessing import MinMaxScaler\n",
    "from sklearn.metrics import r2_score, mean_absolute_percentage_error\n",
    "from TST import TimeSeriesTransformer\n",
    "from LSTM import COVID_LSTM\n",
    "from GRU import COVID_GRU\n",
    "\n",
    "%matplotlib inline\n",
    "device = torch.device('cuda:0' if torch.cuda.is_available() else 'cpu') \n",
    "from Utils import count_parameters, cumulative_to_daily, daily_to_cumulative"
   ]
  },
  {
   "cell_type": "markdown",
   "metadata": {},
   "source": [
    "# Importing Dataset"
   ]
  },
  {
   "cell_type": "code",
   "execution_count": 4,
   "metadata": {},
   "outputs": [],
   "source": [
    "state = 'NorthernMarianaIslands'\n",
    "df = pd.read_csv('us-vaccines.csv').drop(['Code'],1)\n",
    "vaccines_daily = df[df['Entity']=='Northern Mariana Islands']['people_vaccinated'].to_numpy().reshape(-1,1)\n"
   ]
  },
  {
   "cell_type": "code",
   "execution_count": 5,
   "metadata": {},
   "outputs": [
    {
     "data": {
      "text/plain": [
       "array(['Alabama', 'Alaska', 'American Samoa', 'Arizona', 'Arkansas',\n",
       "       'Bureau of Prisons', 'California', 'Colorado', 'Connecticut',\n",
       "       'Delaware', 'Dept of Defense', 'District of Columbia',\n",
       "       'Federated States of Micronesia', 'Florida', 'Georgia', 'Guam',\n",
       "       'Hawaii', 'Idaho', 'Illinois', 'Indian Health Svc', 'Indiana',\n",
       "       'Iowa', 'Kansas', 'Kentucky', 'Long Term Care', 'Louisiana',\n",
       "       'Maine', 'Marshall Islands', 'Maryland', 'Massachusetts',\n",
       "       'Michigan', 'Minnesota', 'Mississippi', 'Missouri', 'Montana',\n",
       "       'Nebraska', 'Nevada', 'New Hampshire', 'New Jersey', 'New Mexico',\n",
       "       'New York State', 'North Carolina', 'North Dakota',\n",
       "       'Northern Mariana Islands', 'Ohio', 'Oklahoma', 'Oregon',\n",
       "       'Pennsylvania', 'Puerto Rico', 'Republic of Palau', 'Rhode Island',\n",
       "       'South Carolina', 'South Dakota', 'Tennessee', 'Texas',\n",
       "       'United States', 'Utah', 'Vermont', 'Veterans Health',\n",
       "       'Virgin Islands', 'Virginia', 'Washington', 'West Virginia',\n",
       "       'Wisconsin', 'Wyoming'], dtype=object)"
      ]
     },
     "execution_count": 5,
     "metadata": {},
     "output_type": "execute_result"
    }
   ],
   "source": [
    "df['Entity'].unique()"
   ]
  },
  {
   "cell_type": "markdown",
   "metadata": {},
   "source": [
    "States to be worked on are: Northern Mariana Islands, Virgin Islands, Guam\n",
    "\n",
    "Texas\t, California, New York\n",
    "\n",
    "Virginia"
   ]
  },
  {
   "cell_type": "markdown",
   "metadata": {},
   "source": [
    "# Preprocessing Data"
   ]
  },
  {
   "cell_type": "code",
   "execution_count": 6,
   "metadata": {},
   "outputs": [],
   "source": [
    "scaler = MinMaxScaler(feature_range=(-1.0,+1.0))\n",
    "vaccines_cumulative_normalized = scaler.fit_transform(vaccines_daily)"
   ]
  },
  {
   "cell_type": "code",
   "execution_count": 7,
   "metadata": {},
   "outputs": [],
   "source": [
    "def convert_to_slide_window(data,time_steps):\n",
    "    X, y = [], []\n",
    "    # Stride = 1\n",
    "    # The (y) in our case is just the next timestep to compare with it\n",
    "    for i in range(len(data) - time_steps):\n",
    "        x = data[i:(i+time_steps)]\n",
    "        X.append(x)\n",
    "        y.append(data[i+time_steps])\n",
    "    return X,y"
   ]
  },
  {
   "cell_type": "code",
   "execution_count": 8,
   "metadata": {},
   "outputs": [],
   "source": [
    "window_size = 30\n",
    "\n",
    "X,Y = convert_to_slide_window(vaccines_cumulative_normalized,window_size)\n",
    "split = int(len(X) * 0.7)\n",
    "\n",
    "X_train,y_train=X[:split],Y[:split]\n",
    "X_test,y_test =X[split:],Y[split:]\n",
    "\n",
    "# Cumulative + Non-Normalized\n",
    "X_train, y_train = torch.FloatTensor(X_train).to(device), torch.FloatTensor(y_train).to(device)\n",
    "X_test, y_test  = torch.FloatTensor(X_test).to(device), torch.FloatTensor(y_test).to(device)\n",
    "\n",
    "# Load into DataLoader\n",
    "train_loader = DataLoader(TensorDataset(X_train, y_train),batch_size=32, shuffle=True)\n",
    "test_loader = DataLoader(TensorDataset(X_test, y_test), shuffle=False)\n",
    "\n",
    "# Cumulative + Non-Normalized\n",
    "y_test_inverse = scaler.inverse_transform(y_test.cpu().detach().numpy())\n",
    "y_train_inverse = scaler.inverse_transform(y_train.cpu().detach().numpy())\n",
    "\n",
    "# Non-Cumulative + Non-Normalized\n",
    "y_test_daily_vaccines = cumulative_to_daily(y_test_inverse)\n"
   ]
  },
  {
   "cell_type": "code",
   "execution_count": 9,
   "metadata": {},
   "outputs": [
    {
     "data": {
      "text/plain": [
       "(25, 1)"
      ]
     },
     "execution_count": 9,
     "metadata": {},
     "output_type": "execute_result"
    }
   ],
   "source": [
    "y_test_inverse.shape"
   ]
  },
  {
   "cell_type": "markdown",
   "metadata": {},
   "source": [
    "# TST Model"
   ]
  },
  {
   "cell_type": "code",
   "execution_count": 10,
   "metadata": {},
   "outputs": [
    {
     "name": "stdout",
     "output_type": "stream",
     "text": [
      "Epoch 1 Loss is 0.2789183370769024\n",
      "Epoch 2 Loss is 0.2777082696557045\n",
      "Epoch 3 Loss is 0.095216765999794\n",
      "Epoch 4 Loss is 0.06974666006863117\n",
      "Epoch 5 Loss is 0.13151158019900322\n",
      "Epoch 6 Loss is 0.10836593434214592\n",
      "Epoch 7 Loss is 0.04609725810587406\n",
      "Epoch 8 Loss is 0.03861808031797409\n",
      "Epoch 9 Loss is 0.0501598734408617\n",
      "Epoch 10 Loss is 0.027450927533209324\n",
      "Epoch 11 Loss is 0.02111885044723749\n",
      "Epoch 12 Loss is 0.0328491535037756\n",
      "Epoch 13 Loss is 0.020618777722120285\n",
      "Epoch 14 Loss is 0.017593412660062313\n",
      "Epoch 15 Loss is 0.023933847434818745\n",
      "Epoch 16 Loss is 0.01298834616318345\n",
      "Epoch 17 Loss is 0.014313049148768187\n",
      "Epoch 18 Loss is 0.01834651594981551\n",
      "Epoch 19 Loss is 0.009858992882072926\n",
      "Epoch 20 Loss is 0.013544532470405102\n",
      "Epoch 21 Loss is 0.013798500411212444\n",
      "Epoch 22 Loss is 0.007184361340478063\n",
      "Epoch 23 Loss is 0.01289778109639883\n",
      "Epoch 24 Loss is 0.011638870928436518\n",
      "Epoch 25 Loss is 0.008388189598917961\n",
      "Epoch 26 Loss is 0.011843765852972865\n",
      "Epoch 27 Loss is 0.010357980616390705\n",
      "Epoch 28 Loss is 0.006492081098258495\n",
      "Epoch 29 Loss is 0.012587820179760456\n",
      "Epoch 30 Loss is 0.009841805323958397\n",
      "Epoch 31 Loss is 0.007011114619672298\n",
      "Epoch 32 Loss is 0.011547745205461979\n",
      "Epoch 33 Loss is 0.009306333027780056\n",
      "Epoch 34 Loss is 0.005921187344938517\n",
      "Epoch 35 Loss is 0.01175283407792449\n",
      "Epoch 36 Loss is 0.009379768744111061\n",
      "Epoch 37 Loss is 0.005952256033197045\n",
      "Epoch 38 Loss is 0.011258486658334732\n",
      "Epoch 39 Loss is 0.009159167762845755\n",
      "Epoch 40 Loss is 0.007022401317954063\n",
      "Epoch 41 Loss is 0.011556823272258043\n",
      "Epoch 42 Loss is 0.009130628081038594\n",
      "Epoch 43 Loss is 0.006023642374202609\n",
      "Epoch 44 Loss is 0.011227045673877\n",
      "Epoch 45 Loss is 0.008864009520038962\n",
      "Epoch 46 Loss is 0.006121788639575243\n",
      "Epoch 47 Loss is 0.010877968510612845\n",
      "Epoch 48 Loss is 0.008741178549826145\n",
      "Epoch 49 Loss is 0.005498375976458192\n",
      "Epoch 50 Loss is 0.011260971194133162\n",
      "Epoch 51 Loss is 0.00875463499687612\n",
      "Epoch 52 Loss is 0.005454102763906121\n",
      "Epoch 53 Loss is 0.011098092654719949\n",
      "Epoch 54 Loss is 0.008707186672836542\n",
      "Epoch 55 Loss is 0.006327101029455662\n",
      "Epoch 56 Loss is 0.01070854952558875\n",
      "Epoch 57 Loss is 0.008583717280998826\n",
      "Epoch 58 Loss is 0.0060305006336420774\n",
      "Epoch 59 Loss is 0.010906765004619956\n",
      "Epoch 60 Loss is 0.008478710427880287\n",
      "Epoch 61 Loss is 0.00542321230750531\n",
      "Epoch 62 Loss is 0.0106693918351084\n",
      "Epoch 63 Loss is 0.00829497049562633\n",
      "Epoch 64 Loss is 0.006314258789643645\n",
      "Epoch 65 Loss is 0.01066980417817831\n",
      "Epoch 66 Loss is 0.008177285315468907\n",
      "Epoch 67 Loss is 0.0045262284111231565\n",
      "Epoch 68 Loss is 0.010500563774257898\n",
      "Epoch 69 Loss is 0.00807211734354496\n",
      "Epoch 70 Loss is 0.005431458470411599\n",
      "Epoch 71 Loss is 0.010240240721032023\n",
      "Epoch 72 Loss is 0.008020561188459396\n",
      "Epoch 73 Loss is 0.004744364647194743\n",
      "Epoch 74 Loss is 0.010316400555893779\n",
      "Epoch 75 Loss is 0.007840756326913834\n",
      "Epoch 76 Loss is 0.005507740657776594\n",
      "Epoch 77 Loss is 0.01060848287306726\n",
      "Epoch 78 Loss is 0.00770013639703393\n",
      "Epoch 79 Loss is 0.005995698738843203\n",
      "Epoch 80 Loss is 0.010536417597904801\n",
      "Epoch 81 Loss is 0.007504695560783148\n",
      "Epoch 82 Loss is 0.00558356661349535\n",
      "Epoch 83 Loss is 0.010505060199648142\n",
      "Epoch 84 Loss is 0.007565827341750264\n",
      "Epoch 85 Loss is 0.004665273241698742\n",
      "Epoch 86 Loss is 0.010482144076377153\n",
      "Epoch 87 Loss is 0.00745541462674737\n",
      "Epoch 88 Loss is 0.0051309720147401094\n",
      "Epoch 89 Loss is 0.010801408207044005\n",
      "Epoch 90 Loss is 0.007361988071352243\n",
      "Epoch 91 Loss is 0.0048831586027517915\n",
      "Epoch 92 Loss is 0.010455762036144733\n",
      "Epoch 93 Loss is 0.007078749127686024\n",
      "Epoch 94 Loss is 0.0050307916244491935\n",
      "Epoch 95 Loss is 0.010829698294401169\n",
      "Epoch 96 Loss is 0.00716065801680088\n",
      "Epoch 97 Loss is 0.004847725387662649\n",
      "Epoch 98 Loss is 0.010615270817652345\n",
      "Epoch 99 Loss is 0.007061400916427374\n",
      "Epoch 100 Loss is 0.005040278425440192\n",
      "Total Time (in minutes) is 0:00:06.318879\n"
     ]
    }
   ],
   "source": [
    "TST_model = TimeSeriesTransformer(n_features=1,d_model=512, n_heads=8, n_hidden=512, n_layers=8 ).to(device)\n",
    "criterion=torch.nn.MSELoss()\n",
    "# 0.00001 is the best LR for TST\n",
    "optimizer = optim.Adam(TST_model.parameters(), lr=0.00001)\n",
    "all_epochs_loss = TST_model.train_model(train_loader,criterion,optimizer,n_epochs = 100 )\n",
    "torch.save(TST_model.state_dict(), 'Weights/model_TST_{}_Vaccine'.format(state))\n",
    "# TST_model.load_state_dict(torch.load('Weights/model_TST_{}_Vaccine'.format(state)))"
   ]
  },
  {
   "cell_type": "code",
   "execution_count": 11,
   "metadata": {},
   "outputs": [
    {
     "data": {
      "image/png": "[encoded data removed]",
      "text/plain": [
       "<Figure size 432x288 with 1 Axes>"
      ]
     },
     "metadata": {
      "needs_background": "light"
     },
     "output_type": "display_data"
    }
   ],
   "source": [
    "# Epoch 300 Loss is 0.0021550819316568473\n",
    "fig, ax = plt.subplots()\n",
    "plt.plot(all_epochs_loss)\n",
    "\n",
    "ax.set_title('Train Loss')\n",
    "ax.set_xlabel('Epoch')\n",
    "ax.set_ylabel('MSE Loss')\n",
    "plt.show()"
   ]
  },
  {
   "cell_type": "code",
   "execution_count": 12,
   "metadata": {},
   "outputs": [
    {
     "name": "stdout",
     "output_type": "stream",
     "text": [
      "TST: Test MSE Loss:  0.005532143171876669\n"
     ]
    }
   ],
   "source": [
    "def test_TST(model, X):\n",
    "    model.eval()\n",
    "    torch.cuda.empty_cache()\n",
    "    S = X.shape[1] # Sequence Length\n",
    "    src_mask = model.generate_square_subsequent_mask(S)\n",
    "    predicted = model(X.permute(1,0,2),None,None).to(device) # [Batch Size, Sequence Length, n_features = 1]\n",
    "    one_new_timesteps=predicted[-1,:,:] # [Batch Size, Sequence Length (Last time step), n_features = 1] -> [Batch Size,]\n",
    "    print('TST: Test MSE Loss: ',criterion(one_new_timesteps,y_test).item())\n",
    "    return one_new_timesteps\n",
    "forecasted_TST = test_TST(TST_model, X=X_test)"
   ]
  },
  {
   "cell_type": "code",
   "execution_count": 13,
   "metadata": {},
   "outputs": [
    {
     "data": {
      "text/plain": [
       "torch.Size([30, 1])"
      ]
     },
     "execution_count": 13,
     "metadata": {},
     "output_type": "execute_result"
    }
   ],
   "source": [
    "X_train[-1].shape"
   ]
  },
  {
   "cell_type": "code",
   "execution_count": 14,
   "metadata": {},
   "outputs": [
    {
     "name": "stdout",
     "output_type": "stream",
     "text": [
      "Test MSE Loss:  tensor(0.0164, device='cuda:0', grad_fn=<MseLossBackward>)\n"
     ]
    },
    {
     "name": "stderr",
     "output_type": "stream",
     "text": [
      "/rhome/yelnady/.local/lib/python3.6/site-packages/torch/nn/modules/loss.py:528: UserWarning:\n",
      "\n",
      "Using a target size (torch.Size([25, 1])) that is different to the input size (torch.Size([25])). This will likely lead to incorrect results due to broadcasting. Please ensure they have the same size.\n",
      "\n"
     ]
    }
   ],
   "source": [
    "def forecast_TST(model, X, forecast_len,n_seed):\n",
    "    model.eval()\n",
    "    datapoint = X.unsqueeze(1) # [S,B,E]\n",
    "    torch.cuda.empty_cache()\n",
    "    for t in range(forecast_len): \n",
    "        \n",
    "        predicted = model(datapoint[-n_seed:,],None,None).to(device) # [S,B,E] \n",
    "        one_new_timestep=predicted[-1,:,:].unsqueeze(0) # [S,B,E]  -> Get the last predicted timestep\n",
    "        datapoint = torch.cat((datapoint,one_new_timestep),0)  # add the forecasted timestep\n",
    "        \n",
    "    forecasted = datapoint.squeeze()[n_seed:,] # Skip the first (n)seed timesteps cuz are n_seed\n",
    "    print('Test MSE Loss: ',criterion(forecasted,y_test))\n",
    "    return forecasted\n",
    "\n",
    "forecasted_once_TST = forecast_TST(TST_model,X=X_test[0],forecast_len=len(y_test),n_seed = window_size )"
   ]
  },
  {
   "cell_type": "code",
   "execution_count": 15,
   "metadata": {},
   "outputs": [
    {
     "name": "stdout",
     "output_type": "stream",
     "text": [
      "We used 12625409 Parameters for the transformer model\n"
     ]
    }
   ],
   "source": [
    "print(\"We used {} Parameters for the transformer model\".format(count_parameters(TST_model)))"
   ]
  },
  {
   "cell_type": "code",
   "execution_count": 16,
   "metadata": {},
   "outputs": [],
   "source": [
    "forecasted_inverse_TST = scaler.inverse_transform(forecasted_TST.cpu().detach().numpy())\n",
    "forecasted_daily_vaccines_TST  = cumulative_to_daily(forecasted_inverse_TST)"
   ]
  },
  {
   "cell_type": "code",
   "execution_count": 17,
   "metadata": {},
   "outputs": [
    {
     "name": "stdout",
     "output_type": "stream",
     "text": [
      "R2 Score for Vaccines 0.44397695071329724\n",
      "MAPE Score for Vaccines 0.0707262\n"
     ]
    }
   ],
   "source": [
    "print('R2 Score for Vaccines',r2_score(y_test.cpu().detach().numpy(),forecasted_TST.cpu().detach().numpy()))\n",
    "print('MAPE Score for Vaccines',mean_absolute_percentage_error(y_test.cpu().detach().numpy(),forecasted_TST.cpu().detach().numpy()))"
   ]
  },
  {
   "cell_type": "markdown",
   "metadata": {},
   "source": [
    "# LSTM Model"
   ]
  },
  {
   "cell_type": "code",
   "execution_count": 18,
   "metadata": {},
   "outputs": [
    {
     "name": "stdout",
     "output_type": "stream",
     "text": [
      "Epoch 1 Loss is 0.09955871477723122\n",
      "Epoch 2 Loss is 0.09634960442781448\n",
      "Epoch 3 Loss is 0.09233305230736732\n",
      "Epoch 4 Loss is 0.08746355026960373\n",
      "Epoch 5 Loss is 0.08299097418785095\n",
      "Epoch 6 Loss is 0.08296086266636848\n",
      "Epoch 7 Loss is 0.07842816784977913\n",
      "Epoch 8 Loss is 0.07926646620035172\n",
      "Epoch 9 Loss is 0.07639988511800766\n",
      "Epoch 10 Loss is 0.07551166042685509\n",
      "Epoch 11 Loss is 0.07522276043891907\n",
      "Epoch 12 Loss is 0.0746099054813385\n",
      "Epoch 13 Loss is 0.07463103160262108\n",
      "Epoch 14 Loss is 0.07575937733054161\n",
      "Epoch 15 Loss is 0.0726166944950819\n",
      "Epoch 16 Loss is 0.07331079244613647\n",
      "Epoch 17 Loss is 0.0706909354776144\n",
      "Epoch 18 Loss is 0.07107198238372803\n",
      "Epoch 19 Loss is 0.07165532372891903\n",
      "Epoch 20 Loss is 0.07081899419426918\n",
      "Epoch 21 Loss is 0.06786904111504555\n",
      "Epoch 22 Loss is 0.06718616560101509\n",
      "Epoch 23 Loss is 0.06426551379263401\n",
      "Epoch 24 Loss is 0.06143702194094658\n",
      "Epoch 25 Loss is 0.0594815369695425\n",
      "Epoch 26 Loss is 0.056148722767829895\n",
      "Epoch 27 Loss is 0.05280904285609722\n",
      "Epoch 28 Loss is 0.04518955387175083\n",
      "Epoch 29 Loss is 0.039202114567160606\n",
      "Epoch 30 Loss is 0.03061344102025032\n",
      "Epoch 31 Loss is 0.021124688908457756\n",
      "Epoch 32 Loss is 0.01198933832347393\n",
      "Epoch 33 Loss is 0.005300401244312525\n",
      "Epoch 34 Loss is 0.0037754434160888195\n",
      "Epoch 35 Loss is 0.008189257001504302\n",
      "Epoch 36 Loss is 0.009698071051388979\n",
      "Epoch 37 Loss is 0.008499715244397521\n",
      "Epoch 38 Loss is 0.0054058171808719635\n",
      "Epoch 39 Loss is 0.0030892003560438752\n",
      "Epoch 40 Loss is 0.0026152434293180704\n",
      "Epoch 41 Loss is 0.0029824443627148867\n",
      "Epoch 42 Loss is 0.0032512849429622293\n",
      "Epoch 43 Loss is 0.003275470226071775\n",
      "Epoch 44 Loss is 0.0028043665224686265\n",
      "Epoch 45 Loss is 0.002118158445227891\n",
      "Epoch 46 Loss is 0.0015073279500938952\n",
      "Epoch 47 Loss is 0.0010385075584053993\n",
      "Epoch 48 Loss is 0.001118173182476312\n",
      "Epoch 49 Loss is 0.001127666502725333\n",
      "Epoch 50 Loss is 0.0011123239528387785\n",
      "Epoch 51 Loss is 0.0008569986675865948\n",
      "Epoch 52 Loss is 0.0006352089112624526\n",
      "Epoch 53 Loss is 0.0004330343654146418\n",
      "Epoch 54 Loss is 0.0004121779784327373\n",
      "Epoch 55 Loss is 0.00046077341539785266\n",
      "Epoch 56 Loss is 0.0004057408368680626\n",
      "Epoch 57 Loss is 0.00032491683668922633\n",
      "Epoch 58 Loss is 0.00025098081096075475\n",
      "Epoch 59 Loss is 0.00021085918706376106\n",
      "Epoch 60 Loss is 0.00020395108731463552\n",
      "Epoch 61 Loss is 0.0002453906272421591\n",
      "Epoch 62 Loss is 0.00022705760784447193\n",
      "Epoch 63 Loss is 0.00019608747970778495\n",
      "Epoch 64 Loss is 0.00018945193733088672\n",
      "Epoch 65 Loss is 0.00017882427346194163\n",
      "Epoch 66 Loss is 0.00018863205332309008\n",
      "Epoch 67 Loss is 0.00019089371926384047\n",
      "Epoch 68 Loss is 0.000185148703167215\n",
      "Epoch 69 Loss is 0.00017507170559838414\n",
      "Epoch 70 Loss is 0.00017654862313065678\n",
      "Epoch 71 Loss is 0.00017869039584184065\n",
      "Epoch 72 Loss is 0.00018124067719327286\n",
      "Epoch 73 Loss is 0.00018375094805378467\n",
      "Epoch 74 Loss is 0.00017587634647497907\n",
      "Epoch 75 Loss is 0.0001735039404593408\n",
      "Epoch 76 Loss is 0.00018321118841413409\n",
      "Epoch 77 Loss is 0.00017738817405188456\n",
      "Epoch 78 Loss is 0.00017352894792566076\n",
      "Epoch 79 Loss is 0.00018004967569140717\n",
      "Epoch 80 Loss is 0.00017503755225334316\n",
      "Epoch 81 Loss is 0.00017059275705832988\n",
      "Epoch 82 Loss is 0.0001811779075069353\n",
      "Epoch 83 Loss is 0.00017087507876567543\n",
      "Epoch 84 Loss is 0.000179389986442402\n",
      "Epoch 85 Loss is 0.0001845482038334012\n",
      "Epoch 86 Loss is 0.00018298985742148943\n",
      "Epoch 87 Loss is 0.00017720748292049393\n",
      "Epoch 88 Loss is 0.0001773180192685686\n",
      "Epoch 89 Loss is 0.00017343494982924312\n",
      "Epoch 90 Loss is 0.00017348779510939494\n",
      "Epoch 91 Loss is 0.00017083960119634867\n",
      "Epoch 92 Loss is 0.0001653795588936191\n",
      "Epoch 93 Loss is 0.0001715692487778142\n",
      "Epoch 94 Loss is 0.00017578859842615202\n",
      "Epoch 95 Loss is 0.00017038784426404163\n",
      "Epoch 96 Loss is 0.00017049800226232037\n",
      "Epoch 97 Loss is 0.00017762179777491838\n",
      "Epoch 98 Loss is 0.00017995374946622178\n",
      "Epoch 99 Loss is 0.0001695112805464305\n",
      "Epoch 100 Loss is 0.00017011880117934197\n",
      "Total Time (in minutes) is 0:00:03.109079\n"
     ]
    }
   ],
   "source": [
    "LSTM_model = COVID_LSTM(n_hidden=256,n_features=1).to(device)\n",
    "criterion=torch.nn.MSELoss()\n",
    "optimizer = optim.Adam(LSTM_model.parameters(), lr=0.0001)\n",
    "all_epochs_loss = LSTM_model.train_model(train_loader,criterion,optimizer,n_epochs = 100 )\n",
    "torch.save(LSTM_model.state_dict(), 'Weights/model_LSTM_{}_Vaccine'.format(state))\n",
    "# LSTM_model.load_state_dict(torch.load('Weights/model_LSTM_{}_Vaccine'.format(state)))"
   ]
  },
  {
   "cell_type": "code",
   "execution_count": 19,
   "metadata": {},
   "outputs": [
    {
     "name": "stdout",
     "output_type": "stream",
     "text": [
      "LSTM: Test MSE Loss:  0.006927695125341415\n"
     ]
    }
   ],
   "source": [
    "def test_LSTM(model, X):\n",
    "    model.eval()\n",
    "    torch.cuda.empty_cache()\n",
    "    predicted = model(X).to(device) # [Batch Size, Sequence Length, n_features = 1]\n",
    "    one_new_timesteps=predicted[:,-1,:] # [Batch Size, Sequence Length (Last time step), n_features = 1] -> [Batch Size,]\n",
    "    print('LSTM: Test MSE Loss: ',criterion(one_new_timesteps,y_test).item())\n",
    "    return one_new_timesteps\n",
    "\n",
    "forecasted_LSTM = test_LSTM(LSTM_model, X=X_test)"
   ]
  },
  {
   "cell_type": "code",
   "execution_count": 20,
   "metadata": {},
   "outputs": [
    {
     "data": {
      "text/plain": [
       "torch.Size([25, 30, 1])"
      ]
     },
     "execution_count": 20,
     "metadata": {},
     "output_type": "execute_result"
    }
   ],
   "source": [
    "X_test.shape"
   ]
  },
  {
   "cell_type": "code",
   "execution_count": 21,
   "metadata": {},
   "outputs": [
    {
     "name": "stdout",
     "output_type": "stream",
     "text": [
      "Test MSE Loss:  tensor(0.0200, device='cuda:0', grad_fn=<MseLossBackward>)\n"
     ]
    },
    {
     "name": "stderr",
     "output_type": "stream",
     "text": [
      "/rhome/yelnady/.local/lib/python3.6/site-packages/torch/nn/modules/loss.py:528: UserWarning:\n",
      "\n",
      "Using a target size (torch.Size([25, 1])) that is different to the input size (torch.Size([25])). This will likely lead to incorrect results due to broadcasting. Please ensure they have the same size.\n",
      "\n"
     ]
    }
   ],
   "source": [
    "def forecast_LSTM(model, X, forecast_len,n_seed):\n",
    "    model.eval()\n",
    "    datapoint = X.unsqueeze(0) # [S,B,E]\n",
    "    torch.cuda.empty_cache()\n",
    "    for t in range(forecast_len): \n",
    "        \n",
    "        predicted = model(datapoint[-n_seed:,]).to(device) # [B,S,E] \n",
    "        \n",
    "        one_new_timestep=predicted[:,-1,:].unsqueeze(0) # [S,B,E]  -> Get the last predicted timestep\n",
    "        datapoint = torch.cat((datapoint,one_new_timestep),1)  # add the forecasted timestep\n",
    "    forecasted = datapoint.squeeze()[n_seed:,] # Skip the first (n)seed timesteps cuz are n_seed\n",
    "    print('Test MSE Loss: ',criterion(forecasted,y_test))\n",
    "    return forecasted\n",
    "\n",
    "forecasted_once_LSTM = forecast_LSTM(LSTM_model,X=X_test[0],forecast_len=len(y_test),n_seed = window_size )"
   ]
  },
  {
   "cell_type": "code",
   "execution_count": 22,
   "metadata": {},
   "outputs": [],
   "source": [
    "forecasted_inverse_LSTM = scaler.inverse_transform(forecasted_LSTM.cpu().detach().numpy())\n",
    "forecasted_daily_vaccines_LSTM  = cumulative_to_daily(forecasted_inverse_LSTM)"
   ]
  },
  {
   "cell_type": "code",
   "execution_count": 23,
   "metadata": {},
   "outputs": [
    {
     "name": "stdout",
     "output_type": "stream",
     "text": [
      "R2 Score for Vaccines 0.9992234591988157\n",
      "MAPE Score for Vaccines 5.188147e+16\n"
     ]
    }
   ],
   "source": [
    "print('R2 Score for Vaccines',r2_score(y_test_daily_vaccines,forecasted_daily_vaccines_LSTM))\n",
    "print('MAPE Score for Vaccines',mean_absolute_percentage_error(y_test_daily_vaccines,forecasted_daily_vaccines_LSTM))"
   ]
  },
  {
   "cell_type": "markdown",
   "metadata": {},
   "source": [
    "# GRU Model"
   ]
  },
  {
   "cell_type": "code",
   "execution_count": 24,
   "metadata": {},
   "outputs": [
    {
     "name": "stdout",
     "output_type": "stream",
     "text": [
      "Epoch 1 Loss is 0.09750622883439064\n",
      "Epoch 2 Loss is 0.08450994826853275\n",
      "Epoch 3 Loss is 0.07813413999974728\n",
      "Epoch 4 Loss is 0.0743112675845623\n",
      "Epoch 5 Loss is 0.07304168120026588\n",
      "Epoch 6 Loss is 0.0693303756415844\n",
      "Epoch 7 Loss is 0.06785169988870621\n",
      "Epoch 8 Loss is 0.06658090837299824\n",
      "Epoch 9 Loss is 0.0628650113940239\n",
      "Epoch 10 Loss is 0.05871937796473503\n",
      "Epoch 11 Loss is 0.0557656642049551\n",
      "Epoch 12 Loss is 0.05181672424077988\n",
      "Epoch 13 Loss is 0.04809745214879513\n",
      "Epoch 14 Loss is 0.0430753119289875\n",
      "Epoch 15 Loss is 0.03692292608320713\n",
      "Epoch 16 Loss is 0.030752113088965416\n",
      "Epoch 17 Loss is 0.024051920510828495\n",
      "Epoch 18 Loss is 0.017303597182035446\n",
      "Epoch 19 Loss is 0.01065469952300191\n",
      "Epoch 20 Loss is 0.004965026862919331\n",
      "Epoch 21 Loss is 0.0012502457248046994\n",
      "Epoch 22 Loss is 0.0005852765752933919\n",
      "Epoch 23 Loss is 0.002309726784005761\n",
      "Epoch 24 Loss is 0.00449980644043535\n",
      "Epoch 25 Loss is 0.0049877408891916275\n",
      "Epoch 26 Loss is 0.0035440929932519794\n",
      "Epoch 27 Loss is 0.001899735420010984\n",
      "Epoch 28 Loss is 0.0006941318133613095\n",
      "Epoch 29 Loss is 0.0003198358681402169\n",
      "Epoch 30 Loss is 0.00048698099271859974\n",
      "Epoch 31 Loss is 0.0008226265490520746\n",
      "Epoch 32 Loss is 0.001158928673248738\n",
      "Epoch 33 Loss is 0.0011524050496518612\n",
      "Epoch 34 Loss is 0.0009672099258750677\n",
      "Epoch 35 Loss is 0.0007215593650471419\n",
      "Epoch 36 Loss is 0.0004479058552533388\n",
      "Epoch 37 Loss is 0.0002935896045528352\n",
      "Epoch 38 Loss is 0.0002566781477071345\n",
      "Epoch 39 Loss is 0.00031283700081985444\n",
      "Epoch 40 Loss is 0.00037704002170357853\n",
      "Epoch 41 Loss is 0.00040753796929493546\n",
      "Epoch 42 Loss is 0.00036810732854064554\n",
      "Epoch 43 Loss is 0.0003178956685587764\n",
      "Epoch 44 Loss is 0.0002614321929286234\n",
      "Epoch 45 Loss is 0.0002345800821785815\n",
      "Epoch 46 Loss is 0.00023992614296730608\n",
      "Epoch 47 Loss is 0.0002525173404137604\n",
      "Epoch 48 Loss is 0.0002690261899260804\n",
      "Epoch 49 Loss is 0.00027424384461482987\n",
      "Epoch 50 Loss is 0.0002604449255159125\n",
      "Epoch 51 Loss is 0.0002423885016469285\n",
      "Epoch 52 Loss is 0.00023752696870360523\n",
      "Epoch 53 Loss is 0.000229200508329086\n",
      "Epoch 54 Loss is 0.00023568238248117268\n",
      "Epoch 55 Loss is 0.0002449396706651896\n",
      "Epoch 56 Loss is 0.00023544752912130207\n",
      "Epoch 57 Loss is 0.0002268408061354421\n",
      "Epoch 58 Loss is 0.00023025630071060732\n",
      "Epoch 59 Loss is 0.00023412179143633693\n",
      "Epoch 60 Loss is 0.00024245968961622566\n",
      "Epoch 61 Loss is 0.0002310318814124912\n",
      "Epoch 62 Loss is 0.0002266438168589957\n",
      "Epoch 63 Loss is 0.00022212284238776192\n",
      "Epoch 64 Loss is 0.00022903854551259428\n",
      "Epoch 65 Loss is 0.00022873304260428995\n",
      "Epoch 66 Loss is 0.0002246260191895999\n",
      "Epoch 67 Loss is 0.00022625067504122853\n",
      "Epoch 68 Loss is 0.00022381573216989636\n",
      "Epoch 69 Loss is 0.0002206423887400888\n",
      "Epoch 70 Loss is 0.00022369534417521209\n",
      "Epoch 71 Loss is 0.00021415769879240543\n",
      "Epoch 72 Loss is 0.0002295853046234697\n",
      "Epoch 73 Loss is 0.00023273078841157258\n",
      "Epoch 74 Loss is 0.00020773209689650685\n",
      "Epoch 75 Loss is 0.0002234237181255594\n",
      "Epoch 76 Loss is 0.00021763523545814678\n",
      "Epoch 77 Loss is 0.0002187684367527254\n",
      "Epoch 78 Loss is 0.00021126012143213302\n",
      "Epoch 79 Loss is 0.00020878671057289466\n",
      "Epoch 80 Loss is 0.00021200683841016144\n",
      "Epoch 81 Loss is 0.00022630961029790342\n",
      "Epoch 82 Loss is 0.00021547677897615358\n",
      "Epoch 83 Loss is 0.00021446391474455595\n",
      "Epoch 84 Loss is 0.0002022129119723104\n",
      "Epoch 85 Loss is 0.00020912033505737782\n",
      "Epoch 86 Loss is 0.00021277210908010602\n",
      "Epoch 87 Loss is 0.00021852883219253272\n",
      "Epoch 88 Loss is 0.00021093490067869425\n",
      "Epoch 89 Loss is 0.00021764059056295082\n",
      "Epoch 90 Loss is 0.00022707163589075208\n",
      "Epoch 91 Loss is 0.00022285299928626046\n",
      "Epoch 92 Loss is 0.00020775020675500855\n",
      "Epoch 93 Loss is 0.00022268063912633806\n",
      "Epoch 94 Loss is 0.00020171662617940456\n",
      "Epoch 95 Loss is 0.00021314568584784865\n",
      "Epoch 96 Loss is 0.0002091783462674357\n",
      "Epoch 97 Loss is 0.0002248240343760699\n",
      "Epoch 98 Loss is 0.00020476108329603449\n",
      "Epoch 99 Loss is 0.00021095818374305964\n",
      "Epoch 100 Loss is 0.00020888905419269577\n",
      "Total Time (in minutes) is 0:00:03.039851\n"
     ]
    }
   ],
   "source": [
    "GRU_model = COVID_GRU(n_hidden=256,n_features=1).to(device)\n",
    "criterion=torch.nn.MSELoss()\n",
    "optimizer = optim.Adam(GRU_model.parameters(), lr=0.0001)\n",
    "all_epochs_loss = GRU_model.train_model(train_loader,criterion,optimizer,n_epochs = 100 )\n",
    "torch.save(GRU_model.state_dict(), 'Weights/model_GRU_{}_Vaccine'.format(state))\n",
    "# GRU_model.load_state_dict(torch.load('Weights/model_GRU_{}_Vaccine'.format(state)))"
   ]
  },
  {
   "cell_type": "code",
   "execution_count": 25,
   "metadata": {},
   "outputs": [
    {
     "name": "stdout",
     "output_type": "stream",
     "text": [
      "GRU: Test MSE Loss:  0.009308605454862118\n"
     ]
    }
   ],
   "source": [
    "def test_GRU(model, X):\n",
    "    model.eval()\n",
    "    torch.cuda.empty_cache()\n",
    "    predicted = model(X).to(device) # [Batch Size, Sequence Length, n_features = 1]\n",
    "    one_new_timesteps=predicted[:,-1,:] # [Batch Size, Sequence Length (Last time step), n_features = 1] -> [Batch Size,]\n",
    "    print('GRU: Test MSE Loss: ',criterion(one_new_timesteps,y_test).item())\n",
    "    return one_new_timesteps\n",
    "\n",
    "forecasted_GRU = test_GRU(GRU_model, X=X_test)"
   ]
  },
  {
   "cell_type": "code",
   "execution_count": 26,
   "metadata": {},
   "outputs": [
    {
     "data": {
      "text/plain": [
       "torch.Size([25, 30, 1])"
      ]
     },
     "execution_count": 26,
     "metadata": {},
     "output_type": "execute_result"
    }
   ],
   "source": [
    "X_test.shape"
   ]
  },
  {
   "cell_type": "code",
   "execution_count": 27,
   "metadata": {},
   "outputs": [
    {
     "name": "stdout",
     "output_type": "stream",
     "text": [
      "Test MSE Loss:  tensor(0.0272, device='cuda:0', grad_fn=<MseLossBackward>)\n"
     ]
    },
    {
     "name": "stderr",
     "output_type": "stream",
     "text": [
      "/rhome/yelnady/.local/lib/python3.6/site-packages/torch/nn/modules/loss.py:528: UserWarning:\n",
      "\n",
      "Using a target size (torch.Size([25, 1])) that is different to the input size (torch.Size([25])). This will likely lead to incorrect results due to broadcasting. Please ensure they have the same size.\n",
      "\n"
     ]
    }
   ],
   "source": [
    "def forecast_GRU(model, X, forecast_len,n_seed):\n",
    "    model.eval()\n",
    "    datapoint = X.unsqueeze(0) # [S,B,E]\n",
    "    torch.cuda.empty_cache()\n",
    "    for t in range(forecast_len): \n",
    "        \n",
    "        predicted = model(datapoint[-n_seed:,]).to(device) # [B,S,E] \n",
    "        \n",
    "        one_new_timestep=predicted[:,-1,:].unsqueeze(0) # [S,B,E]  -> Get the last predicted timestep\n",
    "        datapoint = torch.cat((datapoint,one_new_timestep),1)  # add the forecasted timestep\n",
    "    forecasted = datapoint.squeeze()[n_seed:,] # Skip the first (n)seed timesteps cuz are n_seed\n",
    "    print('Test MSE Loss: ',criterion(forecasted,y_test))\n",
    "    return forecasted\n",
    "\n",
    "forecasted_once_GRU = forecast_GRU(GRU_model,X=X_test[0],forecast_len=len(y_test),n_seed = window_size )"
   ]
  },
  {
   "cell_type": "code",
   "execution_count": 28,
   "metadata": {},
   "outputs": [],
   "source": [
    "forecasted_inverse_GRU = scaler.inverse_transform(forecasted_GRU.cpu().detach().numpy())\n",
    "forecasted_daily_vaccines_GRU  = cumulative_to_daily(forecasted_inverse_GRU)"
   ]
  },
  {
   "cell_type": "code",
   "execution_count": 29,
   "metadata": {},
   "outputs": [
    {
     "name": "stdout",
     "output_type": "stream",
     "text": [
      "R2 Score for Vaccines 0.9990625995435273\n",
      "MAPE Score for Vaccines 5.3142476e+16\n"
     ]
    }
   ],
   "source": [
    "print('R2 Score for Vaccines',r2_score(y_test_daily_vaccines,forecasted_daily_vaccines_GRU))\n",
    "print('MAPE Score for Vaccines',mean_absolute_percentage_error(y_test_daily_vaccines,forecasted_daily_vaccines_GRU))"
   ]
  },
  {
   "cell_type": "markdown",
   "metadata": {},
   "source": [
    "# Plots"
   ]
  },
  {
   "cell_type": "code",
   "execution_count": 30,
   "metadata": {},
   "outputs": [
    {
     "data": {
      "image/png": "[encoded data removed]",
      "text/plain": [
       "<Figure size 1080x360 with 1 Axes>"
      ]
     },
     "metadata": {
      "needs_background": "light"
     },
     "output_type": "display_data"
    }
   ],
   "source": [
    "fig, ax = plt.subplots()\n",
    "# ax.set_ylim([0.0,1.1])\n",
    "\n",
    "plt.plot(y_test[:,0].cpu().detach().numpy(),label='Real',marker='o')\n",
    "plt.plot(forecasted_TST[:,0].cpu().detach().numpy(),label='Predicted - TST',marker='o')\n",
    "plt.plot(forecasted_LSTM[:,0].cpu().detach().numpy(),label='Predicted - LSTM',marker='o')\n",
    "plt.plot(forecasted_GRU[:,0].cpu().detach().numpy(),label='Predicted - GRU',marker='o')\n",
    "\n",
    "# plt.plot(forecasted_once_TST[:,0].cpu().detach().numpy(),label='Forecast Function - TST',marker='o')\n",
    "fig.set_size_inches(15, 5)\n",
    "ax.set_title('{} Vaccinated - Cumulative + Normalized'.format(state))\n",
    "ax.set_xlabel('Days')\n",
    "ax.set_ylabel('Cumulative')\n",
    "leg = ax.legend(bbox_to_anchor=(1.15, 1.01))\n",
    "plt.show()"
   ]
  },
  {
   "cell_type": "code",
   "execution_count": 31,
   "metadata": {},
   "outputs": [
    {
     "data": {
      "image/png": "[encoded data removed]",
      "text/plain": [
       "<Figure size 1080x360 with 1 Axes>"
      ]
     },
     "metadata": {
      "needs_background": "light"
     },
     "output_type": "display_data"
    }
   ],
   "source": [
    "fig, ax = plt.subplots()\n",
    "\n",
    "plt.plot(y_test_inverse[:,0],label='Real',marker='o')\n",
    "plt.plot(forecasted_inverse_TST[:,0],label='Predicted - TST',marker='o')\n",
    "plt.plot(forecasted_inverse_LSTM[:,0],label='Predicted - LSTM',marker='o')\n",
    "plt.plot(forecasted_inverse_GRU[:,0],label='Predicted - GRU',marker='o')\n",
    "\n",
    "fig.set_size_inches(15, 5)\n",
    "ax.set_title('{} Vaccinated - Cumulative + Non-Normalized'.format(state))\n",
    "ax.set_xlabel('Days')\n",
    "ax.set_ylabel('Cumulative')\n",
    "leg = ax.legend(bbox_to_anchor=(1.15, 1.01))\n",
    "plt.show()"
   ]
  },
  {
   "cell_type": "code",
   "execution_count": null,
   "metadata": {},
   "outputs": [],
   "source": []
  },
  {
   "cell_type": "code",
   "execution_count": null,
   "metadata": {},
   "outputs": [],
   "source": []
  }
 ],
 "metadata": {
  "kernelspec": {
   "display_name": "Python 3",
   "language": "python",
   "name": "python3"
  },
  "language_info": {
   "codemirror_mode": {
    "name": "ipython",
    "version": 3
   },
   "file_extension": ".py",
   "mimetype": "text/x-python",
   "name": "python",
   "nbconvert_exporter": "python",
   "pygments_lexer": "ipython3",
   "version": "3.6.9"
  }
 },
 "nbformat": 4,
 "nbformat_minor": 4
}

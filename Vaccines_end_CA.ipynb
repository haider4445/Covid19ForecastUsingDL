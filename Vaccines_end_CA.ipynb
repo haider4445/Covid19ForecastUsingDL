{
 "cells": [
  {
   "cell_type": "code",
   "execution_count": 1,
   "metadata": {},
   "outputs": [],
   "source": [
    "import pandas as pd\n",
    "import numpy as np\n",
    "import torch\n",
    "from torch import optim\n",
    "from datetime import timedelta\n",
    "from torch.utils.data import DataLoader,TensorDataset\n",
    "import matplotlib\n",
    "import matplotlib.pyplot as plt\n",
    "matplotlib.style.use('ggplot')\n",
    "import plotly.express as px\n",
    "import plotly.graph_objects as go\n",
    "import math\n",
    "from sklearn.preprocessing import MinMaxScaler\n",
    "from sklearn.metrics import r2_score, mean_absolute_percentage_error\n",
    "from TST import TimeSeriesTransformer\n",
    "from LSTM import COVID_LSTM\n",
    "from GRU import COVID_GRU\n",
    "\n",
    "%matplotlib inline\n",
    "device = torch.device('cuda:0' if torch.cuda.is_available() else 'cpu') \n",
    "from Utils import count_parameters, cumulative_to_daily, daily_to_cumulative"
   ]
  },
  {
   "cell_type": "markdown",
   "metadata": {},
   "source": [
    "# Importing Dataset"
   ]
  },
  {
   "cell_type": "code",
   "execution_count": 2,
   "metadata": {},
   "outputs": [],
   "source": [
    "state = 'CA'\n",
    "df = pd.read_csv('us-vaccines.csv').drop(['Code'],1)\n",
    "vaccines_cumulative = df[df['Entity']=='California']['people_vaccinated'].to_numpy().reshape(-1, 1)"
   ]
  },
  {
   "cell_type": "code",
   "execution_count": 5,
   "metadata": {},
   "outputs": [
    {
     "name": "stdout",
     "output_type": "stream",
     "text": [
      "Currently Vaccinated Untill today in CA is [20047379]\n"
     ]
    }
   ],
   "source": [
    "print(\"Currently Vaccinated Untill today in {} is {}\".format(state,vaccines_cumulative[-1]))"
   ]
  },
  {
   "cell_type": "markdown",
   "metadata": {},
   "source": [
    "States to be worked on are:\n",
    "- California: 39,512,223\n",
    "- New York: 19,453,561\n",
    "- Virginia: 8,535,519"
   ]
  },
  {
   "cell_type": "markdown",
   "metadata": {},
   "source": [
    "# Preprocessing Data"
   ]
  },
  {
   "cell_type": "code",
   "execution_count": 6,
   "metadata": {},
   "outputs": [],
   "source": [
    "scaler = MinMaxScaler(feature_range=(-1,+1.0))\n",
    "vaccines_daily = cumulative_to_daily(vaccines_cumulative)\n",
    "vaccines_daily_normalized = scaler.fit_transform(vaccines_daily.reshape(-1, 1))"
   ]
  },
  {
   "cell_type": "code",
   "execution_count": 7,
   "metadata": {},
   "outputs": [],
   "source": [
    "def convert_to_slide_window(data,time_steps):\n",
    "    X, y = [], []\n",
    "    # Stride = 1\n",
    "    # The (y) in our case is just the next timestep to compare with it\n",
    "    for i in range(len(data) - time_steps):\n",
    "        x = data[i:(i+time_steps)]\n",
    "        X.append(x)\n",
    "        y.append(data[i+time_steps])\n",
    "    return X,y"
   ]
  },
  {
   "cell_type": "code",
   "execution_count": 8,
   "metadata": {},
   "outputs": [],
   "source": [
    "window_size = 30\n",
    "\n",
    "X,Y = convert_to_slide_window(vaccines_daily_normalized,window_size)\n",
    "\n",
    "X_all, y_all = torch.FloatTensor(X).to(device), torch.FloatTensor(Y).to(device) # Full data to be trained on\n",
    "\n",
    "# Load into DataLoader\n",
    "all_loader = DataLoader(TensorDataset(X_all, y_all),batch_size=32, shuffle=True)\n",
    "\n",
    "# y_train_inverse = scaler.inverse_transform(y_train.cpu().detach().numpy())"
   ]
  },
  {
   "cell_type": "markdown",
   "metadata": {},
   "source": [
    "# TST Model"
   ]
  },
  {
   "cell_type": "code",
   "execution_count": 9,
   "metadata": {},
   "outputs": [
    {
     "data": {
      "text/plain": [
       "4"
      ]
     },
     "execution_count": 9,
     "metadata": {},
     "output_type": "execute_result"
    }
   ],
   "source": [
    "import gc\n",
    "gc.collect()"
   ]
  },
  {
   "cell_type": "code",
   "execution_count": 10,
   "metadata": {},
   "outputs": [
    {
     "name": "stdout",
     "output_type": "stream",
     "text": [
      "Epoch 1 Loss is 0.18642141421635947\n",
      "Epoch 2 Loss is 0.1379679118593534\n",
      "Epoch 3 Loss is 0.0930967852473259\n",
      "Epoch 4 Loss is 0.06597346067428589\n",
      "Epoch 5 Loss is 0.06749709447224934\n",
      "Epoch 6 Loss is 0.0717356950044632\n",
      "Epoch 7 Loss is 0.06372939546902974\n",
      "Epoch 8 Loss is 0.0630235696832339\n",
      "Epoch 9 Loss is 0.06501871968309085\n",
      "Epoch 10 Loss is 0.06539879739284515\n",
      "Epoch 11 Loss is 0.06106493001182874\n",
      "Epoch 12 Loss is 0.06275788322091103\n",
      "Epoch 13 Loss is 0.06349862366914749\n",
      "Epoch 14 Loss is 0.06577086076140404\n",
      "Epoch 15 Loss is 0.059591061125199\n",
      "Epoch 16 Loss is 0.06229226663708687\n",
      "Epoch 17 Loss is 0.06286626309156418\n",
      "Epoch 18 Loss is 0.06274315218130748\n",
      "Epoch 19 Loss is 0.06386043752233188\n",
      "Epoch 20 Loss is 0.06767514099677403\n",
      "Epoch 21 Loss is 0.06428841253121693\n",
      "Epoch 22 Loss is 0.060696329921483994\n",
      "Epoch 23 Loss is 0.06456919386982918\n",
      "Epoch 24 Loss is 0.0599017987648646\n",
      "Epoch 25 Loss is 0.0645558734734853\n",
      "Epoch 26 Loss is 0.05573353357613087\n",
      "Epoch 27 Loss is 0.06296082337697347\n",
      "Epoch 28 Loss is 0.06310040007034938\n",
      "Epoch 29 Loss is 0.0589070034523805\n",
      "Epoch 30 Loss is 0.06036863103508949\n",
      "Epoch 31 Loss is 0.06263948976993561\n",
      "Epoch 32 Loss is 0.06363462656736374\n",
      "Epoch 33 Loss is 0.060572125017642975\n",
      "Epoch 34 Loss is 0.05704152459899584\n",
      "Epoch 35 Loss is 0.06387256210048993\n",
      "Epoch 36 Loss is 0.06094305713971456\n",
      "Epoch 37 Loss is 0.056454554200172424\n",
      "Epoch 38 Loss is 0.05895759786168734\n",
      "Epoch 39 Loss is 0.061041576166947685\n",
      "Epoch 40 Loss is 0.05827809746066729\n",
      "Epoch 41 Loss is 0.06017395729819933\n",
      "Epoch 42 Loss is 0.06042454640070597\n",
      "Epoch 43 Loss is 0.05982333173354467\n",
      "Epoch 44 Loss is 0.06218752637505531\n",
      "Epoch 45 Loss is 0.05894989271958669\n",
      "Epoch 46 Loss is 0.06378241380055745\n",
      "Epoch 47 Loss is 0.06063604851563772\n",
      "Epoch 48 Loss is 0.06042633454004923\n",
      "Epoch 49 Loss is 0.06037260591983795\n",
      "Epoch 50 Loss is 0.058895486096541085\n",
      "Epoch 51 Loss is 0.0616993581255277\n",
      "Epoch 52 Loss is 0.05993609751264254\n",
      "Epoch 53 Loss is 0.0580511229733626\n",
      "Epoch 54 Loss is 0.05601132785280546\n",
      "Epoch 55 Loss is 0.05872434377670288\n",
      "Epoch 56 Loss is 0.05992109080155691\n",
      "Epoch 57 Loss is 0.05899328490098318\n",
      "Epoch 58 Loss is 0.056660628567139305\n",
      "Epoch 59 Loss is 0.059571523219347\n",
      "Epoch 60 Loss is 0.056779528657595314\n",
      "Epoch 61 Loss is 0.056440290063619614\n",
      "Epoch 62 Loss is 0.06012775128086408\n",
      "Epoch 63 Loss is 0.05729403470953306\n",
      "Epoch 64 Loss is 0.06184480090936025\n",
      "Epoch 65 Loss is 0.06011554102102915\n",
      "Epoch 66 Loss is 0.06087849413355192\n",
      "Epoch 67 Loss is 0.05442578469713529\n",
      "Epoch 68 Loss is 0.057060004522403084\n",
      "Epoch 69 Loss is 0.05651744827628136\n",
      "Epoch 70 Loss is 0.05841315786043803\n",
      "Epoch 71 Loss is 0.06192945192257563\n",
      "Epoch 72 Loss is 0.057277953873078026\n",
      "Epoch 73 Loss is 0.05753651758035024\n",
      "Epoch 74 Loss is 0.0592393030722936\n",
      "Epoch 75 Loss is 0.05909693737824758\n",
      "Epoch 76 Loss is 0.0618525892496109\n",
      "Epoch 77 Loss is 0.057560340811808906\n",
      "Epoch 78 Loss is 0.057493362575769424\n",
      "Epoch 79 Loss is 0.059003062546253204\n",
      "Epoch 80 Loss is 0.0571794422964255\n",
      "Epoch 81 Loss is 0.05825203160444895\n",
      "Epoch 82 Loss is 0.05929730087518692\n",
      "Epoch 83 Loss is 0.05704128493865331\n",
      "Epoch 84 Loss is 0.05975019310911497\n",
      "Epoch 85 Loss is 0.058208187421162925\n",
      "Epoch 86 Loss is 0.060408872862656914\n",
      "Epoch 87 Loss is 0.05969388162096342\n",
      "Epoch 88 Loss is 0.05724609891573588\n",
      "Epoch 89 Loss is 0.058648535360892616\n",
      "Epoch 90 Loss is 0.05550821373860041\n",
      "Epoch 91 Loss is 0.05436984573801359\n",
      "Epoch 92 Loss is 0.057833620657523475\n",
      "Epoch 93 Loss is 0.056789337346951164\n",
      "Epoch 94 Loss is 0.05934399118026098\n",
      "Epoch 95 Loss is 0.05851073314746221\n",
      "Epoch 96 Loss is 0.05707641194264094\n",
      "Epoch 97 Loss is 0.0573630246023337\n",
      "Epoch 98 Loss is 0.057751224686702095\n",
      "Epoch 99 Loss is 0.05953069031238556\n",
      "Epoch 100 Loss is 0.05609966690341631\n",
      "Total Time (in minutes) is 0:00:09.142678\n"
     ]
    }
   ],
   "source": [
    "TST_model = TimeSeriesTransformer(n_features=1,d_model=128, n_heads=8, n_hidden=128, n_layers=8 ).to(device)\n",
    "criterion=torch.nn.MSELoss()\n",
    "# 0.00001 is the best LR for TST\n",
    "optimizer = optim.Adam(TST_model.parameters(), lr=0.00001)\n",
    "all_epochs_loss = TST_model.train_model(all_loader,criterion,optimizer,n_epochs = 100 )"
   ]
  },
  {
   "cell_type": "code",
   "execution_count": 11,
   "metadata": {},
   "outputs": [
    {
     "data": {
      "image/png": "[encoded data removed]",
      "text/plain": [
       "<Figure size 432x288 with 1 Axes>"
      ]
     },
     "metadata": {
      "needs_background": "light"
     },
     "output_type": "display_data"
    }
   ],
   "source": [
    "# Epoch 300 Loss is 0.0021550819316568473\n",
    "fig, ax = plt.subplots()\n",
    "plt.plot(all_epochs_loss)\n",
    "\n",
    "ax.set_title('Train Loss')\n",
    "ax.set_xlabel('Epoch')\n",
    "ax.set_ylabel('MSE Loss')\n",
    "plt.show()"
   ]
  },
  {
   "cell_type": "code",
   "execution_count": 12,
   "metadata": {},
   "outputs": [
    {
     "data": {
      "text/plain": [
       "torch.Size([82, 30, 1])"
      ]
     },
     "execution_count": 12,
     "metadata": {},
     "output_type": "execute_result"
    }
   ],
   "source": [
    "torch.FloatTensor(X).to(device).shape"
   ]
  },
  {
   "cell_type": "code",
   "execution_count": 13,
   "metadata": {},
   "outputs": [
    {
     "data": {
      "text/plain": [
       "0"
      ]
     },
     "execution_count": 13,
     "metadata": {},
     "output_type": "execute_result"
    }
   ],
   "source": [
    "import gc\n",
    "gc.collect()"
   ]
  },
  {
   "cell_type": "code",
   "execution_count": 21,
   "metadata": {},
   "outputs": [
    {
     "name": "stdout",
     "output_type": "stream",
     "text": [
      "torch.Size([125, 1, 1])\n"
     ]
    }
   ],
   "source": [
    "def forecast_TST(model, X, forecast_len,n_seed):\n",
    "    model.eval()\n",
    "    datapoint = X.unsqueeze(1) # [S,B,E]\n",
    "    torch.cuda.empty_cache()\n",
    "    for t in range(forecast_len): \n",
    "        \n",
    "        predicted = model(datapoint,None,None).to(device) # [S,B,E] \n",
    "        one_new_timestep=predicted[-1,:,:].unsqueeze(0) # [S,B,E]  -> Get the last predicted timestep\n",
    "        datapoint = torch.cat((datapoint,one_new_timestep),0)  # add the forecasted timestep\n",
    "    print(datapoint.shape)\n",
    "    forecasted = datapoint.squeeze()[n_seed:,] # Skip the first (n)seed timesteps cuz are n_seed\n",
    "    return forecasted\n",
    "\n",
    "forecasted_days_normalized = forecast_TST(TST_model,X=X_all[-1],forecast_len=95,n_seed = window_size )"
   ]
  },
  {
   "cell_type": "code",
   "execution_count": 22,
   "metadata": {},
   "outputs": [
    {
     "data": {
      "text/plain": [
       "torch.Size([95])"
      ]
     },
     "execution_count": 22,
     "metadata": {},
     "output_type": "execute_result"
    }
   ],
   "source": [
    "forecasted_days_normalized.shape"
   ]
  },
  {
   "cell_type": "code",
   "execution_count": 24,
   "metadata": {},
   "outputs": [],
   "source": [
    "daily_forecasted__nonNormalized = scaler.inverse_transform(forecasted_days_normalized.cpu().detach().numpy().reshape(-1, 1))\n",
    "# plt.plot(forecasted_days_normalized.cpu().detach().numpy())\n",
    "cumulative_forecasted = daily_to_cumulative(daily_forecasted__nonNormalized)"
   ]
  },
  {
   "cell_type": "code",
   "execution_count": 25,
   "metadata": {},
   "outputs": [
    {
     "data": {
      "text/plain": [
       "array([39372807.])"
      ]
     },
     "execution_count": 25,
     "metadata": {},
     "output_type": "execute_result"
    }
   ],
   "source": [
    "vaccines_cumulative[-1] + cumulative_forecasted[-1]"
   ]
  },
  {
   "cell_type": "code",
   "execution_count": 20,
   "metadata": {},
   "outputs": [
    {
     "data": {
      "image/png": "[encoded data removed]",
      "text/plain": [
       "<Figure size 1080x360 with 1 Axes>"
      ]
     },
     "metadata": {
      "needs_background": "light"
     },
     "output_type": "display_data"
    }
   ],
   "source": [
    "fig, ax = plt.subplots()\n",
    "# ax.set_ylim([0.0,1.1])\n",
    "\n",
    "plt.plot(daily_forecasted__nonNormalized)\n",
    "\n",
    "# plt.plot(forecasted_once_TST[:,0].cpu().detach().numpy(),label='Forecast Function - TST',marker='o')\n",
    "fig.set_size_inches(15, 5)\n",
    "ax.set_title('{} - Number of Vaccinated People per Day'.format(state))\n",
    "ax.set_xlabel('Days')\n",
    "ax.set_ylabel('Number of People Vaccinated')\n",
    "# leg = ax.legend(bbox_to_anchor=(1.15, 1.01))\n",
    "plt.show()"
   ]
  },
  {
   "cell_type": "code",
   "execution_count": null,
   "metadata": {},
   "outputs": [],
   "source": []
  },
  {
   "cell_type": "code",
   "execution_count": null,
   "metadata": {},
   "outputs": [],
   "source": []
  }
 ],
 "metadata": {
  "kernelspec": {
   "display_name": "Python 3",
   "language": "python",
   "name": "python3"
  },
  "language_info": {
   "codemirror_mode": {
    "name": "ipython",
    "version": 3
   },
   "file_extension": ".py",
   "mimetype": "text/x-python",
   "name": "python",
   "nbconvert_exporter": "python",
   "pygments_lexer": "ipython3",
   "version": "3.6.9"
  }
 },
 "nbformat": 4,
 "nbformat_minor": 4
}

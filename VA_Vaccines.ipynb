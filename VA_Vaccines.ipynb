{
 "cells": [
  {
   "cell_type": "code",
   "execution_count": 1,
   "metadata": {},
   "outputs": [],
   "source": [
    "import pandas as pd\n",
    "import numpy as np\n",
    "import torch\n",
    "from torch import optim\n",
    "from datetime import timedelta\n",
    "from torch.utils.data import DataLoader,TensorDataset\n",
    "import matplotlib\n",
    "import matplotlib.pyplot as plt\n",
    "matplotlib.style.use('ggplot')\n",
    "import plotly.express as px\n",
    "import plotly.graph_objects as go\n",
    "import math\n",
    "from sklearn.preprocessing import MinMaxScaler\n",
    "from sklearn.metrics import r2_score, mean_absolute_percentage_error\n",
    "from TST import TimeSeriesTransformer\n",
    "from LSTM import COVID_LSTM\n",
    "from GRU import COVID_GRU\n",
    "\n",
    "%matplotlib inline\n",
    "device = torch.device('cuda:0' if torch.cuda.is_available() else 'cpu') \n",
    "from Utils import count_parameters, cumulative_to_daily, daily_to_cumulative"
   ]
  },
  {
   "cell_type": "markdown",
   "metadata": {},
   "source": [
    "# Importing Dataset"
   ]
  },
  {
   "cell_type": "code",
   "execution_count": 8,
   "metadata": {},
   "outputs": [],
   "source": [
    "state = 'VA'\n",
    "df = pd.read_csv('us-vaccines.csv').drop(['Code'],1)\n",
    "vaccines_daily = df[df['Entity']=='Virginia']['people_vaccinated'].to_numpy().reshape(-1,1)\n"
   ]
  },
  {
   "cell_type": "markdown",
   "metadata": {},
   "source": [
    "States to be worked on are: Northern Mariana Islands, Virgin Islands, Guam\n",
    "\n",
    "Texas\t, California, New York\n",
    "\n",
    "Virginia"
   ]
  },
  {
   "cell_type": "markdown",
   "metadata": {},
   "source": [
    "# Preprocessing Data"
   ]
  },
  {
   "cell_type": "code",
   "execution_count": 9,
   "metadata": {},
   "outputs": [],
   "source": [
    "scaler = MinMaxScaler(feature_range=(-1.0,+1.0))\n",
    "vaccines_cumulative_normalized = scaler.fit_transform(vaccines_daily)"
   ]
  },
  {
   "cell_type": "code",
   "execution_count": 10,
   "metadata": {},
   "outputs": [],
   "source": [
    "def convert_to_slide_window(data,time_steps):\n",
    "    X, y = [], []\n",
    "    # Stride = 1\n",
    "    # The (y) in our case is just the next timestep to compare with it\n",
    "    for i in range(len(data) - time_steps):\n",
    "        x = data[i:(i+time_steps)]\n",
    "        X.append(x)\n",
    "        y.append(data[i+time_steps])\n",
    "    return X,y"
   ]
  },
  {
   "cell_type": "code",
   "execution_count": 11,
   "metadata": {},
   "outputs": [],
   "source": [
    "window_size = 30\n",
    "\n",
    "X,Y = convert_to_slide_window(vaccines_cumulative_normalized,window_size)\n",
    "split = int(len(X) * 0.7)\n",
    "\n",
    "X_train,y_train=X[:split],Y[:split]\n",
    "X_test,y_test =X[split:],Y[split:]\n",
    "\n",
    "# Cumulative + Non-Normalized\n",
    "X_train, y_train = torch.FloatTensor(X_train).to(device), torch.FloatTensor(y_train).to(device)\n",
    "X_test, y_test  = torch.FloatTensor(X_test).to(device), torch.FloatTensor(y_test).to(device)\n",
    "\n",
    "# Load into DataLoader\n",
    "train_loader = DataLoader(TensorDataset(X_train, y_train),batch_size=32, shuffle=True)\n",
    "test_loader = DataLoader(TensorDataset(X_test, y_test), shuffle=False)\n",
    "\n",
    "# Cumulative + Non-Normalized\n",
    "y_test_inverse = scaler.inverse_transform(y_test.cpu().detach().numpy())\n",
    "y_train_inverse = scaler.inverse_transform(y_train.cpu().detach().numpy())\n",
    "\n",
    "# Non-Cumulative + Non-Normalized\n",
    "y_test_daily_vaccines = cumulative_to_daily(y_test_inverse)\n"
   ]
  },
  {
   "cell_type": "code",
   "execution_count": 12,
   "metadata": {},
   "outputs": [
    {
     "data": {
      "text/plain": [
       "(24, 1)"
      ]
     },
     "execution_count": 12,
     "metadata": {},
     "output_type": "execute_result"
    }
   ],
   "source": [
    "y_test_inverse.shape"
   ]
  },
  {
   "cell_type": "markdown",
   "metadata": {},
   "source": [
    "# TST Model"
   ]
  },
  {
   "cell_type": "code",
   "execution_count": 13,
   "metadata": {},
   "outputs": [
    {
     "name": "stdout",
     "output_type": "stream",
     "text": [
      "Epoch 1 Loss is 0.316432848572731\n",
      "Epoch 2 Loss is 0.2376377135515213\n",
      "Epoch 3 Loss is 0.1739860624074936\n",
      "Epoch 4 Loss is 0.14866891503334045\n",
      "Epoch 5 Loss is 0.1505245454609394\n",
      "Epoch 6 Loss is 0.07940430752933025\n",
      "Epoch 7 Loss is 0.15038936585187912\n",
      "Epoch 8 Loss is 0.11647443100810051\n",
      "Epoch 9 Loss is 0.09397303685545921\n",
      "Epoch 10 Loss is 0.08864062279462814\n",
      "Epoch 11 Loss is 0.06769009120762348\n",
      "Epoch 12 Loss is 0.0633356161415577\n",
      "Epoch 13 Loss is 0.05865069851279259\n",
      "Epoch 14 Loss is 0.05122378468513489\n",
      "Epoch 15 Loss is 0.045898811891674995\n",
      "Epoch 16 Loss is 0.04695818945765495\n",
      "Epoch 17 Loss is 0.042727963998913765\n",
      "Epoch 18 Loss is 0.031922358088195324\n",
      "Epoch 19 Loss is 0.041181713342666626\n",
      "Epoch 20 Loss is 0.023264430463314056\n",
      "Epoch 21 Loss is 0.018330339342355728\n",
      "Epoch 22 Loss is 0.030301621183753014\n",
      "Epoch 23 Loss is 0.015710346400737762\n",
      "Epoch 24 Loss is 0.012773605063557625\n",
      "Epoch 25 Loss is 0.020949652418494225\n",
      "Epoch 26 Loss is 0.008348988369107246\n",
      "Epoch 27 Loss is 0.010836338624358177\n",
      "Epoch 28 Loss is 0.015216197818517685\n",
      "Epoch 29 Loss is 0.007460770895704627\n",
      "Epoch 30 Loss is 0.009576171403750777\n",
      "Epoch 31 Loss is 0.012424144893884659\n",
      "Epoch 32 Loss is 0.006223806878551841\n",
      "Epoch 33 Loss is 0.00941396807320416\n",
      "Epoch 34 Loss is 0.011544576147571206\n",
      "Epoch 35 Loss is 0.005622970638796687\n",
      "Epoch 36 Loss is 0.009896941832266748\n",
      "Epoch 37 Loss is 0.010956515092402697\n",
      "Epoch 38 Loss is 0.005387111566960812\n",
      "Epoch 39 Loss is 0.007797103375196457\n",
      "Epoch 40 Loss is 0.011184689588844776\n",
      "Epoch 41 Loss is 0.0052118487656116486\n",
      "Epoch 42 Loss is 0.008512293919920921\n",
      "Epoch 43 Loss is 0.011554967612028122\n",
      "Epoch 44 Loss is 0.005776474718004465\n",
      "Epoch 45 Loss is 0.007239855243824422\n",
      "Epoch 46 Loss is 0.011588708031922579\n",
      "Epoch 47 Loss is 0.005001680692657828\n",
      "Epoch 48 Loss is 0.006779597606509924\n",
      "Epoch 49 Loss is 0.011959535302594304\n",
      "Epoch 50 Loss is 0.004845635965466499\n",
      "Epoch 51 Loss is 0.006297297193668783\n",
      "Epoch 52 Loss is 0.011803484056144953\n",
      "Epoch 53 Loss is 0.005156306782737374\n",
      "Epoch 54 Loss is 0.006776133785024285\n",
      "Epoch 55 Loss is 0.011544382199645042\n",
      "Epoch 56 Loss is 0.00468835118226707\n",
      "Epoch 57 Loss is 0.006065152585506439\n",
      "Epoch 58 Loss is 0.011682439129799604\n",
      "Epoch 59 Loss is 0.0048759321216493845\n",
      "Epoch 60 Loss is 0.006156932911835611\n",
      "Epoch 61 Loss is 0.012290522223338485\n",
      "Epoch 62 Loss is 0.004807588178664446\n",
      "Epoch 63 Loss is 0.006326564529445022\n",
      "Epoch 64 Loss is 0.012679746374487877\n",
      "Epoch 65 Loss is 0.0046136651653796434\n",
      "Epoch 66 Loss is 0.005614707130007446\n",
      "Epoch 67 Loss is 0.01263224147260189\n",
      "Epoch 68 Loss is 0.005274478113278747\n",
      "Epoch 69 Loss is 0.0054660922614857554\n",
      "Epoch 70 Loss is 0.012192464899271727\n",
      "Epoch 71 Loss is 0.0049112176056951284\n",
      "Epoch 72 Loss is 0.00487308157607913\n",
      "Epoch 73 Loss is 0.013030490837991238\n",
      "Epoch 74 Loss is 0.004373308504000306\n",
      "Epoch 75 Loss is 0.004565508104860783\n",
      "Epoch 76 Loss is 0.012842252850532532\n",
      "Epoch 77 Loss is 0.004486491903662682\n",
      "Epoch 78 Loss is 0.0049970196560025215\n",
      "Epoch 79 Loss is 0.013036324642598629\n",
      "Epoch 80 Loss is 0.004731011227704585\n",
      "Epoch 81 Loss is 0.004637819423805922\n",
      "Epoch 82 Loss is 0.012734517455101013\n",
      "Epoch 83 Loss is 0.004478664486669004\n",
      "Epoch 84 Loss is 0.0045839964877814054\n",
      "Epoch 85 Loss is 0.013059612363576889\n",
      "Epoch 86 Loss is 0.0044623431749641895\n",
      "Epoch 87 Loss is 0.00439469562843442\n",
      "Epoch 88 Loss is 0.012949270196259022\n",
      "Epoch 89 Loss is 0.004413639195263386\n",
      "Epoch 90 Loss is 0.004466157406568527\n",
      "Epoch 91 Loss is 0.013215634040534496\n",
      "Epoch 92 Loss is 0.00425739586353302\n",
      "Epoch 93 Loss is 0.004000965156592429\n",
      "Epoch 94 Loss is 0.013611472211778164\n",
      "Epoch 95 Loss is 0.00424871442373842\n",
      "Epoch 96 Loss is 0.004015689599327743\n",
      "Epoch 97 Loss is 0.01306353323161602\n",
      "Epoch 98 Loss is 0.004358382895588875\n",
      "Epoch 99 Loss is 0.003962735645473003\n",
      "Epoch 100 Loss is 0.01347116706892848\n",
      "Total Time (in minutes) is 0:00:03.870724\n"
     ]
    }
   ],
   "source": [
    "TST_model = TimeSeriesTransformer(n_features=1,d_model=512, n_heads=8, n_hidden=512, n_layers=8 ).to(device)\n",
    "criterion=torch.nn.MSELoss()\n",
    "# 0.00001 is the best LR for TST\n",
    "optimizer = optim.Adam(TST_model.parameters(), lr=0.00001)\n",
    "all_epochs_loss = TST_model.train_model(train_loader,criterion,optimizer,n_epochs = 100 )\n",
    "torch.save(TST_model.state_dict(), 'Weights/model_TST_{}_Vaccine'.format(state))\n",
    "# TST_model.load_state_dict(torch.load('Weights/model_TST_{}_Vaccine'.format(state)))"
   ]
  },
  {
   "cell_type": "code",
   "execution_count": 14,
   "metadata": {},
   "outputs": [
    {
     "data": {
      "image/png": "[encoded data removed]",
      "text/plain": [
       "<Figure size 432x288 with 1 Axes>"
      ]
     },
     "metadata": {
      "needs_background": "light"
     },
     "output_type": "display_data"
    }
   ],
   "source": [
    "# Epoch 300 Loss is 0.0021550819316568473\n",
    "fig, ax = plt.subplots()\n",
    "plt.plot(all_epochs_loss)\n",
    "\n",
    "ax.set_title('Train Loss')\n",
    "ax.set_xlabel('Epoch')\n",
    "ax.set_ylabel('MSE Loss')\n",
    "plt.show()"
   ]
  },
  {
   "cell_type": "code",
   "execution_count": 15,
   "metadata": {},
   "outputs": [
    {
     "name": "stdout",
     "output_type": "stream",
     "text": [
      "TST: Test MSE Loss:  0.007852326147258282\n"
     ]
    }
   ],
   "source": [
    "def test_TST(model, X):\n",
    "    model.eval()\n",
    "    torch.cuda.empty_cache()\n",
    "    S = X.shape[1] # Sequence Length\n",
    "    src_mask = model.generate_square_subsequent_mask(S)\n",
    "    predicted = model(X.permute(1,0,2),None,None).to(device) # [Batch Size, Sequence Length, n_features = 1]\n",
    "    one_new_timesteps=predicted[-1,:,:] # [Batch Size, Sequence Length (Last time step), n_features = 1] -> [Batch Size,]\n",
    "    print('TST: Test MSE Loss: ',criterion(one_new_timesteps,y_test).item())\n",
    "    return one_new_timesteps\n",
    "forecasted_TST = test_TST(TST_model, X=X_test)"
   ]
  },
  {
   "cell_type": "code",
   "execution_count": 16,
   "metadata": {},
   "outputs": [
    {
     "data": {
      "text/plain": [
       "torch.Size([30, 1])"
      ]
     },
     "execution_count": 16,
     "metadata": {},
     "output_type": "execute_result"
    }
   ],
   "source": [
    "X_train[-1].shape"
   ]
  },
  {
   "cell_type": "code",
   "execution_count": 17,
   "metadata": {},
   "outputs": [
    {
     "name": "stdout",
     "output_type": "stream",
     "text": [
      "Test MSE Loss:  tensor(0.0780, device='cuda:0', grad_fn=<MseLossBackward>)\n"
     ]
    },
    {
     "name": "stderr",
     "output_type": "stream",
     "text": [
      "/rhome/yelnady/.local/lib/python3.6/site-packages/torch/nn/modules/loss.py:528: UserWarning:\n",
      "\n",
      "Using a target size (torch.Size([24, 1])) that is different to the input size (torch.Size([24])). This will likely lead to incorrect results due to broadcasting. Please ensure they have the same size.\n",
      "\n"
     ]
    }
   ],
   "source": [
    "def forecast_TST(model, X, forecast_len,n_seed):\n",
    "    model.eval()\n",
    "    datapoint = X.unsqueeze(1) # [S,B,E]\n",
    "    torch.cuda.empty_cache()\n",
    "    for t in range(forecast_len): \n",
    "        \n",
    "        predicted = model(datapoint[-n_seed:,],None,None).to(device) # [S,B,E] \n",
    "        one_new_timestep=predicted[-1,:,:].unsqueeze(0) # [S,B,E]  -> Get the last predicted timestep\n",
    "        datapoint = torch.cat((datapoint,one_new_timestep),0)  # add the forecasted timestep\n",
    "        \n",
    "    forecasted = datapoint.squeeze()[n_seed:,] # Skip the first (n)seed timesteps cuz are n_seed\n",
    "    print('Test MSE Loss: ',criterion(forecasted,y_test))\n",
    "    return forecasted\n",
    "\n",
    "forecasted_once_TST = forecast_TST(TST_model,X=X_test[0],forecast_len=len(y_test),n_seed = window_size )"
   ]
  },
  {
   "cell_type": "code",
   "execution_count": 18,
   "metadata": {},
   "outputs": [
    {
     "name": "stdout",
     "output_type": "stream",
     "text": [
      "We used 12625409 Parameters for the transformer model\n"
     ]
    }
   ],
   "source": [
    "print(\"We used {} Parameters for the transformer model\".format(count_parameters(TST_model)))"
   ]
  },
  {
   "cell_type": "code",
   "execution_count": 19,
   "metadata": {},
   "outputs": [],
   "source": [
    "forecasted_inverse_TST = scaler.inverse_transform(forecasted_TST.cpu().detach().numpy())\n",
    "forecasted_daily_vaccines_TST  = cumulative_to_daily(forecasted_inverse_TST)"
   ]
  },
  {
   "cell_type": "code",
   "execution_count": 20,
   "metadata": {},
   "outputs": [
    {
     "name": "stdout",
     "output_type": "stream",
     "text": [
      "R2 Score for Vaccines 0.8596415650492614\n",
      "MAPE Score for Vaccines 0.15493302\n"
     ]
    }
   ],
   "source": [
    "print('R2 Score for Vaccines',r2_score(y_test.cpu().detach().numpy(),forecasted_TST.cpu().detach().numpy()))\n",
    "print('MAPE Score for Vaccines',mean_absolute_percentage_error(y_test.cpu().detach().numpy(),forecasted_TST.cpu().detach().numpy()))"
   ]
  },
  {
   "cell_type": "markdown",
   "metadata": {},
   "source": [
    "# LSTM Model"
   ]
  },
  {
   "cell_type": "code",
   "execution_count": 21,
   "metadata": {},
   "outputs": [
    {
     "name": "stdout",
     "output_type": "stream",
     "text": [
      "Epoch 1 Loss is 0.23240914940834045\n",
      "Epoch 2 Loss is 0.21407172828912735\n",
      "Epoch 3 Loss is 0.20442833006381989\n",
      "Epoch 4 Loss is 0.19388751685619354\n",
      "Epoch 5 Loss is 0.18090897053480148\n",
      "Epoch 6 Loss is 0.17047487199306488\n",
      "Epoch 7 Loss is 0.15799109637737274\n",
      "Epoch 8 Loss is 0.14947278052568436\n",
      "Epoch 9 Loss is 0.13263622671365738\n",
      "Epoch 10 Loss is 0.12440423667430878\n",
      "Epoch 11 Loss is 0.11375657469034195\n",
      "Epoch 12 Loss is 0.10096640512347221\n",
      "Epoch 13 Loss is 0.09152746200561523\n",
      "Epoch 14 Loss is 0.08521614968776703\n",
      "Epoch 15 Loss is 0.0765455849468708\n",
      "Epoch 16 Loss is 0.08108506351709366\n",
      "Epoch 17 Loss is 0.084254689514637\n",
      "Epoch 18 Loss is 0.08188808709383011\n",
      "Epoch 19 Loss is 0.08143334835767746\n",
      "Epoch 20 Loss is 0.07606031373143196\n",
      "Epoch 21 Loss is 0.07505704835057259\n",
      "Epoch 22 Loss is 0.07353535294532776\n",
      "Epoch 23 Loss is 0.07330889999866486\n",
      "Epoch 24 Loss is 0.07328835874795914\n",
      "Epoch 25 Loss is 0.07077135518193245\n",
      "Epoch 26 Loss is 0.07363303378224373\n",
      "Epoch 27 Loss is 0.06848739087581635\n",
      "Epoch 28 Loss is 0.06605608388781548\n",
      "Epoch 29 Loss is 0.06671811640262604\n",
      "Epoch 30 Loss is 0.06214914843440056\n",
      "Epoch 31 Loss is 0.061163777485489845\n",
      "Epoch 32 Loss is 0.06134847551584244\n",
      "Epoch 33 Loss is 0.05775286443531513\n",
      "Epoch 34 Loss is 0.057135237380862236\n",
      "Epoch 35 Loss is 0.05263659171760082\n",
      "Epoch 36 Loss is 0.04911067150533199\n",
      "Epoch 37 Loss is 0.044274160638451576\n",
      "Epoch 38 Loss is 0.04182573780417442\n",
      "Epoch 39 Loss is 0.03679470159113407\n",
      "Epoch 40 Loss is 0.03297890815883875\n",
      "Epoch 41 Loss is 0.025998440571129322\n",
      "Epoch 42 Loss is 0.022435558959841728\n",
      "Epoch 43 Loss is 0.01676773512735963\n",
      "Epoch 44 Loss is 0.014476524665951729\n",
      "Epoch 45 Loss is 0.01200628257356584\n",
      "Epoch 46 Loss is 0.011337743140757084\n",
      "Epoch 47 Loss is 0.011178711894899607\n",
      "Epoch 48 Loss is 0.011649382766336203\n",
      "Epoch 49 Loss is 0.011349881067872047\n",
      "Epoch 50 Loss is 0.011362814344465733\n",
      "Epoch 51 Loss is 0.010908510070294142\n",
      "Epoch 52 Loss is 0.010172090493142605\n",
      "Epoch 53 Loss is 0.010060945060104132\n",
      "Epoch 54 Loss is 0.009106675162911415\n",
      "Epoch 55 Loss is 0.009046976920217276\n",
      "Epoch 56 Loss is 0.00826881336979568\n",
      "Epoch 57 Loss is 0.007976194843649864\n",
      "Epoch 58 Loss is 0.007109550759196281\n",
      "Epoch 59 Loss is 0.0071015681605786085\n",
      "Epoch 60 Loss is 0.006381217855960131\n",
      "Epoch 61 Loss is 0.006324558053165674\n",
      "Epoch 62 Loss is 0.006052399519830942\n",
      "Epoch 63 Loss is 0.0060339991468936205\n",
      "Epoch 64 Loss is 0.005644935183227062\n",
      "Epoch 65 Loss is 0.005085380980744958\n",
      "Epoch 66 Loss is 0.00484380591660738\n",
      "Epoch 67 Loss is 0.0048804450780153275\n",
      "Epoch 68 Loss is 0.0046955018769949675\n",
      "Epoch 69 Loss is 0.004292171448469162\n",
      "Epoch 70 Loss is 0.0040342919528484344\n",
      "Epoch 71 Loss is 0.0035882623633369803\n",
      "Epoch 72 Loss is 0.003405295661650598\n",
      "Epoch 73 Loss is 0.003307356033474207\n",
      "Epoch 74 Loss is 0.0028383274329826236\n",
      "Epoch 75 Loss is 0.0027109249494969845\n",
      "Epoch 76 Loss is 0.0026332837296649814\n",
      "Epoch 77 Loss is 0.002481802075635642\n",
      "Epoch 78 Loss is 0.0020426081027835608\n",
      "Epoch 79 Loss is 0.0018821631092578173\n",
      "Epoch 80 Loss is 0.0016546236583963037\n",
      "Epoch 81 Loss is 0.0015156801673583686\n",
      "Epoch 82 Loss is 0.001350956503301859\n",
      "Epoch 83 Loss is 0.0012289219885133207\n",
      "Epoch 84 Loss is 0.001040930044837296\n",
      "Epoch 85 Loss is 0.0009667990962043405\n",
      "Epoch 86 Loss is 0.0008050755131989717\n",
      "Epoch 87 Loss is 0.0007111206650733948\n",
      "Epoch 88 Loss is 0.0006063573528081179\n",
      "Epoch 89 Loss is 0.0005574352398980409\n",
      "Epoch 90 Loss is 0.0005025375867262483\n",
      "Epoch 91 Loss is 0.00044789479579776525\n",
      "Epoch 92 Loss is 0.0003843292943201959\n",
      "Epoch 93 Loss is 0.0003456665435805917\n",
      "Epoch 94 Loss is 0.0003355039516463876\n",
      "Epoch 95 Loss is 0.00030369465821422637\n",
      "Epoch 96 Loss is 0.00029398970946203917\n",
      "Epoch 97 Loss is 0.0002630704766488634\n",
      "Epoch 98 Loss is 0.0002642794861458242\n",
      "Epoch 99 Loss is 0.0002641505270730704\n",
      "Epoch 100 Loss is 0.00026112774503417313\n",
      "Total Time (in minutes) is 0:00:02.963051\n"
     ]
    }
   ],
   "source": [
    "LSTM_model = COVID_LSTM(n_hidden=256,n_features=1).to(device)\n",
    "criterion=torch.nn.MSELoss()\n",
    "optimizer = optim.Adam(LSTM_model.parameters(), lr=0.0001)\n",
    "all_epochs_loss = LSTM_model.train_model(train_loader,criterion,optimizer,n_epochs = 100 )\n",
    "torch.save(LSTM_model.state_dict(), 'Weights/model_LSTM_{}_Vaccine'.format(state))\n",
    "# LSTM_model.load_state_dict(torch.load('Weights/model_LSTM_{}_Vaccine'.format(state)))"
   ]
  },
  {
   "cell_type": "code",
   "execution_count": 22,
   "metadata": {},
   "outputs": [
    {
     "name": "stdout",
     "output_type": "stream",
     "text": [
      "LSTM: Test MSE Loss:  0.07733190804719925\n"
     ]
    }
   ],
   "source": [
    "def test_LSTM(model, X):\n",
    "    model.eval()\n",
    "    torch.cuda.empty_cache()\n",
    "    predicted = model(X).to(device) # [Batch Size, Sequence Length, n_features = 1]\n",
    "    one_new_timesteps=predicted[:,-1,:] # [Batch Size, Sequence Length (Last time step), n_features = 1] -> [Batch Size,]\n",
    "    print('LSTM: Test MSE Loss: ',criterion(one_new_timesteps,y_test).item())\n",
    "    return one_new_timesteps\n",
    "\n",
    "forecasted_LSTM = test_LSTM(LSTM_model, X=X_test)"
   ]
  },
  {
   "cell_type": "code",
   "execution_count": 23,
   "metadata": {},
   "outputs": [
    {
     "data": {
      "text/plain": [
       "torch.Size([24, 30, 1])"
      ]
     },
     "execution_count": 23,
     "metadata": {},
     "output_type": "execute_result"
    }
   ],
   "source": [
    "X_test.shape"
   ]
  },
  {
   "cell_type": "code",
   "execution_count": 24,
   "metadata": {},
   "outputs": [
    {
     "name": "stdout",
     "output_type": "stream",
     "text": [
      "Test MSE Loss:  tensor(0.1371, device='cuda:0', grad_fn=<MseLossBackward>)\n"
     ]
    },
    {
     "name": "stderr",
     "output_type": "stream",
     "text": [
      "/rhome/yelnady/.local/lib/python3.6/site-packages/torch/nn/modules/loss.py:528: UserWarning:\n",
      "\n",
      "Using a target size (torch.Size([24, 1])) that is different to the input size (torch.Size([24])). This will likely lead to incorrect results due to broadcasting. Please ensure they have the same size.\n",
      "\n"
     ]
    }
   ],
   "source": [
    "def forecast_LSTM(model, X, forecast_len,n_seed):\n",
    "    model.eval()\n",
    "    datapoint = X.unsqueeze(0) # [S,B,E]\n",
    "    torch.cuda.empty_cache()\n",
    "    for t in range(forecast_len): \n",
    "        \n",
    "        predicted = model(datapoint[-n_seed:,]).to(device) # [B,S,E] \n",
    "        \n",
    "        one_new_timestep=predicted[:,-1,:].unsqueeze(0) # [S,B,E]  -> Get the last predicted timestep\n",
    "        datapoint = torch.cat((datapoint,one_new_timestep),1)  # add the forecasted timestep\n",
    "    forecasted = datapoint.squeeze()[n_seed:,] # Skip the first (n)seed timesteps cuz are n_seed\n",
    "    print('Test MSE Loss: ',criterion(forecasted,y_test))\n",
    "    return forecasted\n",
    "\n",
    "forecasted_once_LSTM = forecast_LSTM(LSTM_model,X=X_test[0],forecast_len=len(y_test),n_seed = window_size )"
   ]
  },
  {
   "cell_type": "code",
   "execution_count": 25,
   "metadata": {},
   "outputs": [],
   "source": [
    "forecasted_inverse_LSTM = scaler.inverse_transform(forecasted_LSTM.cpu().detach().numpy())\n",
    "forecasted_daily_vaccines_LSTM  = cumulative_to_daily(forecasted_inverse_LSTM)"
   ]
  },
  {
   "cell_type": "code",
   "execution_count": 26,
   "metadata": {},
   "outputs": [
    {
     "name": "stdout",
     "output_type": "stream",
     "text": [
      "R2 Score for Vaccines 0.9912663142685547\n",
      "MAPE Score for Vaccines 0.55305696\n"
     ]
    }
   ],
   "source": [
    "print('R2 Score for Vaccines',r2_score(y_test_daily_vaccines,forecasted_daily_vaccines_LSTM))\n",
    "print('MAPE Score for Vaccines',mean_absolute_percentage_error(y_test_daily_vaccines,forecasted_daily_vaccines_LSTM))"
   ]
  },
  {
   "cell_type": "markdown",
   "metadata": {},
   "source": [
    "# GRU Model"
   ]
  },
  {
   "cell_type": "code",
   "execution_count": 27,
   "metadata": {},
   "outputs": [
    {
     "name": "stdout",
     "output_type": "stream",
     "text": [
      "Epoch 1 Loss is 0.2545509934425354\n",
      "Epoch 2 Loss is 0.2206553816795349\n",
      "Epoch 3 Loss is 0.1833764985203743\n",
      "Epoch 4 Loss is 0.15351028740406036\n",
      "Epoch 5 Loss is 0.1272818073630333\n",
      "Epoch 6 Loss is 0.10782108083367348\n",
      "Epoch 7 Loss is 0.08855042606592178\n",
      "Epoch 8 Loss is 0.07992173358798027\n",
      "Epoch 9 Loss is 0.07239563018083572\n",
      "Epoch 10 Loss is 0.07414833456277847\n",
      "Epoch 11 Loss is 0.07079758495092392\n",
      "Epoch 12 Loss is 0.07706018909811974\n",
      "Epoch 13 Loss is 0.0734574943780899\n",
      "Epoch 14 Loss is 0.06986382603645325\n",
      "Epoch 15 Loss is 0.0662982426583767\n",
      "Epoch 16 Loss is 0.06244877353310585\n",
      "Epoch 17 Loss is 0.05834408104419708\n",
      "Epoch 18 Loss is 0.05695861950516701\n",
      "Epoch 19 Loss is 0.0534797552973032\n",
      "Epoch 20 Loss is 0.05198913440108299\n",
      "Epoch 21 Loss is 0.05164201557636261\n",
      "Epoch 22 Loss is 0.049130773171782494\n",
      "Epoch 23 Loss is 0.0454261489212513\n",
      "Epoch 24 Loss is 0.04185084439814091\n",
      "Epoch 25 Loss is 0.038994163274765015\n",
      "Epoch 26 Loss is 0.037102239206433296\n",
      "Epoch 27 Loss is 0.031280760653316975\n",
      "Epoch 28 Loss is 0.02880808152258396\n",
      "Epoch 29 Loss is 0.024689888581633568\n",
      "Epoch 30 Loss is 0.02098134532570839\n",
      "Epoch 31 Loss is 0.01729639247059822\n",
      "Epoch 32 Loss is 0.013386087026447058\n",
      "Epoch 33 Loss is 0.009599294513463974\n",
      "Epoch 34 Loss is 0.006395144388079643\n",
      "Epoch 35 Loss is 0.0036812727339565754\n",
      "Epoch 36 Loss is 0.0017111339839175344\n",
      "Epoch 37 Loss is 0.0009551471739541739\n",
      "Epoch 38 Loss is 0.0011142389266751707\n",
      "Epoch 39 Loss is 0.0018938780413009226\n",
      "Epoch 40 Loss is 0.0025178033392876387\n",
      "Epoch 41 Loss is 0.003018071409314871\n",
      "Epoch 42 Loss is 0.0025104607921093702\n",
      "Epoch 43 Loss is 0.001984234433621168\n",
      "Epoch 44 Loss is 0.0014454824849963188\n",
      "Epoch 45 Loss is 0.0009991461120080203\n",
      "Epoch 46 Loss is 0.0008600018045399338\n",
      "Epoch 47 Loss is 0.0008802604279480875\n",
      "Epoch 48 Loss is 0.0009014478418976068\n",
      "Epoch 49 Loss is 0.0009716267813928425\n",
      "Epoch 50 Loss is 0.0010463978396728635\n",
      "Epoch 51 Loss is 0.0010348110226914287\n",
      "Epoch 52 Loss is 0.001024952856823802\n",
      "Epoch 53 Loss is 0.0009678897622507066\n",
      "Epoch 54 Loss is 0.0008988578920252621\n",
      "Epoch 55 Loss is 0.000789724086644128\n",
      "Epoch 56 Loss is 0.0007850680267438293\n",
      "Epoch 57 Loss is 0.0007702307775616646\n",
      "Epoch 58 Loss is 0.00074203428812325\n",
      "Epoch 59 Loss is 0.0008211754902731627\n",
      "Epoch 60 Loss is 0.000771696271840483\n",
      "Epoch 61 Loss is 0.0007619059178978205\n",
      "Epoch 62 Loss is 0.0007893701258581132\n",
      "Epoch 63 Loss is 0.0007330012740567327\n",
      "Epoch 64 Loss is 0.0007171829929575324\n",
      "Epoch 65 Loss is 0.000741553696570918\n",
      "Epoch 66 Loss is 0.0007294321549125016\n",
      "Epoch 67 Loss is 0.0007295440009329468\n",
      "Epoch 68 Loss is 0.0007120011723600328\n",
      "Epoch 69 Loss is 0.0006962013430893421\n",
      "Epoch 70 Loss is 0.0007283901795744896\n",
      "Epoch 71 Loss is 0.0006565977237187326\n",
      "Epoch 72 Loss is 0.0006754008354619145\n",
      "Epoch 73 Loss is 0.0006405530439224094\n",
      "Epoch 74 Loss is 0.0006626530957873911\n",
      "Epoch 75 Loss is 0.0006619998603127897\n",
      "Epoch 76 Loss is 0.0006611339631490409\n",
      "Epoch 77 Loss is 0.0006457350100390613\n",
      "Epoch 78 Loss is 0.0006424822786357254\n",
      "Epoch 79 Loss is 0.0006362925341818482\n",
      "Epoch 80 Loss is 0.000640807586023584\n",
      "Epoch 81 Loss is 0.0006226212135516107\n",
      "Epoch 82 Loss is 0.0006148258107714355\n",
      "Epoch 83 Loss is 0.0006336341903079301\n",
      "Epoch 84 Loss is 0.000592512427829206\n",
      "Epoch 85 Loss is 0.0005791772855445743\n",
      "Epoch 86 Loss is 0.0006017395353410393\n",
      "Epoch 87 Loss is 0.0005872002220712602\n",
      "Epoch 88 Loss is 0.0005773089651484042\n",
      "Epoch 89 Loss is 0.0005737701430916786\n",
      "Epoch 90 Loss is 0.0005665204080287367\n",
      "Epoch 91 Loss is 0.0005726761592086405\n",
      "Epoch 92 Loss is 0.0005540556448977441\n",
      "Epoch 93 Loss is 0.0005624491313938051\n",
      "Epoch 94 Loss is 0.000579578336328268\n",
      "Epoch 95 Loss is 0.0005503283173311502\n",
      "Epoch 96 Loss is 0.0005479397805174813\n",
      "Epoch 97 Loss is 0.0005254139250610024\n",
      "Epoch 98 Loss is 0.0005361168878152966\n",
      "Epoch 99 Loss is 0.0005172426463104784\n",
      "Epoch 100 Loss is 0.0005225552595220506\n",
      "Total Time (in minutes) is 0:00:03.083125\n"
     ]
    }
   ],
   "source": [
    "GRU_model = COVID_GRU(n_hidden=256,n_features=1).to(device)\n",
    "criterion=torch.nn.MSELoss()\n",
    "optimizer = optim.Adam(GRU_model.parameters(), lr=0.0001)\n",
    "all_epochs_loss = GRU_model.train_model(train_loader,criterion,optimizer,n_epochs = 100 )\n",
    "torch.save(GRU_model.state_dict(), 'Weights/model_GRU_{}_Vaccine'.format(state))\n",
    "# GRU_model.load_state_dict(torch.load('Weights/model_GRU_{}_Vaccine'.format(state)))"
   ]
  },
  {
   "cell_type": "code",
   "execution_count": 28,
   "metadata": {},
   "outputs": [
    {
     "name": "stdout",
     "output_type": "stream",
     "text": [
      "GRU: Test MSE Loss:  0.011892419308423996\n"
     ]
    }
   ],
   "source": [
    "def test_GRU(model, X):\n",
    "    model.eval()\n",
    "    torch.cuda.empty_cache()\n",
    "    predicted = model(X).to(device) # [Batch Size, Sequence Length, n_features = 1]\n",
    "    one_new_timesteps=predicted[:,-1,:] # [Batch Size, Sequence Length (Last time step), n_features = 1] -> [Batch Size,]\n",
    "    print('GRU: Test MSE Loss: ',criterion(one_new_timesteps,y_test).item())\n",
    "    return one_new_timesteps\n",
    "\n",
    "forecasted_GRU = test_GRU(GRU_model, X=X_test)"
   ]
  },
  {
   "cell_type": "code",
   "execution_count": 29,
   "metadata": {},
   "outputs": [
    {
     "data": {
      "text/plain": [
       "torch.Size([24, 30, 1])"
      ]
     },
     "execution_count": 29,
     "metadata": {},
     "output_type": "execute_result"
    }
   ],
   "source": [
    "X_test.shape"
   ]
  },
  {
   "cell_type": "code",
   "execution_count": 30,
   "metadata": {},
   "outputs": [
    {
     "name": "stdout",
     "output_type": "stream",
     "text": [
      "Test MSE Loss:  tensor(0.0808, device='cuda:0', grad_fn=<MseLossBackward>)\n"
     ]
    },
    {
     "name": "stderr",
     "output_type": "stream",
     "text": [
      "/rhome/yelnady/.local/lib/python3.6/site-packages/torch/nn/modules/loss.py:528: UserWarning:\n",
      "\n",
      "Using a target size (torch.Size([24, 1])) that is different to the input size (torch.Size([24])). This will likely lead to incorrect results due to broadcasting. Please ensure they have the same size.\n",
      "\n"
     ]
    }
   ],
   "source": [
    "def forecast_GRU(model, X, forecast_len,n_seed):\n",
    "    model.eval()\n",
    "    datapoint = X.unsqueeze(0) # [S,B,E]\n",
    "    torch.cuda.empty_cache()\n",
    "    for t in range(forecast_len): \n",
    "        \n",
    "        predicted = model(datapoint[-n_seed:,]).to(device) # [B,S,E] \n",
    "        \n",
    "        one_new_timestep=predicted[:,-1,:].unsqueeze(0) # [S,B,E]  -> Get the last predicted timestep\n",
    "        datapoint = torch.cat((datapoint,one_new_timestep),1)  # add the forecasted timestep\n",
    "    forecasted = datapoint.squeeze()[n_seed:,] # Skip the first (n)seed timesteps cuz are n_seed\n",
    "    print('Test MSE Loss: ',criterion(forecasted,y_test))\n",
    "    return forecasted\n",
    "\n",
    "forecasted_once_GRU = forecast_GRU(GRU_model,X=X_test[0],forecast_len=len(y_test),n_seed = window_size )"
   ]
  },
  {
   "cell_type": "code",
   "execution_count": 31,
   "metadata": {},
   "outputs": [],
   "source": [
    "forecasted_inverse_GRU = scaler.inverse_transform(forecasted_GRU.cpu().detach().numpy())\n",
    "forecasted_daily_vaccines_GRU  = cumulative_to_daily(forecasted_inverse_GRU)"
   ]
  },
  {
   "cell_type": "code",
   "execution_count": 32,
   "metadata": {},
   "outputs": [
    {
     "name": "stdout",
     "output_type": "stream",
     "text": [
      "R2 Score for Vaccines 0.9961519863045362\n",
      "MAPE Score for Vaccines 0.32819176\n"
     ]
    }
   ],
   "source": [
    "print('R2 Score for Vaccines',r2_score(y_test_daily_vaccines,forecasted_daily_vaccines_GRU))\n",
    "print('MAPE Score for Vaccines',mean_absolute_percentage_error(y_test_daily_vaccines,forecasted_daily_vaccines_GRU))"
   ]
  },
  {
   "cell_type": "markdown",
   "metadata": {},
   "source": [
    "# Plots"
   ]
  },
  {
   "cell_type": "code",
   "execution_count": 33,
   "metadata": {},
   "outputs": [
    {
     "data": {
      "image/png": "[encoded data removed]",
      "text/plain": [
       "<Figure size 1080x360 with 1 Axes>"
      ]
     },
     "metadata": {
      "needs_background": "light"
     },
     "output_type": "display_data"
    }
   ],
   "source": [
    "fig, ax = plt.subplots()\n",
    "# ax.set_ylim([0.0,1.1])\n",
    "\n",
    "plt.plot(y_test[:,0].cpu().detach().numpy(),label='Real',marker='o')\n",
    "plt.plot(forecasted_TST[:,0].cpu().detach().numpy(),label='Predicted - TST',marker='o')\n",
    "plt.plot(forecasted_LSTM[:,0].cpu().detach().numpy(),label='Predicted - LSTM',marker='o')\n",
    "plt.plot(forecasted_GRU[:,0].cpu().detach().numpy(),label='Predicted - GRU',marker='o')\n",
    "\n",
    "# plt.plot(forecasted_once_TST[:,0].cpu().detach().numpy(),label='Forecast Function - TST',marker='o')\n",
    "fig.set_size_inches(15, 5)\n",
    "ax.set_title('{} Vaccinated - Cumulative + Normalized'.format(state))\n",
    "ax.set_xlabel('Days')\n",
    "ax.set_ylabel('Cumulative')\n",
    "leg = ax.legend(bbox_to_anchor=(1.15, 1.01))\n",
    "plt.show()"
   ]
  },
  {
   "cell_type": "code",
   "execution_count": 34,
   "metadata": {},
   "outputs": [
    {
     "data": {
      "image/png": "[encoded data removed]",
      "text/plain": [
       "<Figure size 1080x360 with 1 Axes>"
      ]
     },
     "metadata": {
      "needs_background": "light"
     },
     "output_type": "display_data"
    }
   ],
   "source": [
    "fig, ax = plt.subplots()\n",
    "\n",
    "plt.plot(y_test_inverse[:,0],label='Real',marker='o')\n",
    "plt.plot(forecasted_inverse_TST[:,0],label='Predicted - TST',marker='o')\n",
    "plt.plot(forecasted_inverse_LSTM[:,0],label='Predicted - LSTM',marker='o')\n",
    "plt.plot(forecasted_inverse_GRU[:,0],label='Predicted - GRU',marker='o')\n",
    "\n",
    "fig.set_size_inches(15, 5)\n",
    "ax.set_title('{} Vaccinated - Cumulative + Non-Normalized'.format(state))\n",
    "ax.set_xlabel('Days')\n",
    "ax.set_ylabel('Cumulative')\n",
    "leg = ax.legend(bbox_to_anchor=(1.15, 1.01))\n",
    "plt.show()"
   ]
  },
  {
   "cell_type": "code",
   "execution_count": null,
   "metadata": {},
   "outputs": [],
   "source": []
  },
  {
   "cell_type": "code",
   "execution_count": null,
   "metadata": {},
   "outputs": [],
   "source": []
  }
 ],
 "metadata": {
  "kernelspec": {
   "display_name": "Python 3",
   "language": "python",
   "name": "python3"
  },
  "language_info": {
   "codemirror_mode": {
    "name": "ipython",
    "version": 3
   },
   "file_extension": ".py",
   "mimetype": "text/x-python",
   "name": "python",
   "nbconvert_exporter": "python",
   "pygments_lexer": "ipython3",
   "version": "3.6.9"
  }
 },
 "nbformat": 4,
 "nbformat_minor": 4
}

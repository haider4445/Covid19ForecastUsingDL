{
  "nbformat": 4,
  "nbformat_minor": 5,
  "metadata": {
    "kernelspec": {
      "display_name": "Python 3",
      "language": "python",
      "name": "python3"
    },
    "language_info": {
      "codemirror_mode": {
        "name": "ipython",
        "version": 3
      },
      "file_extension": ".py",
      "mimetype": "text/x-python",
      "name": "python",
      "nbconvert_exporter": "python",
      "pygments_lexer": "ipython3",
      "version": "3.8.5"
    },
    "colab": {
      "name": "Vaccines NY/Virginia Cases/Deaths SARIMA.ipynb",
      "provenance": [],
      "toc_visible": true
    }
  },
  "cells": [
    {
      "cell_type": "code",
      "metadata": {
        "id": "bridal-vulnerability"
      },
      "source": [
        "import pandas as pd\n",
        "df = pd.read_csv('us-vaccines.csv',error_bad_lines=False)"
      ],
      "id": "bridal-vulnerability",
      "execution_count": null,
      "outputs": []
    },
    {
      "cell_type": "code",
      "metadata": {
        "id": "empirical-cache"
      },
      "source": [
        "NY = df[df.Entity == 'New York State'].reset_index()"
      ],
      "id": "empirical-cache",
      "execution_count": null,
      "outputs": []
    },
    {
      "cell_type": "code",
      "metadata": {
        "id": "gF1Zd3wKhzn1"
      },
      "source": [
        "NY = NY[['Day','daily_vaccinations']]"
      ],
      "id": "gF1Zd3wKhzn1",
      "execution_count": null,
      "outputs": []
    },
    {
      "cell_type": "code",
      "metadata": {
        "id": "dldNgr9pNFUe",
        "colab": {
          "base_uri": "https://localhost:8080/",
          "height": 282
        },
        "outputId": "e092682a-692a-4053-afc5-c7d751120eba"
      },
      "source": [
        "import matplotlib.pyplot as plt\n",
        "plt.plot(NY['daily_vaccinations'])"
      ],
      "id": "dldNgr9pNFUe",
      "execution_count": null,
      "outputs": [
        {
          "output_type": "execute_result",
          "data": {
            "text/plain": [
              "[<matplotlib.lines.Line2D at 0x7fe7831cba10>]"
            ]
          },
          "metadata": {
            "tags": []
          },
          "execution_count": 4
        },
        {
          "output_type": "display_data",
          "data": {
            "image/png": "[encoded data removed]",
            "text/plain": [
              "<Figure size 432x288 with 1 Axes>"
            ]
          },
          "metadata": {
            "tags": [],
            "needs_background": "light"
          }
        }
      ]
    },
    {
      "cell_type": "markdown",
      "metadata": {
        "id": "AZy_Jodm3bGJ"
      },
      "source": [
        "### Stationarity test of cumulative"
      ],
      "id": "AZy_Jodm3bGJ"
    },
    {
      "cell_type": "code",
      "metadata": {
        "id": "oa47JSxRLzQi",
        "colab": {
          "base_uri": "https://localhost:8080/"
        },
        "outputId": "f1955ba3-3df2-48a8-e75f-baa1bd6a45ae"
      },
      "source": [
        "from statsmodels.tsa.stattools import adfuller\n",
        "adf, pvalue, usedlag_, nobs_, critical_values_, icbest_ = adfuller(NY['daily_vaccinations'])"
      ],
      "id": "oa47JSxRLzQi",
      "execution_count": null,
      "outputs": [
        {
          "output_type": "stream",
          "text": [
            "/usr/local/lib/python3.7/dist-packages/statsmodels/tools/_testing.py:19: FutureWarning: pandas.util.testing is deprecated. Use the functions in the public API at pandas.testing instead.\n",
            "  import pandas.util.testing as tm\n"
          ],
          "name": "stderr"
        }
      ]
    },
    {
      "cell_type": "code",
      "metadata": {
        "colab": {
          "base_uri": "https://localhost:8080/"
        },
        "id": "JGJd2t-H2vDt",
        "outputId": "d2a006f8-91d4-4db0-b863-30c8765ce0a7"
      },
      "source": [
        "pvalue"
      ],
      "id": "JGJd2t-H2vDt",
      "execution_count": null,
      "outputs": [
        {
          "output_type": "execute_result",
          "data": {
            "text/plain": [
              "0.6577072038700005"
            ]
          },
          "metadata": {
            "tags": []
          },
          "execution_count": 6
        }
      ]
    },
    {
      "cell_type": "code",
      "metadata": {
        "id": "sA9CIMjb3UIn"
      },
      "source": [
        "import itertools\n",
        "import matplotlib.pyplot as plt\n",
        "import statsmodels.api as sm\n",
        "\n",
        "#set parameter range\n",
        "p = range(0,3)\n",
        "q = range(1,3)\n",
        "d = range(1,2)\n",
        "s = [7,30,60,180,365]\n",
        "# list of all parameter combos\n",
        "pdq = list(itertools.product(p, d, q))\n",
        "seasonal_pdq = list(itertools.product(p, d, q, s))\n",
        "# SARIMA model pipeline\n",
        "for param in pdq:\n",
        "  for param_seasonal in seasonal_pdq:\n",
        "    try:\n",
        "      mod = sm.tsa.statespace.SARIMAX(Daily_cases,order=param,seasonal_order=param_seasonal)\n",
        "      results = mod.fit(max_iter = 50, method = 'powell')\n",
        "      print('SARIMA{},{} - AIC:{}'.format(param, param_seasonal, results.aic))\n",
        "    except:\n",
        "      continue"
      ],
      "id": "sA9CIMjb3UIn",
      "execution_count": null,
      "outputs": []
    },
    {
      "cell_type": "code",
      "metadata": {
        "id": "x3Psvq0E7J1K"
      },
      "source": [
        "#NY Daily Cases: SARIMA(2, 1, 2),(1, 1, 1, 7) - AIC:7020.763322288931\n",
        "#NY Deaths (2, 1, 1),(1, 1, 1, 7) \n",
        "#VA Deaths SARIMA(1, 1, 1),(0, 1, 1, 7)"
      ],
      "id": "x3Psvq0E7J1K",
      "execution_count": null,
      "outputs": []
    },
    {
      "cell_type": "code",
      "metadata": {
        "id": "JujrSm07CE34"
      },
      "source": [
        "import numpy as np\n",
        "import itertools\n",
        "import matplotlib.pyplot as plt\n",
        "import statsmodels.api as sm\n",
        "\n",
        "def walk_forward_validation(data, n_test):\n",
        "    predictions = np.array([])\n",
        "    mape_list = []\n",
        "    train, test = data[:n_test], data[n_test:]\n",
        "    day_list = [7,14,21,28] # weeks 1,2,3,4\n",
        "    model = sm.tsa.statespace.SARIMAX(train, order=(1,1,1), seasonal_order = (1,1,1,7))\n",
        "    model = model.fit(max_iter = 50,method = 'powell')\n",
        "    forecast = model.forecast(steps = len(test))\n",
        "    #predictions = np.concatenate((predictions, forecast),axis=None)\n",
        "    mape_score = (abs(test-forecast)/test)\n",
        "    mape_mean = mape_score.mean()\n",
        "    return forecast, mape_mean"
      ],
      "id": "JujrSm07CE34",
      "execution_count": null,
      "outputs": []
    },
    {
      "cell_type": "code",
      "metadata": {
        "colab": {
          "base_uri": "https://localhost:8080/"
        },
        "id": "XZbaFQIQDwkt",
        "outputId": "8eb6cd4d-8a67-4843-c373-1b93d3e77985"
      },
      "source": [
        "data = NY['daily_vaccinations']\n",
        "n_test = int(0.7*len(data))\n",
        "train, test = data[:n_test], data[n_test:]\n",
        "predictions, mape_mean = walk_forward_validation(data,n_test)\n",
        "print(mape_mean)"
      ],
      "id": "XZbaFQIQDwkt",
      "execution_count": null,
      "outputs": [
        {
          "output_type": "stream",
          "text": [
            "/usr/local/lib/python3.7/dist-packages/statsmodels/tsa/statespace/sarimax.py:949: UserWarning: Non-stationary starting autoregressive parameters found. Using zeros as starting parameters.\n",
            "  warn('Non-stationary starting autoregressive parameters'\n",
            "/usr/local/lib/python3.7/dist-packages/statsmodels/tsa/statespace/sarimax.py:961: UserWarning: Non-invertible starting MA parameters found. Using zeros as starting parameters.\n",
            "  warn('Non-invertible starting MA parameters found.'\n",
            "/usr/local/lib/python3.7/dist-packages/statsmodels/tsa/statespace/sarimax.py:993: UserWarning: Non-invertible starting seasonal moving average Using zeros as starting parameters.\n",
            "  warn('Non-invertible starting seasonal moving average'\n"
          ],
          "name": "stderr"
        },
        {
          "output_type": "stream",
          "text": [
            "Optimization terminated successfully.\n",
            "         Current function value: 9.342136\n",
            "         Iterations: 4\n",
            "         Function evaluations: 244\n",
            "0.15850910543583965\n"
          ],
          "name": "stdout"
        }
      ]
    },
    {
      "cell_type": "code",
      "metadata": {
        "colab": {
          "base_uri": "https://localhost:8080/"
        },
        "id": "1Cn9Dc_WfUOM",
        "outputId": "5b403e08-2605-4595-a054-44a302ff942d"
      },
      "source": [
        "print(len(data) - n_test)"
      ],
      "id": "1Cn9Dc_WfUOM",
      "execution_count": null,
      "outputs": [
        {
          "output_type": "stream",
          "text": [
            "32\n"
          ],
          "name": "stdout"
        }
      ]
    },
    {
      "cell_type": "code",
      "metadata": {
        "colab": {
          "base_uri": "https://localhost:8080/"
        },
        "id": "8qv70KjsXcZD",
        "outputId": "2408a489-7326-4f93-f029-57d48b732a85"
      },
      "source": [
        "from sklearn.metrics import r2_score\n",
        "r2_score(test, predictions)"
      ],
      "id": "8qv70KjsXcZD",
      "execution_count": null,
      "outputs": [
        {
          "output_type": "execute_result",
          "data": {
            "text/plain": [
              "-1.1670127105342245"
            ]
          },
          "metadata": {
            "tags": []
          },
          "execution_count": 12
        }
      ]
    },
    {
      "cell_type": "code",
      "metadata": {
        "colab": {
          "base_uri": "https://localhost:8080/"
        },
        "id": "sHVdt8HwEmNn",
        "outputId": "bb8c6582-684f-450e-b854-99eff753102c"
      },
      "source": [
        "from sklearn.metrics import mean_squared_error\n",
        "import math\n",
        "math.sqrt(mean_squared_error(test, predictions))"
      ],
      "id": "sHVdt8HwEmNn",
      "execution_count": null,
      "outputs": [
        {
          "output_type": "execute_result",
          "data": {
            "text/plain": [
              "42647.00998099548"
            ]
          },
          "metadata": {
            "tags": []
          },
          "execution_count": 13
        }
      ]
    },
    {
      "cell_type": "code",
      "metadata": {
        "colab": {
          "base_uri": "https://localhost:8080/",
          "height": 282
        },
        "id": "hkXF8NhPf_PM",
        "outputId": "cf514ae4-65f1-44bf-cdc6-f2f3dec154c9"
      },
      "source": [
        "import matplotlib.pyplot as plt\n",
        "plt.plot(test)\n",
        "plt.plot(predictions)"
      ],
      "id": "hkXF8NhPf_PM",
      "execution_count": null,
      "outputs": [
        {
          "output_type": "execute_result",
          "data": {
            "text/plain": [
              "[<matplotlib.lines.Line2D at 0x7fe75d729210>]"
            ]
          },
          "metadata": {
            "tags": []
          },
          "execution_count": 14
        },
        {
          "output_type": "display_data",
          "data": {
            "image/png": "[encoded data removed]",
            "text/plain": [
              "<Figure size 432x288 with 1 Axes>"
            ]
          },
          "metadata": {
            "tags": [],
            "needs_background": "light"
          }
        }
      ]
    },
    {
      "cell_type": "code",
      "metadata": {
        "id": "rZZjk6QLlZSj"
      },
      "source": [
        ""
      ],
      "id": "rZZjk6QLlZSj",
      "execution_count": null,
      "outputs": []
    }
  ]
}
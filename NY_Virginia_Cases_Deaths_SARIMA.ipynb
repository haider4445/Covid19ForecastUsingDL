{
  "nbformat": 4,
  "nbformat_minor": 5,
  "metadata": {
    "kernelspec": {
      "display_name": "Python 3",
      "language": "python",
      "name": "python3"
    },
    "language_info": {
      "codemirror_mode": {
        "name": "ipython",
        "version": 3
      },
      "file_extension": ".py",
      "mimetype": "text/x-python",
      "name": "python",
      "nbconvert_exporter": "python",
      "pygments_lexer": "ipython3",
      "version": "3.8.5"
    },
    "colab": {
      "name": "NY/Virginia Cases/Deaths SARIMA.ipynb",
      "provenance": [],
      "toc_visible": true
    }
  },
  "cells": [
    {
      "cell_type": "code",
      "metadata": {
        "id": "bridal-vulnerability"
      },
      "source": [
        "import pandas as pd\n",
        "df = pd.read_csv('us-states.csv',error_bad_lines=False)"
      ],
      "id": "bridal-vulnerability",
      "execution_count": null,
      "outputs": []
    },
    {
      "cell_type": "code",
      "metadata": {
        "id": "empirical-cache"
      },
      "source": [
        "NY = df[df.state == 'New York'].reset_index()"
      ],
      "id": "empirical-cache",
      "execution_count": null,
      "outputs": []
    },
    {
      "cell_type": "code",
      "metadata": {
        "colab": {
          "base_uri": "https://localhost:8080/",
          "height": 402
        },
        "id": "gF1Zd3wKhzn1",
        "outputId": "7822483b-b41b-49c2-d081-e36c5f278cbe"
      },
      "source": [
        "NY"
      ],
      "id": "gF1Zd3wKhzn1",
      "execution_count": null,
      "outputs": [
        {
          "output_type": "execute_result",
          "data": {
            "text/html": [
              "<div>\n",
              "<style scoped>\n",
              "    .dataframe tbody tr th:only-of-type {\n",
              "        vertical-align: middle;\n",
              "    }\n",
              "\n",
              "    .dataframe tbody tr th {\n",
              "        vertical-align: top;\n",
              "    }\n",
              "\n",
              "    .dataframe thead th {\n",
              "        text-align: right;\n",
              "    }\n",
              "</style>\n",
              "<table border=\"1\" class=\"dataframe\">\n",
              "  <thead>\n",
              "    <tr style=\"text-align: right;\">\n",
              "      <th></th>\n",
              "      <th>index</th>\n",
              "      <th>date</th>\n",
              "      <th>state</th>\n",
              "      <th>fips</th>\n",
              "      <th>cases</th>\n",
              "      <th>deaths</th>\n",
              "    </tr>\n",
              "  </thead>\n",
              "  <tbody>\n",
              "    <tr>\n",
              "      <th>0</th>\n",
              "      <td>246</td>\n",
              "      <td>2020-03-01</td>\n",
              "      <td>New York</td>\n",
              "      <td>36</td>\n",
              "      <td>1</td>\n",
              "      <td>0</td>\n",
              "    </tr>\n",
              "    <tr>\n",
              "      <th>1</th>\n",
              "      <td>261</td>\n",
              "      <td>2020-03-02</td>\n",
              "      <td>New York</td>\n",
              "      <td>36</td>\n",
              "      <td>1</td>\n",
              "      <td>0</td>\n",
              "    </tr>\n",
              "    <tr>\n",
              "      <th>2</th>\n",
              "      <td>276</td>\n",
              "      <td>2020-03-03</td>\n",
              "      <td>New York</td>\n",
              "      <td>36</td>\n",
              "      <td>2</td>\n",
              "      <td>0</td>\n",
              "    </tr>\n",
              "    <tr>\n",
              "      <th>3</th>\n",
              "      <td>293</td>\n",
              "      <td>2020-03-04</td>\n",
              "      <td>New York</td>\n",
              "      <td>36</td>\n",
              "      <td>11</td>\n",
              "      <td>0</td>\n",
              "    </tr>\n",
              "    <tr>\n",
              "      <th>4</th>\n",
              "      <td>313</td>\n",
              "      <td>2020-03-05</td>\n",
              "      <td>New York</td>\n",
              "      <td>36</td>\n",
              "      <td>22</td>\n",
              "      <td>0</td>\n",
              "    </tr>\n",
              "    <tr>\n",
              "      <th>...</th>\n",
              "      <td>...</td>\n",
              "      <td>...</td>\n",
              "      <td>...</td>\n",
              "      <td>...</td>\n",
              "      <td>...</td>\n",
              "      <td>...</td>\n",
              "    </tr>\n",
              "    <tr>\n",
              "      <th>413</th>\n",
              "      <td>22652</td>\n",
              "      <td>2021-04-18</td>\n",
              "      <td>New York</td>\n",
              "      <td>36</td>\n",
              "      <td>1996876</td>\n",
              "      <td>51077</td>\n",
              "    </tr>\n",
              "    <tr>\n",
              "      <th>414</th>\n",
              "      <td>22707</td>\n",
              "      <td>2021-04-19</td>\n",
              "      <td>New York</td>\n",
              "      <td>36</td>\n",
              "      <td>2002053</td>\n",
              "      <td>51122</td>\n",
              "    </tr>\n",
              "    <tr>\n",
              "      <th>415</th>\n",
              "      <td>22762</td>\n",
              "      <td>2021-04-20</td>\n",
              "      <td>New York</td>\n",
              "      <td>36</td>\n",
              "      <td>2006712</td>\n",
              "      <td>51183</td>\n",
              "    </tr>\n",
              "    <tr>\n",
              "      <th>416</th>\n",
              "      <td>22817</td>\n",
              "      <td>2021-04-21</td>\n",
              "      <td>New York</td>\n",
              "      <td>36</td>\n",
              "      <td>2010967</td>\n",
              "      <td>51228</td>\n",
              "    </tr>\n",
              "    <tr>\n",
              "      <th>417</th>\n",
              "      <td>22872</td>\n",
              "      <td>2021-04-22</td>\n",
              "      <td>New York</td>\n",
              "      <td>36</td>\n",
              "      <td>2016244</td>\n",
              "      <td>51299</td>\n",
              "    </tr>\n",
              "  </tbody>\n",
              "</table>\n",
              "<p>418 rows × 6 columns</p>\n",
              "</div>"
            ],
            "text/plain": [
              "     index        date     state  fips    cases  deaths\n",
              "0      246  2020-03-01  New York    36        1       0\n",
              "1      261  2020-03-02  New York    36        1       0\n",
              "2      276  2020-03-03  New York    36        2       0\n",
              "3      293  2020-03-04  New York    36       11       0\n",
              "4      313  2020-03-05  New York    36       22       0\n",
              "..     ...         ...       ...   ...      ...     ...\n",
              "413  22652  2021-04-18  New York    36  1996876   51077\n",
              "414  22707  2021-04-19  New York    36  2002053   51122\n",
              "415  22762  2021-04-20  New York    36  2006712   51183\n",
              "416  22817  2021-04-21  New York    36  2010967   51228\n",
              "417  22872  2021-04-22  New York    36  2016244   51299\n",
              "\n",
              "[418 rows x 6 columns]"
            ]
          },
          "metadata": {
            "tags": []
          },
          "execution_count": 189
        }
      ]
    },
    {
      "cell_type": "code",
      "metadata": {
        "id": "dldNgr9pNFUe"
      },
      "source": [
        "NY = NY[['date','cases','deaths']]"
      ],
      "id": "dldNgr9pNFUe",
      "execution_count": null,
      "outputs": []
    },
    {
      "cell_type": "code",
      "metadata": {
        "colab": {
          "base_uri": "https://localhost:8080/"
        },
        "id": "f-hC3CJsMjk-",
        "outputId": "f61867dc-d221-46e0-c2c7-515df7483bad"
      },
      "source": [
        "NY['cases']"
      ],
      "id": "f-hC3CJsMjk-",
      "execution_count": null,
      "outputs": [
        {
          "output_type": "execute_result",
          "data": {
            "text/plain": [
              "0            1\n",
              "1            1\n",
              "2            2\n",
              "3           11\n",
              "4           22\n",
              "        ...   \n",
              "413    1996876\n",
              "414    2002053\n",
              "415    2006712\n",
              "416    2010967\n",
              "417    2016244\n",
              "Name: cases, Length: 418, dtype: int64"
            ]
          },
          "metadata": {
            "tags": []
          },
          "execution_count": 191
        }
      ]
    },
    {
      "cell_type": "markdown",
      "metadata": {
        "id": "AZy_Jodm3bGJ"
      },
      "source": [
        "### Stationarity test of cumulative"
      ],
      "id": "AZy_Jodm3bGJ"
    },
    {
      "cell_type": "code",
      "metadata": {
        "id": "oa47JSxRLzQi"
      },
      "source": [
        "from statsmodels.tsa.stattools import adfuller\n",
        "adf, pvalue, usedlag_, nobs_, critical_values_, icbest_ = adfuller(NY['deaths'])"
      ],
      "id": "oa47JSxRLzQi",
      "execution_count": null,
      "outputs": []
    },
    {
      "cell_type": "code",
      "metadata": {
        "colab": {
          "base_uri": "https://localhost:8080/"
        },
        "id": "JGJd2t-H2vDt",
        "outputId": "18df924f-319f-4e3c-aff8-40727cc09fa3"
      },
      "source": [
        "pvalue"
      ],
      "id": "JGJd2t-H2vDt",
      "execution_count": null,
      "outputs": [
        {
          "output_type": "execute_result",
          "data": {
            "text/plain": [
              "0.040153474298710176"
            ]
          },
          "metadata": {
            "tags": []
          },
          "execution_count": 193
        }
      ]
    },
    {
      "cell_type": "code",
      "metadata": {
        "id": "A8MbjsId2wFg"
      },
      "source": [
        "Daily_Deaths = []\n",
        "Daily_cases = []\n",
        "for index, row in NY.iterrows():\n",
        "  if index == 0:\n",
        "    prevRow = row\n",
        "    Daily_cases.append(row['cases'])\n",
        "    Daily_Deaths.append(row['deaths'])\n",
        "    continue\n",
        "  else:\n",
        "    if row['deaths'] < prevRow['deaths']:\n",
        "      Daily_Deaths.append(Daily_Deaths[-1])\n",
        "    else:\n",
        "      Daily_Deaths.append(row['deaths'] - prevRow['deaths'])\n",
        "    if row['cases'] < prevRow['cases']:\n",
        "      Daily_cases.append(Daily_cases[-1])\n",
        "    else:\n",
        "      Daily_cases.append(row['cases'] - prevRow['cases'])\n",
        "    prevRow = row"
      ],
      "id": "A8MbjsId2wFg",
      "execution_count": null,
      "outputs": []
    },
    {
      "cell_type": "markdown",
      "metadata": {
        "id": "bJbzT5ts3nnt"
      },
      "source": [
        "### Stationarity test of Daily"
      ],
      "id": "bJbzT5ts3nnt"
    },
    {
      "cell_type": "code",
      "metadata": {
        "colab": {
          "base_uri": "https://localhost:8080/"
        },
        "id": "uoeX8RBy3Js6",
        "outputId": "b07104eb-ee1a-4b51-bc71-ed52f20d54fe"
      },
      "source": [
        "from statsmodels.tsa.stattools import adfuller\n",
        "adf, pvalue, usedlag_, nobs_, critical_values_, icbest_ = adfuller(Daily_Deaths)\n",
        "pvalue"
      ],
      "id": "uoeX8RBy3Js6",
      "execution_count": null,
      "outputs": [
        {
          "output_type": "execute_result",
          "data": {
            "text/plain": [
              "0.024167465823232058"
            ]
          },
          "metadata": {
            "tags": []
          },
          "execution_count": 119
        }
      ]
    },
    {
      "cell_type": "code",
      "metadata": {
        "colab": {
          "base_uri": "https://localhost:8080/"
        },
        "id": "sA9CIMjb3UIn",
        "outputId": "1d077e62-a024-4322-95ec-36b5f34fe659"
      },
      "source": [
        "import itertools\n",
        "import matplotlib.pyplot as plt\n",
        "import statsmodels.api as sm\n",
        "\n",
        "#set parameter range\n",
        "p = range(0,3)\n",
        "q = range(1,3)\n",
        "d = range(1,2)\n",
        "s = [7,30,60,180,365]\n",
        "# list of all parameter combos\n",
        "pdq = list(itertools.product(p, d, q))\n",
        "seasonal_pdq = list(itertools.product(p, d, q, s))\n",
        "# SARIMA model pipeline\n",
        "for param in pdq:\n",
        "  for param_seasonal in seasonal_pdq:\n",
        "    try:\n",
        "      mod = sm.tsa.statespace.SARIMAX(Daily_cases,order=param,seasonal_order=param_seasonal)\n",
        "      results = mod.fit(max_iter = 50, method = 'powell')\n",
        "      print('SARIMA{},{} - AIC:{}'.format(param, param_seasonal, results.aic))\n",
        "    except:\n",
        "      continue"
      ],
      "id": "sA9CIMjb3UIn",
      "execution_count": null,
      "outputs": [
        {
          "output_type": "stream",
          "text": [
            "Optimization terminated successfully.\n",
            "         Current function value: 7.538975\n",
            "         Iterations: 3\n",
            "         Function evaluations: 119\n",
            "SARIMA(0, 1, 1),(0, 1, 1, 7) - AIC:6218.115098328679\n"
          ],
          "name": "stdout"
        },
        {
          "output_type": "stream",
          "text": [
            "/usr/local/lib/python3.7/dist-packages/statsmodels/tsa/statespace/sarimax.py:993: UserWarning: Non-invertible starting seasonal moving average Using zeros as starting parameters.\n",
            "  warn('Non-invertible starting seasonal moving average'\n"
          ],
          "name": "stderr"
        },
        {
          "output_type": "stream",
          "text": [
            "Optimization terminated successfully.\n",
            "         Current function value: 7.192158\n",
            "         Iterations: 3\n",
            "         Function evaluations: 120\n",
            "SARIMA(0, 1, 1),(0, 1, 1, 30) - AIC:5932.338543863345\n",
            "Optimization terminated successfully.\n",
            "         Current function value: 6.662808\n",
            "         Iterations: 3\n",
            "         Function evaluations: 114\n",
            "SARIMA(0, 1, 1),(0, 1, 1, 60) - AIC:5496.153738335497\n",
            "Optimization terminated successfully.\n",
            "         Current function value: 7.528373\n",
            "         Iterations: 3\n",
            "         Function evaluations: 153\n",
            "SARIMA(0, 1, 1),(0, 1, 2, 7) - AIC:6211.379311574439\n",
            "Optimization terminated successfully.\n",
            "         Current function value: 7.181206\n",
            "         Iterations: 3\n",
            "         Function evaluations: 152\n",
            "SARIMA(0, 1, 1),(0, 1, 2, 30) - AIC:5925.3139552342955\n",
            "Optimization terminated successfully.\n",
            "         Current function value: 7.528946\n",
            "         Iterations: 4\n",
            "         Function evaluations: 201\n",
            "SARIMA(0, 1, 1),(1, 1, 1, 7) - AIC:6211.851355268864\n",
            "Optimization terminated successfully.\n",
            "         Current function value: 7.182063\n",
            "         Iterations: 4\n",
            "         Function evaluations: 198\n",
            "SARIMA(0, 1, 1),(1, 1, 1, 30) - AIC:5926.020059080758\n",
            "Optimization terminated successfully.\n",
            "         Current function value: 6.653619\n",
            "         Iterations: 4\n",
            "         Function evaluations: 196\n",
            "SARIMA(0, 1, 1),(1, 1, 1, 60) - AIC:5490.582321895696\n",
            "Optimization terminated successfully.\n",
            "         Current function value: 7.534186\n",
            "         Iterations: 3\n",
            "         Function evaluations: 187\n",
            "SARIMA(0, 1, 1),(1, 1, 2, 7) - AIC:6218.169256228926\n",
            "Optimization terminated successfully.\n",
            "         Current function value: 7.185354\n",
            "         Iterations: 3\n",
            "         Function evaluations: 185\n",
            "SARIMA(0, 1, 1),(1, 1, 2, 30) - AIC:5930.731612164353\n",
            "Optimization terminated successfully.\n",
            "         Current function value: 7.527595\n",
            "         Iterations: 7\n",
            "         Function evaluations: 444\n",
            "SARIMA(0, 1, 1),(2, 1, 1, 7) - AIC:6212.73853154624\n",
            "Optimization terminated successfully.\n",
            "         Current function value: 7.181129\n",
            "         Iterations: 4\n",
            "         Function evaluations: 250\n",
            "SARIMA(0, 1, 1),(2, 1, 1, 30) - AIC:5927.250669780635\n",
            "Optimization terminated successfully.\n",
            "         Current function value: 6.656698\n",
            "         Iterations: 3\n",
            "         Function evaluations: 175\n",
            "SARIMA(0, 1, 1),(2, 1, 1, 60) - AIC:5495.11915692178\n",
            "Optimization terminated successfully.\n",
            "         Current function value: 7.528751\n",
            "         Iterations: 3\n",
            "         Function evaluations: 213\n",
            "SARIMA(0, 1, 1),(2, 1, 2, 7) - AIC:6215.691196610149\n",
            "Optimization terminated successfully.\n",
            "         Current function value: 7.181957\n",
            "         Iterations: 4\n",
            "         Function evaluations: 294\n",
            "SARIMA(0, 1, 1),(2, 1, 2, 30) - AIC:5929.932468953177\n",
            "Optimization terminated successfully.\n",
            "         Current function value: 7.513835\n",
            "         Iterations: 3\n",
            "         Function evaluations: 139\n",
            "SARIMA(0, 1, 2),(0, 1, 1, 7) - AIC:6199.399642399749\n",
            "Optimization terminated successfully.\n",
            "         Current function value: 7.163878\n",
            "         Iterations: 3\n",
            "         Function evaluations: 149\n",
            "SARIMA(0, 1, 2),(0, 1, 1, 30) - AIC:5911.035714192589\n",
            "Optimization terminated successfully.\n",
            "         Current function value: 6.634215\n",
            "         Iterations: 3\n",
            "         Function evaluations: 142\n",
            "SARIMA(0, 1, 2),(0, 1, 1, 60) - AIC:5474.592759424538\n",
            "Optimization terminated successfully.\n",
            "         Current function value: 7.502681\n",
            "         Iterations: 3\n",
            "         Function evaluations: 178\n",
            "SARIMA(0, 1, 2),(0, 1, 2, 7) - AIC:6192.209280468129\n",
            "Optimization terminated successfully.\n",
            "         Current function value: 7.152346\n",
            "         Iterations: 3\n",
            "         Function evaluations: 181\n",
            "SARIMA(0, 1, 2),(0, 1, 2, 30) - AIC:5903.533418465452\n",
            "Optimization terminated successfully.\n",
            "         Current function value: 7.502423\n",
            "         Iterations: 4\n",
            "         Function evaluations: 237\n",
            "SARIMA(0, 1, 2),(1, 1, 1, 7) - AIC:6191.996323658701\n",
            "Optimization terminated successfully.\n",
            "         Current function value: 7.153019\n",
            "         Iterations: 4\n",
            "         Function evaluations: 237\n",
            "SARIMA(0, 1, 2),(1, 1, 1, 30) - AIC:5904.087715171245\n",
            "Optimization terminated successfully.\n",
            "         Current function value: 6.627548\n",
            "         Iterations: 4\n",
            "         Function evaluations: 245\n",
            "SARIMA(0, 1, 2),(1, 1, 1, 60) - AIC:5471.099920084114\n",
            "Optimization terminated successfully.\n",
            "         Current function value: 7.509585\n",
            "         Iterations: 3\n",
            "         Function evaluations: 220\n",
            "SARIMA(0, 1, 2),(1, 1, 2, 7) - AIC:6199.897925188022\n",
            "Optimization terminated successfully.\n",
            "         Current function value: 7.156261\n",
            "         Iterations: 3\n",
            "         Function evaluations: 216\n",
            "SARIMA(0, 1, 2),(1, 1, 2, 30) - AIC:5908.759018768353\n",
            "Optimization terminated successfully.\n",
            "         Current function value: 7.502263\n",
            "         Iterations: 6\n",
            "         Function evaluations: 442\n",
            "SARIMA(0, 1, 2),(2, 1, 1, 7) - AIC:6193.864987831323\n",
            "Optimization terminated successfully.\n",
            "         Current function value: 7.152447\n",
            "         Iterations: 4\n",
            "         Function evaluations: 288\n",
            "SARIMA(0, 1, 2),(2, 1, 1, 30) - AIC:5905.616218816334\n",
            "Optimization terminated successfully.\n",
            "         Current function value: 6.632182\n",
            "         Iterations: 3\n",
            "         Function evaluations: 202\n",
            "SARIMA(0, 1, 2),(2, 1, 1, 60) - AIC:5476.918232718485\n",
            "Optimization terminated successfully.\n",
            "         Current function value: 7.501766\n",
            "         Iterations: 4\n",
            "         Function evaluations: 326\n",
            "SARIMA(0, 1, 2),(2, 1, 2, 7) - AIC:6195.455256204167\n",
            "Optimization terminated successfully.\n",
            "         Current function value: 7.153060\n",
            "         Iterations: 4\n",
            "         Function evaluations: 335\n",
            "SARIMA(0, 1, 2),(2, 1, 2, 30) - AIC:5908.121636431189\n",
            "Optimization terminated successfully.\n",
            "         Current function value: 7.509977\n",
            "         Iterations: 3\n",
            "         Function evaluations: 148\n",
            "SARIMA(1, 1, 1),(0, 1, 1, 7) - AIC:6196.220752334555\n",
            "Optimization terminated successfully.\n",
            "         Current function value: 7.160012\n",
            "         Iterations: 4\n",
            "         Function evaluations: 191\n",
            "SARIMA(1, 1, 1),(0, 1, 1, 30) - AIC:5907.8496870400795\n",
            "Optimization terminated successfully.\n",
            "         Current function value: 6.632252\n",
            "         Iterations: 4\n",
            "         Function evaluations: 194\n",
            "SARIMA(1, 1, 1),(0, 1, 1, 60) - AIC:5472.975565624109\n",
            "Optimization terminated successfully.\n",
            "         Current function value: 7.496972\n",
            "         Iterations: 3\n",
            "         Function evaluations: 183\n",
            "SARIMA(1, 1, 1),(0, 1, 2, 7) - AIC:6187.505336681036\n",
            "Optimization terminated successfully.\n",
            "         Current function value: 7.150011\n",
            "         Iterations: 4\n",
            "         Function evaluations: 236\n",
            "SARIMA(1, 1, 1),(0, 1, 2, 30) - AIC:5901.608806818248\n",
            "Optimization terminated successfully.\n",
            "         Current function value: 7.496537\n",
            "         Iterations: 4\n",
            "         Function evaluations: 242\n",
            "SARIMA(1, 1, 1),(1, 1, 1, 7) - AIC:6187.146880241773\n",
            "Optimization terminated successfully.\n",
            "         Current function value: 7.151037\n",
            "         Iterations: 4\n",
            "         Function evaluations: 240\n",
            "SARIMA(1, 1, 1),(1, 1, 1, 30) - AIC:5902.454762224373\n",
            "Optimization terminated successfully.\n",
            "         Current function value: 6.625156\n",
            "         Iterations: 5\n",
            "         Function evaluations: 309\n",
            "SARIMA(1, 1, 1),(1, 1, 1, 60) - AIC:5469.128663119394\n",
            "Optimization terminated successfully.\n",
            "         Current function value: 7.504754\n",
            "         Iterations: 3\n",
            "         Function evaluations: 216\n",
            "SARIMA(1, 1, 1),(1, 1, 2, 7) - AIC:6195.917523827523\n",
            "Optimization terminated successfully.\n",
            "         Current function value: 7.153688\n",
            "         Iterations: 4\n",
            "         Function evaluations: 279\n",
            "SARIMA(1, 1, 1),(1, 1, 2, 30) - AIC:5906.638617147892\n",
            "Optimization terminated successfully.\n",
            "         Current function value: 7.497139\n",
            "         Iterations: 12\n",
            "         Function evaluations: 863\n",
            "SARIMA(1, 1, 1),(2, 1, 1, 7) - AIC:6189.642496618226\n",
            "Optimization terminated successfully.\n",
            "         Current function value: 7.150899\n",
            "         Iterations: 4\n",
            "         Function evaluations: 291\n",
            "SARIMA(1, 1, 1),(2, 1, 1, 30) - AIC:5904.34112968133\n",
            "Optimization terminated successfully.\n",
            "         Current function value: 6.626378\n",
            "         Iterations: 6\n",
            "         Function evaluations: 422\n",
            "Optimization terminated successfully.\n",
            "         Current function value: 7.510491\n",
            "         Iterations: 4\n",
            "         Function evaluations: 239\n",
            "SARIMA(1, 1, 2),(0, 1, 1, 7) - AIC:6198.644445997284\n",
            "Optimization terminated successfully.\n",
            "         Current function value: 7.497304\n",
            "         Iterations: 3\n",
            "         Function evaluations: 213\n",
            "SARIMA(1, 1, 2),(0, 1, 2, 7) - AIC:6189.778173006322\n",
            "Optimization terminated successfully.\n",
            "         Current function value: 7.149541\n",
            "         Iterations: 3\n",
            "         Function evaluations: 215\n",
            "SARIMA(1, 1, 2),(0, 1, 2, 30) - AIC:5903.221967839448\n",
            "Optimization terminated successfully.\n",
            "         Current function value: 7.497061\n",
            "         Iterations: 4\n",
            "         Function evaluations: 288\n",
            "SARIMA(1, 1, 2),(1, 1, 1, 7) - AIC:6189.5785980482715\n"
          ],
          "name": "stdout"
        }
      ]
    },
    {
      "cell_type": "code",
      "metadata": {
        "id": "x3Psvq0E7J1K"
      },
      "source": [
        "#NY Daily Cases: SARIMA(2, 1, 2),(1, 1, 1, 7) - AIC:7020.763322288931\n",
        "#NY Deaths (2, 1, 1),(1, 1, 1, 7) \n",
        "#VA Deaths SARIMA(1, 1, 1),(0, 1, 1, 7)"
      ],
      "id": "x3Psvq0E7J1K",
      "execution_count": null,
      "outputs": []
    },
    {
      "cell_type": "code",
      "metadata": {
        "id": "JujrSm07CE34"
      },
      "source": [
        "import numpy as np\n",
        "import itertools\n",
        "import matplotlib.pyplot as plt\n",
        "import statsmodels.api as sm\n",
        "\n",
        "def walk_forward_validation(data, n_test):\n",
        "    predictions = np.array([])\n",
        "    mape_list = []\n",
        "    train, test = data[:n_test], data[n_test:]\n",
        "    day_list = [7,14,21,28] # weeks 1,2,3,4\n",
        "    model = sm.tsa.statespace.SARIMAX(train, order=(1,1,1), seasonal_order = (1,1,1,21))\n",
        "    model = model.fit(max_iter = 50,method = 'powell')\n",
        "    forecast = model.forecast(steps = len(test))\n",
        "    #predictions = np.concatenate((predictions, forecast),axis=None)\n",
        "    mape_score = (abs(test-forecast)/test)\n",
        "    mape_mean = mape_score.mean()\n",
        "    return forecast, mape_mean"
      ],
      "id": "JujrSm07CE34",
      "execution_count": null,
      "outputs": []
    },
    {
      "cell_type": "code",
      "metadata": {
        "colab": {
          "base_uri": "https://localhost:8080/"
        },
        "id": "XZbaFQIQDwkt",
        "outputId": "ee8840a2-5723-4f55-be5d-2033d45efa2a"
      },
      "source": [
        "data = Daily_cases\n",
        "n_test = int(0.80*len(data))\n",
        "train, test = data[:n_test], data[n_test:]\n",
        "predictions, mape_mean = walk_forward_validation(data,n_test)\n",
        "print(mape_mean)"
      ],
      "id": "XZbaFQIQDwkt",
      "execution_count": null,
      "outputs": [
        {
          "output_type": "stream",
          "text": [
            "Optimization terminated successfully.\n",
            "         Current function value: 7.767365\n",
            "         Iterations: 5\n",
            "         Function evaluations: 316\n",
            "0.9327929975731715\n"
          ],
          "name": "stdout"
        }
      ]
    },
    {
      "cell_type": "code",
      "metadata": {
        "colab": {
          "base_uri": "https://localhost:8080/"
        },
        "id": "8qv70KjsXcZD",
        "outputId": "09129ab4-a64d-4851-b8b0-fc7174f9e6c8"
      },
      "source": [
        "from sklearn.metrics import r2_score\n",
        "r2_score(test, predictions)"
      ],
      "id": "8qv70KjsXcZD",
      "execution_count": null,
      "outputs": [
        {
          "output_type": "execute_result",
          "data": {
            "text/plain": [
              "-7.840276918641205"
            ]
          },
          "metadata": {
            "tags": []
          },
          "execution_count": 245
        }
      ]
    },
    {
      "cell_type": "code",
      "metadata": {
        "colab": {
          "base_uri": "https://localhost:8080/"
        },
        "id": "sHVdt8HwEmNn",
        "outputId": "260e72f0-e33e-45e6-a624-39adb8aa782e"
      },
      "source": [
        "from sklearn.metrics import mean_squared_error\n",
        "import math\n",
        "math.sqrt(mean_squared_error(test, predictions))"
      ],
      "id": "sHVdt8HwEmNn",
      "execution_count": null,
      "outputs": [
        {
          "output_type": "execute_result",
          "data": {
            "text/plain": [
              "6528.496573717661"
            ]
          },
          "metadata": {
            "tags": []
          },
          "execution_count": 246
        }
      ]
    },
    {
      "cell_type": "code",
      "metadata": {
        "colab": {
          "base_uri": "https://localhost:8080/",
          "height": 282
        },
        "id": "hkXF8NhPf_PM",
        "outputId": "fb499060-eeed-4711-def2-cc067f03421b"
      },
      "source": [
        "import matplotlib.pyplot as plt\n",
        "plt.plot(test)\n",
        "plt.plot(predictions)"
      ],
      "id": "hkXF8NhPf_PM",
      "execution_count": null,
      "outputs": [
        {
          "output_type": "execute_result",
          "data": {
            "text/plain": [
              "[<matplotlib.lines.Line2D at 0x7fba0f1cf910>]"
            ]
          },
          "metadata": {
            "tags": []
          },
          "execution_count": 226
        },
        {
          "output_type": "display_data",
          "data": {
            "image/png": "[encoded data removed]",
            "text/plain": [
              "<Figure size 432x288 with 1 Axes>"
            ]
          },
          "metadata": {
            "tags": [],
            "needs_background": "light"
          }
        }
      ]
    },
    {
      "cell_type": "code",
      "metadata": {
        "id": "rZZjk6QLlZSj"
      },
      "source": [
        ""
      ],
      "id": "rZZjk6QLlZSj",
      "execution_count": null,
      "outputs": []
    }
  ]
}
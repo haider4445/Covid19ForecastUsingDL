{
 "cells": [
  {
   "cell_type": "code",
   "execution_count": 1,
   "metadata": {},
   "outputs": [],
   "source": [
    "import pandas as pd\n",
    "import numpy as np\n",
    "import torch\n",
    "from torch import optim\n",
    "from datetime import timedelta\n",
    "from torch.utils.data import DataLoader,TensorDataset\n",
    "import matplotlib\n",
    "import matplotlib.pyplot as plt\n",
    "matplotlib.style.use('ggplot')\n",
    "import plotly.express as px\n",
    "import plotly.graph_objects as go\n",
    "import math\n",
    "from sklearn.preprocessing import MinMaxScaler\n",
    "from sklearn.metrics import r2_score, mean_absolute_percentage_error\n",
    "from TST import TimeSeriesTransformer\n",
    "from LSTM import COVID_LSTM\n",
    "from GRU import COVID_GRU\n",
    "\n",
    "%matplotlib inline\n",
    "device = torch.device('cuda:0' if torch.cuda.is_available() else 'cpu') \n",
    "from Utils import count_parameters, cumulative_to_daily, daily_to_cumulative"
   ]
  },
  {
   "cell_type": "markdown",
   "metadata": {},
   "source": [
    "# Importing Dataset"
   ]
  },
  {
   "cell_type": "code",
   "execution_count": 2,
   "metadata": {},
   "outputs": [],
   "source": [
    "state = 'NY'\n",
    "df = pd.read_csv('us-vaccines.csv').drop(['Code'],1)\n",
    "vaccines_cumulative = df[df['Entity']=='New York State']['people_vaccinated'].to_numpy().reshape(-1, 1)"
   ]
  },
  {
   "cell_type": "code",
   "execution_count": 3,
   "metadata": {},
   "outputs": [
    {
     "name": "stdout",
     "output_type": "stream",
     "text": [
      "Currently Vaccinated Untill today in NY is [9642901]\n"
     ]
    }
   ],
   "source": [
    "print(\"Currently Vaccinated Untill today in {} is {}\".format(state,vaccines_cumulative[-1]))"
   ]
  },
  {
   "cell_type": "markdown",
   "metadata": {},
   "source": [
    "States to be worked on are:\n",
    "- California: 39,512,223\n",
    "- New York: 19,453,561\n",
    "- Virginia: 8,535,519"
   ]
  },
  {
   "cell_type": "markdown",
   "metadata": {},
   "source": [
    "# Preprocessing Data"
   ]
  },
  {
   "cell_type": "code",
   "execution_count": 4,
   "metadata": {},
   "outputs": [],
   "source": [
    "scaler = MinMaxScaler(feature_range=(-1,+1.0))\n",
    "vaccines_daily = cumulative_to_daily(vaccines_cumulative)\n",
    "vaccines_daily_normalized = scaler.fit_transform(vaccines_daily.reshape(-1, 1))"
   ]
  },
  {
   "cell_type": "code",
   "execution_count": 5,
   "metadata": {},
   "outputs": [],
   "source": [
    "def convert_to_slide_window(data,time_steps):\n",
    "    X, y = [], []\n",
    "    # Stride = 1\n",
    "    # The (y) in our case is just the next timestep to compare with it\n",
    "    for i in range(len(data) - time_steps):\n",
    "        x = data[i:(i+time_steps)]\n",
    "        X.append(x)\n",
    "        y.append(data[i+time_steps])\n",
    "    return X,y"
   ]
  },
  {
   "cell_type": "code",
   "execution_count": 6,
   "metadata": {},
   "outputs": [],
   "source": [
    "window_size = 30\n",
    "\n",
    "X,Y = convert_to_slide_window(vaccines_daily_normalized,window_size)\n",
    "\n",
    "X_all, y_all = torch.FloatTensor(X).to(device), torch.FloatTensor(Y).to(device) # Full data to be trained on\n",
    "\n",
    "# Load into DataLoader\n",
    "all_loader = DataLoader(TensorDataset(X_all, y_all),batch_size=32, shuffle=True)\n",
    "\n",
    "# y_train_inverse = scaler.inverse_transform(y_train.cpu().detach().numpy())"
   ]
  },
  {
   "cell_type": "markdown",
   "metadata": {},
   "source": [
    "# TST Model"
   ]
  },
  {
   "cell_type": "code",
   "execution_count": 7,
   "metadata": {},
   "outputs": [
    {
     "data": {
      "text/plain": [
       "4"
      ]
     },
     "execution_count": 7,
     "metadata": {},
     "output_type": "execute_result"
    }
   ],
   "source": [
    "import gc\n",
    "gc.collect()"
   ]
  },
  {
   "cell_type": "code",
   "execution_count": 8,
   "metadata": {},
   "outputs": [
    {
     "name": "stdout",
     "output_type": "stream",
     "text": [
      "Epoch 1 Loss is 0.513226588567098\n",
      "Epoch 2 Loss is 0.2747970273097356\n",
      "Epoch 3 Loss is 0.1286915789047877\n",
      "Epoch 4 Loss is 0.05153109257419904\n",
      "Epoch 5 Loss is 0.025913697977860767\n",
      "Epoch 6 Loss is 0.026482719307144482\n",
      "Epoch 7 Loss is 0.029887412985165913\n",
      "Epoch 8 Loss is 0.02601264292995135\n",
      "Epoch 9 Loss is 0.024874543771147728\n",
      "Epoch 10 Loss is 0.024453311537702877\n",
      "Epoch 11 Loss is 0.02484450985987981\n",
      "Epoch 12 Loss is 0.025110877429445583\n",
      "Epoch 13 Loss is 0.025712186470627785\n",
      "Epoch 14 Loss is 0.025381963700056076\n",
      "Epoch 15 Loss is 0.027079392224550247\n",
      "Epoch 16 Loss is 0.024640098214149475\n",
      "Epoch 17 Loss is 0.02525017720957597\n",
      "Epoch 18 Loss is 0.02326721263428529\n",
      "Epoch 19 Loss is 0.025740393127004307\n",
      "Epoch 20 Loss is 0.02474033584197362\n",
      "Epoch 21 Loss is 0.025578510016202927\n",
      "Epoch 22 Loss is 0.02457907237112522\n",
      "Epoch 23 Loss is 0.025138190637032192\n",
      "Epoch 24 Loss is 0.025204490249355633\n",
      "Epoch 25 Loss is 0.023925470809141796\n",
      "Epoch 26 Loss is 0.022663267018894356\n",
      "Epoch 27 Loss is 0.024357641115784645\n",
      "Epoch 28 Loss is 0.02415417010585467\n",
      "Epoch 29 Loss is 0.023389479145407677\n",
      "Epoch 30 Loss is 0.0237091767291228\n",
      "Epoch 31 Loss is 0.02443132797876994\n",
      "Epoch 32 Loss is 0.023216966539621353\n",
      "Epoch 33 Loss is 0.022756374751528103\n",
      "Epoch 34 Loss is 0.024368887146313984\n",
      "Epoch 35 Loss is 0.023439766218264897\n",
      "Epoch 36 Loss is 0.024384263282020886\n",
      "Epoch 37 Loss is 0.02581078310807546\n",
      "Epoch 38 Loss is 0.024616267532110214\n",
      "Epoch 39 Loss is 0.025291459014018376\n",
      "Epoch 40 Loss is 0.022559513958791893\n",
      "Epoch 41 Loss is 0.02460510842502117\n",
      "Epoch 42 Loss is 0.025193712984522183\n",
      "Epoch 43 Loss is 0.025854335476954777\n",
      "Epoch 44 Loss is 0.026533704871932667\n",
      "Epoch 45 Loss is 0.02383896087606748\n",
      "Epoch 46 Loss is 0.024396227672696114\n",
      "Epoch 47 Loss is 0.024353502318263054\n",
      "Epoch 48 Loss is 0.02274289106329282\n",
      "Epoch 49 Loss is 0.02320010308176279\n",
      "Epoch 50 Loss is 0.02356734809776147\n",
      "Epoch 51 Loss is 0.023496567582090695\n",
      "Epoch 52 Loss is 0.024545346697171528\n",
      "Epoch 53 Loss is 0.02447499707341194\n",
      "Epoch 54 Loss is 0.02411900833249092\n",
      "Epoch 55 Loss is 0.022991167070964973\n",
      "Epoch 56 Loss is 0.02356096977988879\n",
      "Epoch 57 Loss is 0.02253910278280576\n",
      "Epoch 58 Loss is 0.02495500755806764\n",
      "Epoch 59 Loss is 0.0252625464151303\n",
      "Epoch 60 Loss is 0.023938665787378948\n",
      "Epoch 61 Loss is 0.025963309531410534\n",
      "Epoch 62 Loss is 0.02587902856369813\n",
      "Epoch 63 Loss is 0.022827494889497757\n",
      "Epoch 64 Loss is 0.02240609967460235\n",
      "Epoch 65 Loss is 0.02503575198352337\n",
      "Epoch 66 Loss is 0.024147473896543186\n",
      "Epoch 67 Loss is 0.024504967033863068\n",
      "Epoch 68 Loss is 0.024977779636780422\n",
      "Epoch 69 Loss is 0.023125215743978817\n",
      "Epoch 70 Loss is 0.025814513365427654\n",
      "Epoch 71 Loss is 0.02352181263267994\n",
      "Epoch 72 Loss is 0.022051807182530563\n",
      "Epoch 73 Loss is 0.023777233436703682\n",
      "Epoch 74 Loss is 0.02677044024070104\n",
      "Epoch 75 Loss is 0.023645533248782158\n",
      "Epoch 76 Loss is 0.0232774056494236\n",
      "Epoch 77 Loss is 0.023221713801225025\n",
      "Epoch 78 Loss is 0.02398378091553847\n",
      "Epoch 79 Loss is 0.023812140027681988\n",
      "Epoch 80 Loss is 0.023785704746842384\n",
      "Epoch 81 Loss is 0.02407304880519708\n",
      "Epoch 82 Loss is 0.02324128958086173\n",
      "Epoch 83 Loss is 0.02351218896607558\n",
      "Epoch 84 Loss is 0.024258567641178768\n",
      "Epoch 85 Loss is 0.026418558942774933\n",
      "Epoch 86 Loss is 0.023418894037604332\n",
      "Epoch 87 Loss is 0.024659371624390285\n",
      "Epoch 88 Loss is 0.022790246953566868\n",
      "Epoch 89 Loss is 0.023784388477603596\n",
      "Epoch 90 Loss is 0.024232087656855583\n",
      "Epoch 91 Loss is 0.0260313767939806\n",
      "Epoch 92 Loss is 0.02315545951326688\n",
      "Epoch 93 Loss is 0.025826210776964825\n",
      "Epoch 94 Loss is 0.023416077097256977\n",
      "Epoch 95 Loss is 0.022501531057059765\n",
      "Epoch 96 Loss is 0.023492202162742615\n",
      "Epoch 97 Loss is 0.024335048471887905\n",
      "Epoch 98 Loss is 0.02371051845451196\n",
      "Epoch 99 Loss is 0.023746129746238392\n",
      "Epoch 100 Loss is 0.024666103223959606\n",
      "Total Time (in minutes) is 0:00:09.356091\n"
     ]
    }
   ],
   "source": [
    "TST_model = TimeSeriesTransformer(n_features=1,d_model=128, n_heads=8, n_hidden=128, n_layers=8 ).to(device)\n",
    "criterion=torch.nn.MSELoss()\n",
    "# 0.00001 is the best LR for TST\n",
    "optimizer = optim.Adam(TST_model.parameters(), lr=0.00001)\n",
    "all_epochs_loss = TST_model.train_model(all_loader,criterion,optimizer,n_epochs = 100 )"
   ]
  },
  {
   "cell_type": "code",
   "execution_count": 9,
   "metadata": {},
   "outputs": [
    {
     "data": {
      "image/png": "[encoded data removed]",
      "text/plain": [
       "<Figure size 432x288 with 1 Axes>"
      ]
     },
     "metadata": {
      "needs_background": "light"
     },
     "output_type": "display_data"
    }
   ],
   "source": [
    "# Epoch 300 Loss is 0.0021550819316568473\n",
    "fig, ax = plt.subplots()\n",
    "plt.plot(all_epochs_loss)\n",
    "\n",
    "ax.set_title('Train Loss')\n",
    "ax.set_xlabel('Epoch')\n",
    "ax.set_ylabel('MSE Loss')\n",
    "plt.show()"
   ]
  },
  {
   "cell_type": "code",
   "execution_count": 10,
   "metadata": {},
   "outputs": [
    {
     "data": {
      "text/plain": [
       "torch.Size([82, 30, 1])"
      ]
     },
     "execution_count": 10,
     "metadata": {},
     "output_type": "execute_result"
    }
   ],
   "source": [
    "torch.FloatTensor(X).to(device).shape"
   ]
  },
  {
   "cell_type": "code",
   "execution_count": 11,
   "metadata": {},
   "outputs": [
    {
     "data": {
      "text/plain": [
       "0"
      ]
     },
     "execution_count": 11,
     "metadata": {},
     "output_type": "execute_result"
    }
   ],
   "source": [
    "import gc\n",
    "gc.collect()"
   ]
  },
  {
   "cell_type": "code",
   "execution_count": 32,
   "metadata": {},
   "outputs": [
    {
     "name": "stdout",
     "output_type": "stream",
     "text": [
      "torch.Size([130, 1, 1])\n"
     ]
    }
   ],
   "source": [
    "def forecast_TST(model, X, forecast_len,n_seed):\n",
    "    model.eval()\n",
    "    datapoint = X.unsqueeze(1) # [S,B,E]\n",
    "    torch.cuda.empty_cache()\n",
    "    for t in range(forecast_len): \n",
    "        \n",
    "        predicted = model(datapoint,None,None).to(device) # [S,B,E] \n",
    "        one_new_timestep=predicted[-1,:,:].unsqueeze(0) # [S,B,E]  -> Get the last predicted timestep\n",
    "        datapoint = torch.cat((datapoint,one_new_timestep),0)  # add the forecasted timestep\n",
    "    print(datapoint.shape)\n",
    "    forecasted = datapoint.squeeze()[n_seed:,] # Skip the first (n)seed timesteps cuz are n_seed\n",
    "    return forecasted\n",
    "\n",
    "forecasted_days_normalized = forecast_TST(TST_model,X=X_all[-1],forecast_len=100,n_seed = window_size )"
   ]
  },
  {
   "cell_type": "code",
   "execution_count": 33,
   "metadata": {},
   "outputs": [
    {
     "data": {
      "text/plain": [
       "torch.Size([100])"
      ]
     },
     "execution_count": 33,
     "metadata": {},
     "output_type": "execute_result"
    }
   ],
   "source": [
    "forecasted_days_normalized.shape"
   ]
  },
  {
   "cell_type": "code",
   "execution_count": 34,
   "metadata": {},
   "outputs": [
    {
     "data": {
      "image/png": "[encoded data removed]",
      "text/plain": [
       "<Figure size 432x288 with 1 Axes>"
      ]
     },
     "metadata": {
      "needs_background": "light"
     },
     "output_type": "display_data"
    }
   ],
   "source": [
    "daily_forecasted__nonNormalized = scaler.inverse_transform(forecasted_days_normalized.cpu().detach().numpy().reshape(-1, 1))\n",
    "# plt.plot(forecasted_days_normalized.cpu().detach().numpy())\n",
    "\n",
    "cumulative_forecasted = daily_to_cumulative(daily_forecasted__nonNormalized)"
   ]
  },
  {
   "cell_type": "code",
   "execution_count": 35,
   "metadata": {},
   "outputs": [
    {
     "data": {
      "text/plain": [
       "array([19498733.])"
      ]
     },
     "execution_count": 35,
     "metadata": {},
     "output_type": "execute_result"
    }
   ],
   "source": [
    "vaccines_cumulative[-1] + cumulative_forecasted[-1]"
   ]
  },
  {
   "cell_type": "code",
   "execution_count": 43,
   "metadata": {},
   "outputs": [
    {
     "data": {
      "text/plain": [
       "array([9855832.], dtype=float32)"
      ]
     },
     "execution_count": 43,
     "metadata": {},
     "output_type": "execute_result"
    }
   ],
   "source": [
    "cumulative_forecasted[-1]"
   ]
  },
  {
   "cell_type": "code",
   "execution_count": null,
   "metadata": {},
   "outputs": [],
   "source": [
    "X_train[...,-1]"
   ]
  },
  {
   "cell_type": "code",
   "execution_count": 37,
   "metadata": {},
   "outputs": [
    {
     "data": {
      "image/png": "[encoded data removed]",
      "text/plain": [
       "<Figure size 1080x360 with 1 Axes>"
      ]
     },
     "metadata": {
      "needs_background": "light"
     },
     "output_type": "display_data"
    }
   ],
   "source": [
    "fig, ax = plt.subplots()\n",
    "# ax.set_ylim([0.0,1.1])\n",
    "\n",
    "plt.plot(daily_forecasted__nonNormalized)\n",
    "\n",
    "# plt.plot(forecasted_once_TST[:,0].cpu().detach().numpy(),label='Forecast Function - TST',marker='o')\n",
    "fig.set_size_inches(15, 5)\n",
    "ax.set_title('{} - Number of Vaccinated People per Day'.format(state))\n",
    "ax.set_xlabel('Days')\n",
    "ax.set_ylabel('Number of People Vaccinated')\n",
    "# leg = ax.legend(bbox_to_anchor=(1.15, 1.01))\n",
    "plt.show()"
   ]
  },
  {
   "cell_type": "code",
   "execution_count": null,
   "metadata": {},
   "outputs": [],
   "source": []
  }
 ],
 "metadata": {
  "kernelspec": {
   "display_name": "Python 3",
   "language": "python",
   "name": "python3"
  },
  "language_info": {
   "codemirror_mode": {
    "name": "ipython",
    "version": 3
   },
   "file_extension": ".py",
   "mimetype": "text/x-python",
   "name": "python",
   "nbconvert_exporter": "python",
   "pygments_lexer": "ipython3",
   "version": "3.6.9"
  }
 },
 "nbformat": 4,
 "nbformat_minor": 4
}

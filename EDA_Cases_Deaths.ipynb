{
  "nbformat": 4,
  "nbformat_minor": 5,
  "metadata": {
    "kernelspec": {
      "display_name": "Python 3",
      "language": "python",
      "name": "python3"
    },
    "language_info": {
      "codemirror_mode": {
        "name": "ipython",
        "version": 3
      },
      "file_extension": ".py",
      "mimetype": "text/x-python",
      "name": "python",
      "nbconvert_exporter": "python",
      "pygments_lexer": "ipython3",
      "version": "3.8.5"
    },
    "colab": {
      "name": "EDA Cases/Deaths.ipynb",
      "provenance": []
    }
  },
  "cells": [
    {
      "cell_type": "code",
      "metadata": {
        "id": "bridal-vulnerability"
      },
      "source": [
        "import pandas as pd\n",
        "df = pd.read_csv('us-states.csv',error_bad_lines=False)"
      ],
      "id": "bridal-vulnerability",
      "execution_count": null,
      "outputs": []
    },
    {
      "cell_type": "code",
      "metadata": {
        "colab": {
          "base_uri": "https://localhost:8080/"
        },
        "id": "iNxoENpSJd9Q",
        "outputId": "3cfb3795-7d07-4b8b-9bf3-5f5bb112543a"
      },
      "source": [
        "TotalCases = df[df['date'] == '2021-04-22'].reset_index(drop = True)\n",
        "TotalCases = TotalCases[['state','cases', 'deaths']].sort_values(by=['deaths']).reset_index(drop = True)\n",
        "TotalCases\n",
        "#Five_States = TotalCases[(TotalCases['state'] == 'Northern Mariana Islands') | (TotalCases['state'] == 'Virgin Islands') | (TotalCases['state'] == 'Virginia') | (TotalCases['state'] == 'New York') | (TotalCases['state'] == 'California') ]\n",
        "#Five_States.reset_index(drop = True)"
      ],
      "id": "iNxoENpSJd9Q",
      "execution_count": null,
      "outputs": [
        {
          "output_type": "execute_result",
          "data": {
            "text/plain": [
              "<pandas.core.groupby.generic.DataFrameGroupBy object at 0x7f19afbf7950>"
            ]
          },
          "metadata": {
            "tags": []
          },
          "execution_count": 44
        }
      ]
    },
    {
      "cell_type": "code",
      "metadata": {
        "id": "empirical-cache"
      },
      "source": [
        "NY = df[df.state == 'New York'].reset_index()"
      ],
      "id": "empirical-cache",
      "execution_count": null,
      "outputs": []
    },
    {
      "cell_type": "code",
      "metadata": {
        "colab": {
          "base_uri": "https://localhost:8080/",
          "height": 402
        },
        "id": "gF1Zd3wKhzn1",
        "outputId": "7822483b-b41b-49c2-d081-e36c5f278cbe"
      },
      "source": [
        "NY"
      ],
      "id": "gF1Zd3wKhzn1",
      "execution_count": null,
      "outputs": [
        {
          "output_type": "execute_result",
          "data": {
            "text/html": [
              "<div>\n",
              "<style scoped>\n",
              "    .dataframe tbody tr th:only-of-type {\n",
              "        vertical-align: middle;\n",
              "    }\n",
              "\n",
              "    .dataframe tbody tr th {\n",
              "        vertical-align: top;\n",
              "    }\n",
              "\n",
              "    .dataframe thead th {\n",
              "        text-align: right;\n",
              "    }\n",
              "</style>\n",
              "<table border=\"1\" class=\"dataframe\">\n",
              "  <thead>\n",
              "    <tr style=\"text-align: right;\">\n",
              "      <th></th>\n",
              "      <th>index</th>\n",
              "      <th>date</th>\n",
              "      <th>state</th>\n",
              "      <th>fips</th>\n",
              "      <th>cases</th>\n",
              "      <th>deaths</th>\n",
              "    </tr>\n",
              "  </thead>\n",
              "  <tbody>\n",
              "    <tr>\n",
              "      <th>0</th>\n",
              "      <td>246</td>\n",
              "      <td>2020-03-01</td>\n",
              "      <td>New York</td>\n",
              "      <td>36</td>\n",
              "      <td>1</td>\n",
              "      <td>0</td>\n",
              "    </tr>\n",
              "    <tr>\n",
              "      <th>1</th>\n",
              "      <td>261</td>\n",
              "      <td>2020-03-02</td>\n",
              "      <td>New York</td>\n",
              "      <td>36</td>\n",
              "      <td>1</td>\n",
              "      <td>0</td>\n",
              "    </tr>\n",
              "    <tr>\n",
              "      <th>2</th>\n",
              "      <td>276</td>\n",
              "      <td>2020-03-03</td>\n",
              "      <td>New York</td>\n",
              "      <td>36</td>\n",
              "      <td>2</td>\n",
              "      <td>0</td>\n",
              "    </tr>\n",
              "    <tr>\n",
              "      <th>3</th>\n",
              "      <td>293</td>\n",
              "      <td>2020-03-04</td>\n",
              "      <td>New York</td>\n",
              "      <td>36</td>\n",
              "      <td>11</td>\n",
              "      <td>0</td>\n",
              "    </tr>\n",
              "    <tr>\n",
              "      <th>4</th>\n",
              "      <td>313</td>\n",
              "      <td>2020-03-05</td>\n",
              "      <td>New York</td>\n",
              "      <td>36</td>\n",
              "      <td>22</td>\n",
              "      <td>0</td>\n",
              "    </tr>\n",
              "    <tr>\n",
              "      <th>...</th>\n",
              "      <td>...</td>\n",
              "      <td>...</td>\n",
              "      <td>...</td>\n",
              "      <td>...</td>\n",
              "      <td>...</td>\n",
              "      <td>...</td>\n",
              "    </tr>\n",
              "    <tr>\n",
              "      <th>413</th>\n",
              "      <td>22652</td>\n",
              "      <td>2021-04-18</td>\n",
              "      <td>New York</td>\n",
              "      <td>36</td>\n",
              "      <td>1996876</td>\n",
              "      <td>51077</td>\n",
              "    </tr>\n",
              "    <tr>\n",
              "      <th>414</th>\n",
              "      <td>22707</td>\n",
              "      <td>2021-04-19</td>\n",
              "      <td>New York</td>\n",
              "      <td>36</td>\n",
              "      <td>2002053</td>\n",
              "      <td>51122</td>\n",
              "    </tr>\n",
              "    <tr>\n",
              "      <th>415</th>\n",
              "      <td>22762</td>\n",
              "      <td>2021-04-20</td>\n",
              "      <td>New York</td>\n",
              "      <td>36</td>\n",
              "      <td>2006712</td>\n",
              "      <td>51183</td>\n",
              "    </tr>\n",
              "    <tr>\n",
              "      <th>416</th>\n",
              "      <td>22817</td>\n",
              "      <td>2021-04-21</td>\n",
              "      <td>New York</td>\n",
              "      <td>36</td>\n",
              "      <td>2010967</td>\n",
              "      <td>51228</td>\n",
              "    </tr>\n",
              "    <tr>\n",
              "      <th>417</th>\n",
              "      <td>22872</td>\n",
              "      <td>2021-04-22</td>\n",
              "      <td>New York</td>\n",
              "      <td>36</td>\n",
              "      <td>2016244</td>\n",
              "      <td>51299</td>\n",
              "    </tr>\n",
              "  </tbody>\n",
              "</table>\n",
              "<p>418 rows × 6 columns</p>\n",
              "</div>"
            ],
            "text/plain": [
              "     index        date     state  fips    cases  deaths\n",
              "0      246  2020-03-01  New York    36        1       0\n",
              "1      261  2020-03-02  New York    36        1       0\n",
              "2      276  2020-03-03  New York    36        2       0\n",
              "3      293  2020-03-04  New York    36       11       0\n",
              "4      313  2020-03-05  New York    36       22       0\n",
              "..     ...         ...       ...   ...      ...     ...\n",
              "413  22652  2021-04-18  New York    36  1996876   51077\n",
              "414  22707  2021-04-19  New York    36  2002053   51122\n",
              "415  22762  2021-04-20  New York    36  2006712   51183\n",
              "416  22817  2021-04-21  New York    36  2010967   51228\n",
              "417  22872  2021-04-22  New York    36  2016244   51299\n",
              "\n",
              "[418 rows x 6 columns]"
            ]
          },
          "metadata": {
            "tags": []
          },
          "execution_count": 189
        }
      ]
    },
    {
      "cell_type": "code",
      "metadata": {
        "id": "dldNgr9pNFUe"
      },
      "source": [
        "NY = NY[['date','cases','deaths']]"
      ],
      "id": "dldNgr9pNFUe",
      "execution_count": null,
      "outputs": []
    },
    {
      "cell_type": "code",
      "metadata": {
        "colab": {
          "base_uri": "https://localhost:8080/"
        },
        "id": "f-hC3CJsMjk-",
        "outputId": "f61867dc-d221-46e0-c2c7-515df7483bad"
      },
      "source": [
        "NY['cases']"
      ],
      "id": "f-hC3CJsMjk-",
      "execution_count": null,
      "outputs": [
        {
          "output_type": "execute_result",
          "data": {
            "text/plain": [
              "0            1\n",
              "1            1\n",
              "2            2\n",
              "3           11\n",
              "4           22\n",
              "        ...   \n",
              "413    1996876\n",
              "414    2002053\n",
              "415    2006712\n",
              "416    2010967\n",
              "417    2016244\n",
              "Name: cases, Length: 418, dtype: int64"
            ]
          },
          "metadata": {
            "tags": []
          },
          "execution_count": 191
        }
      ]
    }
  ]
}
{
 "cells": [
  {
   "cell_type": "code",
   "execution_count": 1,
   "metadata": {},
   "outputs": [],
   "source": [
    "import pandas as pd\n",
    "import numpy as np\n",
    "import torch\n",
    "from torch import optim\n",
    "from datetime import timedelta\n",
    "from torch.utils.data import DataLoader,TensorDataset\n",
    "import matplotlib\n",
    "import matplotlib.pyplot as plt\n",
    "matplotlib.style.use('ggplot')\n",
    "import plotly.express as px\n",
    "import plotly.graph_objects as go\n",
    "import math\n",
    "from sklearn.preprocessing import MinMaxScaler\n",
    "from sklearn.metrics import r2_score, mean_absolute_percentage_error\n",
    "from TST import TimeSeriesTransformer\n",
    "from LSTM import COVID_LSTM\n",
    "from GRU import COVID_GRU\n",
    "\n",
    "%matplotlib inline\n",
    "device = torch.device('cuda:0' if torch.cuda.is_available() else 'cpu') \n",
    "from Utils import count_parameters, cumulative_to_daily, daily_to_cumulative"
   ]
  },
  {
   "cell_type": "markdown",
   "metadata": {},
   "source": [
    "# Importing Dataset"
   ]
  },
  {
   "cell_type": "code",
   "execution_count": 2,
   "metadata": {},
   "outputs": [],
   "source": [
    "state = 'VA'\n",
    "df = pd.read_csv('us-vaccines.csv').drop(['Code'],1)\n",
    "vaccines_cumulative = df[df['Entity']=='Virginia']['people_vaccinated'].to_numpy().reshape(-1, 1)"
   ]
  },
  {
   "cell_type": "code",
   "execution_count": 3,
   "metadata": {},
   "outputs": [
    {
     "name": "stdout",
     "output_type": "stream",
     "text": [
      "Currently Vaccinated Untill today in VA is [4194146]\n"
     ]
    }
   ],
   "source": [
    "print(\"Currently Vaccinated Untill today in {} is {}\".format(state,vaccines_cumulative[-1]))"
   ]
  },
  {
   "cell_type": "markdown",
   "metadata": {},
   "source": [
    "States to be worked on are:\n",
    "- California: 39,512,223\n",
    "- New York: 19,453,561\n",
    "- Virginia: 8,535,519"
   ]
  },
  {
   "cell_type": "markdown",
   "metadata": {},
   "source": [
    "# Preprocessing Data"
   ]
  },
  {
   "cell_type": "code",
   "execution_count": 4,
   "metadata": {},
   "outputs": [],
   "source": [
    "scaler = MinMaxScaler(feature_range=(-1,+1.0))\n",
    "vaccines_daily = cumulative_to_daily(vaccines_cumulative)\n",
    "vaccines_daily_normalized = scaler.fit_transform(vaccines_daily.reshape(-1, 1))"
   ]
  },
  {
   "cell_type": "code",
   "execution_count": 5,
   "metadata": {},
   "outputs": [],
   "source": [
    "def convert_to_slide_window(data,time_steps):\n",
    "    X, y = [], []\n",
    "    # Stride = 1\n",
    "    # The (y) in our case is just the next timestep to compare with it\n",
    "    for i in range(len(data) - time_steps):\n",
    "        x = data[i:(i+time_steps)]\n",
    "        X.append(x)\n",
    "        y.append(data[i+time_steps])\n",
    "    return X,y"
   ]
  },
  {
   "cell_type": "code",
   "execution_count": 6,
   "metadata": {},
   "outputs": [],
   "source": [
    "window_size = 30\n",
    "\n",
    "X,Y = convert_to_slide_window(vaccines_daily_normalized,window_size)\n",
    "\n",
    "X_all, y_all = torch.FloatTensor(X).to(device), torch.FloatTensor(Y).to(device) # Full data to be trained on\n",
    "\n",
    "# Load into DataLoader\n",
    "all_loader = DataLoader(TensorDataset(X_all, y_all),batch_size=32, shuffle=True)\n",
    "\n",
    "# y_train_inverse = scaler.inverse_transform(y_train.cpu().detach().numpy())"
   ]
  },
  {
   "cell_type": "markdown",
   "metadata": {},
   "source": [
    "# TST Model"
   ]
  },
  {
   "cell_type": "code",
   "execution_count": 7,
   "metadata": {},
   "outputs": [
    {
     "data": {
      "text/plain": [
       "4"
      ]
     },
     "execution_count": 7,
     "metadata": {},
     "output_type": "execute_result"
    }
   ],
   "source": [
    "import gc\n",
    "gc.collect()"
   ]
  },
  {
   "cell_type": "code",
   "execution_count": 8,
   "metadata": {},
   "outputs": [
    {
     "name": "stdout",
     "output_type": "stream",
     "text": [
      "Epoch 1 Loss is 0.21522357066472372\n",
      "Epoch 2 Loss is 0.14166659861803055\n",
      "Epoch 3 Loss is 0.08808850993712743\n",
      "Epoch 4 Loss is 0.060264840722084045\n",
      "Epoch 5 Loss is 0.03818554679552714\n",
      "Epoch 6 Loss is 0.032217107713222504\n",
      "Epoch 7 Loss is 0.03183429812391599\n",
      "Epoch 8 Loss is 0.03516109039386114\n",
      "Epoch 9 Loss is 0.03931632141272227\n",
      "Epoch 10 Loss is 0.03638505997757117\n",
      "Epoch 11 Loss is 0.033511574690540634\n",
      "Epoch 12 Loss is 0.03394451240698496\n",
      "Epoch 13 Loss is 0.03633653869231542\n",
      "Epoch 14 Loss is 0.032992431273063026\n",
      "Epoch 15 Loss is 0.032638054341077805\n",
      "Epoch 16 Loss is 0.03344479824105898\n",
      "Epoch 17 Loss is 0.03148082767923673\n",
      "Epoch 18 Loss is 0.03310558758676052\n",
      "Epoch 19 Loss is 0.03261051078637441\n",
      "Epoch 20 Loss is 0.03554798352221648\n",
      "Epoch 21 Loss is 0.02996583158771197\n",
      "Epoch 22 Loss is 0.032933332646886505\n",
      "Epoch 23 Loss is 0.031848678986231484\n",
      "Epoch 24 Loss is 0.03368780389428139\n",
      "Epoch 25 Loss is 0.033077420045932136\n",
      "Epoch 26 Loss is 0.03330305963754654\n",
      "Epoch 27 Loss is 0.03378709405660629\n",
      "Epoch 28 Loss is 0.03399382655819257\n",
      "Epoch 29 Loss is 0.03275433120628198\n",
      "Epoch 30 Loss is 0.031680382788181305\n",
      "Epoch 31 Loss is 0.03723295219242573\n",
      "Epoch 32 Loss is 0.03219998627901077\n",
      "Epoch 33 Loss is 0.03155252027014891\n",
      "Epoch 34 Loss is 0.031710357715686165\n",
      "Epoch 35 Loss is 0.031363713865478836\n",
      "Epoch 36 Loss is 0.031808809066812195\n",
      "Epoch 37 Loss is 0.03295835728446642\n",
      "Epoch 38 Loss is 0.03279497163991133\n",
      "Epoch 39 Loss is 0.03473941795527935\n",
      "Epoch 40 Loss is 0.03404111663500468\n",
      "Epoch 41 Loss is 0.032383268078168236\n",
      "Epoch 42 Loss is 0.03485422829786936\n",
      "Epoch 43 Loss is 0.032198078309496246\n",
      "Epoch 44 Loss is 0.03360788399974505\n",
      "Epoch 45 Loss is 0.03420971458156904\n",
      "Epoch 46 Loss is 0.03422541916370392\n",
      "Epoch 47 Loss is 0.03329075500369072\n",
      "Epoch 48 Loss is 0.03253966507812341\n",
      "Epoch 49 Loss is 0.03175932168960571\n",
      "Epoch 50 Loss is 0.03018873215963443\n",
      "Epoch 51 Loss is 0.033054775247971215\n",
      "Epoch 52 Loss is 0.03386659361422062\n",
      "Epoch 53 Loss is 0.03333398513495922\n",
      "Epoch 54 Loss is 0.03498370138307413\n",
      "Epoch 55 Loss is 0.033910407374302544\n",
      "Epoch 56 Loss is 0.032062175373236336\n",
      "Epoch 57 Loss is 0.03236766097446283\n",
      "Epoch 58 Loss is 0.031799896930654846\n",
      "Epoch 59 Loss is 0.03270460789402326\n",
      "Epoch 60 Loss is 0.031441338981191315\n",
      "Epoch 61 Loss is 0.034207905332247414\n",
      "Epoch 62 Loss is 0.03268903307616711\n",
      "Epoch 63 Loss is 0.03204215690493584\n",
      "Epoch 64 Loss is 0.035576178381840386\n",
      "Epoch 65 Loss is 0.03185575641691685\n",
      "Epoch 66 Loss is 0.03301335250337919\n",
      "Epoch 67 Loss is 0.032116119439403214\n",
      "Epoch 68 Loss is 0.03234153365095457\n",
      "Epoch 69 Loss is 0.03466617688536644\n",
      "Epoch 70 Loss is 0.031751103699207306\n",
      "Epoch 71 Loss is 0.0312690082937479\n",
      "Epoch 72 Loss is 0.03205235737065474\n",
      "Epoch 73 Loss is 0.03101973421871662\n",
      "Epoch 74 Loss is 0.03354924234251181\n",
      "Epoch 75 Loss is 0.032916671906908355\n",
      "Epoch 76 Loss is 0.033849394569794335\n",
      "Epoch 77 Loss is 0.03421594947576523\n",
      "Epoch 78 Loss is 0.033832671120762825\n",
      "Epoch 79 Loss is 0.03234044462442398\n",
      "Epoch 80 Loss is 0.033006479342778526\n",
      "Epoch 81 Loss is 0.03208745705584685\n",
      "Epoch 82 Loss is 0.03329496085643768\n",
      "Epoch 83 Loss is 0.03258213959634304\n",
      "Epoch 84 Loss is 0.031901080161333084\n",
      "Epoch 85 Loss is 0.03338849917054176\n",
      "Epoch 86 Loss is 0.029313134339948494\n",
      "Epoch 87 Loss is 0.03132501617074013\n",
      "Epoch 88 Loss is 0.03252099392314752\n",
      "Epoch 89 Loss is 0.03374670073390007\n",
      "Epoch 90 Loss is 0.03379162773489952\n",
      "Epoch 91 Loss is 0.03333789110183716\n",
      "Epoch 92 Loss is 0.033279430121183395\n",
      "Epoch 93 Loss is 0.03136053557197253\n",
      "Epoch 94 Loss is 0.03391739601890246\n",
      "Epoch 95 Loss is 0.03190376857916514\n",
      "Epoch 96 Loss is 0.031785303726792336\n",
      "Epoch 97 Loss is 0.03538971208035946\n",
      "Epoch 98 Loss is 0.03229955087105433\n",
      "Epoch 99 Loss is 0.03209939288596312\n",
      "Epoch 100 Loss is 0.033307707558075585\n",
      "Total Time (in minutes) is 0:00:09.268231\n"
     ]
    }
   ],
   "source": [
    "TST_model = TimeSeriesTransformer(n_features=1,d_model=128, n_heads=8, n_hidden=128, n_layers=8 ).to(device)\n",
    "criterion=torch.nn.MSELoss()\n",
    "# 0.00001 is the best LR for TST\n",
    "optimizer = optim.Adam(TST_model.parameters(), lr=0.00001)\n",
    "all_epochs_loss = TST_model.train_model(all_loader,criterion,optimizer,n_epochs = 100 )"
   ]
  },
  {
   "cell_type": "code",
   "execution_count": 9,
   "metadata": {},
   "outputs": [
    {
     "data": {
      "image/png": "[encoded data removed]",
      "text/plain": [
       "<Figure size 432x288 with 1 Axes>"
      ]
     },
     "metadata": {
      "needs_background": "light"
     },
     "output_type": "display_data"
    }
   ],
   "source": [
    "# Epoch 300 Loss is 0.0021550819316568473\n",
    "fig, ax = plt.subplots()\n",
    "plt.plot(all_epochs_loss)\n",
    "\n",
    "ax.set_title('Train Loss')\n",
    "ax.set_xlabel('Epoch')\n",
    "ax.set_ylabel('MSE Loss')\n",
    "plt.show()"
   ]
  },
  {
   "cell_type": "code",
   "execution_count": 10,
   "metadata": {},
   "outputs": [
    {
     "data": {
      "text/plain": [
       "torch.Size([80, 30, 1])"
      ]
     },
     "execution_count": 10,
     "metadata": {},
     "output_type": "execute_result"
    }
   ],
   "source": [
    "torch.FloatTensor(X).to(device).shape"
   ]
  },
  {
   "cell_type": "code",
   "execution_count": 11,
   "metadata": {},
   "outputs": [
    {
     "data": {
      "text/plain": [
       "0"
      ]
     },
     "execution_count": 11,
     "metadata": {},
     "output_type": "execute_result"
    }
   ],
   "source": [
    "import gc\n",
    "gc.collect()"
   ]
  },
  {
   "cell_type": "code",
   "execution_count": 12,
   "metadata": {},
   "outputs": [
    {
     "name": "stdout",
     "output_type": "stream",
     "text": [
      "torch.Size([145, 1, 1])\n"
     ]
    }
   ],
   "source": [
    "def forecast_TST(model, X, forecast_len,n_seed):\n",
    "    model.eval()\n",
    "    datapoint = X.unsqueeze(1) # [S,B,E]\n",
    "    torch.cuda.empty_cache()\n",
    "    for t in range(forecast_len): \n",
    "        \n",
    "        predicted = model(datapoint,None,None).to(device) # [S,B,E] \n",
    "        one_new_timestep=predicted[-1,:,:].unsqueeze(0) # [S,B,E]  -> Get the last predicted timestep\n",
    "        datapoint = torch.cat((datapoint,one_new_timestep),0)  # add the forecasted timestep\n",
    "    print(datapoint.shape)\n",
    "    forecasted = datapoint.squeeze()[n_seed:,] # Skip the first (n)seed timesteps cuz are n_seed\n",
    "    return forecasted\n",
    "\n",
    "forecasted_days_normalized = forecast_TST(TST_model,X=X_all[-1],forecast_len=115,n_seed = window_size )"
   ]
  },
  {
   "cell_type": "code",
   "execution_count": 13,
   "metadata": {},
   "outputs": [
    {
     "data": {
      "text/plain": [
       "torch.Size([115])"
      ]
     },
     "execution_count": 13,
     "metadata": {},
     "output_type": "execute_result"
    }
   ],
   "source": [
    "forecasted_days_normalized.shape"
   ]
  },
  {
   "cell_type": "code",
   "execution_count": 14,
   "metadata": {},
   "outputs": [],
   "source": [
    "daily_forecasted__nonNormalized = scaler.inverse_transform(forecasted_days_normalized.cpu().detach().numpy().reshape(-1, 1))\n",
    "cumulative_forecasted = daily_to_cumulative(daily_forecasted__nonNormalized)"
   ]
  },
  {
   "cell_type": "code",
   "execution_count": 15,
   "metadata": {},
   "outputs": [
    {
     "data": {
      "text/plain": [
       "array([8656773.5])"
      ]
     },
     "execution_count": 15,
     "metadata": {},
     "output_type": "execute_result"
    }
   ],
   "source": [
    "vaccines_cumulative[-1] + cumulative_forecasted[-1]"
   ]
  },
  {
   "cell_type": "code",
   "execution_count": 16,
   "metadata": {},
   "outputs": [
    {
     "data": {
      "text/plain": [
       "array([4194146])"
      ]
     },
     "execution_count": 16,
     "metadata": {},
     "output_type": "execute_result"
    }
   ],
   "source": [
    "vaccines_cumulative[-1] "
   ]
  },
  {
   "cell_type": "code",
   "execution_count": 17,
   "metadata": {},
   "outputs": [
    {
     "data": {
      "text/plain": [
       "array([4462627.5], dtype=float32)"
      ]
     },
     "execution_count": 17,
     "metadata": {},
     "output_type": "execute_result"
    }
   ],
   "source": [
    "cumulative_forecasted[-1]"
   ]
  },
  {
   "cell_type": "code",
   "execution_count": 19,
   "metadata": {},
   "outputs": [
    {
     "data": {
      "image/png": "[encoded data removed]",
      "text/plain": [
       "<Figure size 1080x360 with 1 Axes>"
      ]
     },
     "metadata": {
      "needs_background": "light"
     },
     "output_type": "display_data"
    }
   ],
   "source": [
    "fig, ax = plt.subplots()\n",
    "# ax.set_ylim([0.0,1.1])\n",
    "\n",
    "plt.plot(daily_forecasted__nonNormalized)\n",
    "\n",
    "# plt.plot(forecasted_once_TST[:,0].cpu().detach().numpy(),label='Forecast Function - TST',marker='o')\n",
    "fig.set_size_inches(15, 5)\n",
    "ax.set_title('{} - Number of Vaccinated People per Day'.format(state))\n",
    "ax.set_xlabel('Days')\n",
    "ax.set_ylabel('Number of People Vaccinated')\n",
    "# leg = ax.legend(bbox_to_anchor=(1.15, 1.01))\n",
    "plt.show()"
   ]
  },
  {
   "cell_type": "code",
   "execution_count": null,
   "metadata": {},
   "outputs": [],
   "source": []
  }
 ],
 "metadata": {
  "kernelspec": {
   "display_name": "Python 3",
   "language": "python",
   "name": "python3"
  },
  "language_info": {
   "codemirror_mode": {
    "name": "ipython",
    "version": 3
   },
   "file_extension": ".py",
   "mimetype": "text/x-python",
   "name": "python",
   "nbconvert_exporter": "python",
   "pygments_lexer": "ipython3",
   "version": "3.6.9"
  }
 },
 "nbformat": 4,
 "nbformat_minor": 4
}

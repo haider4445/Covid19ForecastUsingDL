{
  "nbformat": 4,
  "nbformat_minor": 5,
  "metadata": {
    "kernelspec": {
      "display_name": "Python 3",
      "language": "python",
      "name": "python3"
    },
    "language_info": {
      "codemirror_mode": {
        "name": "ipython",
        "version": 3
      },
      "file_extension": ".py",
      "mimetype": "text/x-python",
      "name": "python",
      "nbconvert_exporter": "python",
      "pygments_lexer": "ipython3",
      "version": "3.8.5"
    },
    "colab": {
      "name": "Vaccines NY/VA Prophet.ipynb",
      "provenance": [],
      "toc_visible": true
    }
  },
  "cells": [
    {
      "cell_type": "code",
      "metadata": {
        "id": "bridal-vulnerability"
      },
      "source": [
        "import pandas as pd\n",
        "\n",
        "df = pd.read_csv('us-vaccines.csv',error_bad_lines=False)"
      ],
      "id": "bridal-vulnerability",
      "execution_count": null,
      "outputs": []
    },
    {
      "cell_type": "code",
      "metadata": {
        "colab": {
          "base_uri": "https://localhost:8080/"
        },
        "id": "gu6zWtOIa_xv",
        "outputId": "00b69bd6-22d7-4bb8-c699-a6f405b66447"
      },
      "source": [
        "df['Entity']"
      ],
      "id": "gu6zWtOIa_xv",
      "execution_count": null,
      "outputs": [
        {
          "output_type": "execute_result",
          "data": {
            "text/plain": [
              "0       Alabama\n",
              "1       Alabama\n",
              "2       Alabama\n",
              "3       Alabama\n",
              "4       Alabama\n",
              "         ...   \n",
              "6778    Wyoming\n",
              "6779    Wyoming\n",
              "6780    Wyoming\n",
              "6781    Wyoming\n",
              "6782    Wyoming\n",
              "Name: Entity, Length: 6783, dtype: object"
            ]
          },
          "metadata": {
            "tags": []
          },
          "execution_count": 54
        }
      ]
    },
    {
      "cell_type": "code",
      "metadata": {
        "id": "empirical-cache"
      },
      "source": [
        "NY = df[df.Entity == 'Virginia'].reset_index()"
      ],
      "id": "empirical-cache",
      "execution_count": null,
      "outputs": []
    },
    {
      "cell_type": "code",
      "metadata": {
        "colab": {
          "base_uri": "https://localhost:8080/",
          "height": 402
        },
        "id": "gF1Zd3wKhzn1",
        "outputId": "3b39d2e3-0118-46ec-8a15-1ebce77bd25e"
      },
      "source": [
        "NY"
      ],
      "id": "gF1Zd3wKhzn1",
      "execution_count": null,
      "outputs": [
        {
          "output_type": "execute_result",
          "data": {
            "text/html": [
              "<div>\n",
              "<style scoped>\n",
              "    .dataframe tbody tr th:only-of-type {\n",
              "        vertical-align: middle;\n",
              "    }\n",
              "\n",
              "    .dataframe tbody tr th {\n",
              "        vertical-align: top;\n",
              "    }\n",
              "\n",
              "    .dataframe thead th {\n",
              "        text-align: right;\n",
              "    }\n",
              "</style>\n",
              "<table border=\"1\" class=\"dataframe\">\n",
              "  <thead>\n",
              "    <tr style=\"text-align: right;\">\n",
              "      <th></th>\n",
              "      <th>index</th>\n",
              "      <th>Entity</th>\n",
              "      <th>Code</th>\n",
              "      <th>Day</th>\n",
              "      <th>daily_vaccinations</th>\n",
              "    </tr>\n",
              "  </thead>\n",
              "  <tbody>\n",
              "    <tr>\n",
              "      <th>0</th>\n",
              "      <td>6263</td>\n",
              "      <td>Virginia</td>\n",
              "      <td>NaN</td>\n",
              "      <td>2021-01-13</td>\n",
              "      <td>27229</td>\n",
              "    </tr>\n",
              "    <tr>\n",
              "      <th>1</th>\n",
              "      <td>6264</td>\n",
              "      <td>Virginia</td>\n",
              "      <td>NaN</td>\n",
              "      <td>2021-01-14</td>\n",
              "      <td>13614</td>\n",
              "    </tr>\n",
              "    <tr>\n",
              "      <th>2</th>\n",
              "      <td>6265</td>\n",
              "      <td>Virginia</td>\n",
              "      <td>NaN</td>\n",
              "      <td>2021-01-15</td>\n",
              "      <td>17876</td>\n",
              "    </tr>\n",
              "    <tr>\n",
              "      <th>3</th>\n",
              "      <td>6266</td>\n",
              "      <td>Virginia</td>\n",
              "      <td>NaN</td>\n",
              "      <td>2021-01-16</td>\n",
              "      <td>18573</td>\n",
              "    </tr>\n",
              "    <tr>\n",
              "      <th>4</th>\n",
              "      <td>6267</td>\n",
              "      <td>Virginia</td>\n",
              "      <td>NaN</td>\n",
              "      <td>2021-01-17</td>\n",
              "      <td>18991</td>\n",
              "    </tr>\n",
              "    <tr>\n",
              "      <th>...</th>\n",
              "      <td>...</td>\n",
              "      <td>...</td>\n",
              "      <td>...</td>\n",
              "      <td>...</td>\n",
              "      <td>...</td>\n",
              "    </tr>\n",
              "    <tr>\n",
              "      <th>99</th>\n",
              "      <td>6362</td>\n",
              "      <td>Virginia</td>\n",
              "      <td>NaN</td>\n",
              "      <td>2021-04-22</td>\n",
              "      <td>88988</td>\n",
              "    </tr>\n",
              "    <tr>\n",
              "      <th>100</th>\n",
              "      <td>6363</td>\n",
              "      <td>Virginia</td>\n",
              "      <td>NaN</td>\n",
              "      <td>2021-04-23</td>\n",
              "      <td>85810</td>\n",
              "    </tr>\n",
              "    <tr>\n",
              "      <th>101</th>\n",
              "      <td>6364</td>\n",
              "      <td>Virginia</td>\n",
              "      <td>NaN</td>\n",
              "      <td>2021-04-24</td>\n",
              "      <td>86223</td>\n",
              "    </tr>\n",
              "    <tr>\n",
              "      <th>102</th>\n",
              "      <td>6365</td>\n",
              "      <td>Virginia</td>\n",
              "      <td>NaN</td>\n",
              "      <td>2021-04-25</td>\n",
              "      <td>85460</td>\n",
              "    </tr>\n",
              "    <tr>\n",
              "      <th>103</th>\n",
              "      <td>6366</td>\n",
              "      <td>Virginia</td>\n",
              "      <td>NaN</td>\n",
              "      <td>2021-04-26</td>\n",
              "      <td>86267</td>\n",
              "    </tr>\n",
              "  </tbody>\n",
              "</table>\n",
              "<p>104 rows × 5 columns</p>\n",
              "</div>"
            ],
            "text/plain": [
              "     index    Entity Code         Day  daily_vaccinations\n",
              "0     6263  Virginia  NaN  2021-01-13               27229\n",
              "1     6264  Virginia  NaN  2021-01-14               13614\n",
              "2     6265  Virginia  NaN  2021-01-15               17876\n",
              "3     6266  Virginia  NaN  2021-01-16               18573\n",
              "4     6267  Virginia  NaN  2021-01-17               18991\n",
              "..     ...       ...  ...         ...                 ...\n",
              "99    6362  Virginia  NaN  2021-04-22               88988\n",
              "100   6363  Virginia  NaN  2021-04-23               85810\n",
              "101   6364  Virginia  NaN  2021-04-24               86223\n",
              "102   6365  Virginia  NaN  2021-04-25               85460\n",
              "103   6366  Virginia  NaN  2021-04-26               86267\n",
              "\n",
              "[104 rows x 5 columns]"
            ]
          },
          "metadata": {
            "tags": []
          },
          "execution_count": 56
        }
      ]
    },
    {
      "cell_type": "code",
      "metadata": {
        "id": "dldNgr9pNFUe"
      },
      "source": [
        "NY = NY[['Day','daily_vaccinations']]"
      ],
      "id": "dldNgr9pNFUe",
      "execution_count": null,
      "outputs": []
    },
    {
      "cell_type": "code",
      "metadata": {
        "colab": {
          "base_uri": "https://localhost:8080/",
          "height": 282
        },
        "id": "4NvrAr-ZPExa",
        "outputId": "042d6edb-36ff-45fa-c465-10fb9a322827"
      },
      "source": [
        "import matplotlib.pyplot as plt\n",
        "plt.plot(NY['daily_vaccinations'])"
      ],
      "id": "4NvrAr-ZPExa",
      "execution_count": null,
      "outputs": [
        {
          "output_type": "execute_result",
          "data": {
            "text/plain": [
              "[<matplotlib.lines.Line2D at 0x7f7af2437f90>]"
            ]
          },
          "metadata": {
            "tags": []
          },
          "execution_count": 58
        },
        {
          "output_type": "display_data",
          "data": {
            "image/png": "[encoded data removed]",
            "text/plain": [
              "<Figure size 432x288 with 1 Axes>"
            ]
          },
          "metadata": {
            "tags": [],
            "needs_background": "light"
          }
        }
      ]
    },
    {
      "cell_type": "code",
      "metadata": {
        "colab": {
          "base_uri": "https://localhost:8080/"
        },
        "id": "x17X_4B7Wj4z",
        "outputId": "48a8f5ba-ca1d-42b5-ce47-d3f25b7ff8f3"
      },
      "source": [
        "!pip install fbprophet"
      ],
      "id": "x17X_4B7Wj4z",
      "execution_count": null,
      "outputs": [
        {
          "output_type": "stream",
          "text": [
            "Requirement already satisfied: fbprophet in /usr/local/lib/python3.7/dist-packages (0.7.1)\n",
            "Requirement already satisfied: Cython>=0.22 in /usr/local/lib/python3.7/dist-packages (from fbprophet) (0.29.22)\n",
            "Requirement already satisfied: cmdstanpy==0.9.5 in /usr/local/lib/python3.7/dist-packages (from fbprophet) (0.9.5)\n",
            "Requirement already satisfied: pystan>=2.14 in /usr/local/lib/python3.7/dist-packages (from fbprophet) (2.19.1.1)\n",
            "Requirement already satisfied: numpy>=1.15.4 in /usr/local/lib/python3.7/dist-packages (from fbprophet) (1.19.5)\n",
            "Requirement already satisfied: pandas>=1.0.4 in /usr/local/lib/python3.7/dist-packages (from fbprophet) (1.1.5)\n",
            "Requirement already satisfied: matplotlib>=2.0.0 in /usr/local/lib/python3.7/dist-packages (from fbprophet) (3.2.2)\n",
            "Requirement already satisfied: LunarCalendar>=0.0.9 in /usr/local/lib/python3.7/dist-packages (from fbprophet) (0.0.9)\n",
            "Requirement already satisfied: convertdate>=2.1.2 in /usr/local/lib/python3.7/dist-packages (from fbprophet) (2.3.2)\n",
            "Requirement already satisfied: holidays>=0.10.2 in /usr/local/lib/python3.7/dist-packages (from fbprophet) (0.10.5.2)\n",
            "Requirement already satisfied: setuptools-git>=1.2 in /usr/local/lib/python3.7/dist-packages (from fbprophet) (1.2)\n",
            "Requirement already satisfied: python-dateutil>=2.8.0 in /usr/local/lib/python3.7/dist-packages (from fbprophet) (2.8.1)\n",
            "Requirement already satisfied: tqdm>=4.36.1 in /usr/local/lib/python3.7/dist-packages (from fbprophet) (4.41.1)\n",
            "Requirement already satisfied: pytz>=2017.2 in /usr/local/lib/python3.7/dist-packages (from pandas>=1.0.4->fbprophet) (2018.9)\n",
            "Requirement already satisfied: kiwisolver>=1.0.1 in /usr/local/lib/python3.7/dist-packages (from matplotlib>=2.0.0->fbprophet) (1.3.1)\n",
            "Requirement already satisfied: pyparsing!=2.0.4,!=2.1.2,!=2.1.6,>=2.0.1 in /usr/local/lib/python3.7/dist-packages (from matplotlib>=2.0.0->fbprophet) (2.4.7)\n",
            "Requirement already satisfied: cycler>=0.10 in /usr/local/lib/python3.7/dist-packages (from matplotlib>=2.0.0->fbprophet) (0.10.0)\n",
            "Requirement already satisfied: ephem>=3.7.5.3 in /usr/local/lib/python3.7/dist-packages (from LunarCalendar>=0.0.9->fbprophet) (3.7.7.1)\n",
            "Requirement already satisfied: pymeeus<=1,>=0.3.13 in /usr/local/lib/python3.7/dist-packages (from convertdate>=2.1.2->fbprophet) (0.5.11)\n",
            "Requirement already satisfied: six in /usr/local/lib/python3.7/dist-packages (from holidays>=0.10.2->fbprophet) (1.15.0)\n",
            "Requirement already satisfied: korean-lunar-calendar in /usr/local/lib/python3.7/dist-packages (from holidays>=0.10.2->fbprophet) (0.2.1)\n",
            "Requirement already satisfied: hijri-converter in /usr/local/lib/python3.7/dist-packages (from holidays>=0.10.2->fbprophet) (2.1.1)\n"
          ],
          "name": "stdout"
        }
      ]
    },
    {
      "cell_type": "code",
      "metadata": {
        "colab": {
          "base_uri": "https://localhost:8080/"
        },
        "id": "6vspDQs0gJIr",
        "outputId": "133f223d-4fb5-496f-f3f6-acb7cab303e6"
      },
      "source": [
        "\n",
        "# check prophet version\n",
        "import fbprophet\n",
        "# print version number\n",
        "print('Prophet %s' % fbprophet.__version__)"
      ],
      "id": "6vspDQs0gJIr",
      "execution_count": null,
      "outputs": [
        {
          "output_type": "stream",
          "text": [
            "Prophet 0.7.1\n"
          ],
          "name": "stdout"
        }
      ]
    },
    {
      "cell_type": "code",
      "metadata": {
        "colab": {
          "base_uri": "https://localhost:8080/",
          "height": 402
        },
        "id": "CjH7-beIhteA",
        "outputId": "2b986971-915d-44f3-974f-9c5d1be9850b"
      },
      "source": [
        "NY"
      ],
      "id": "CjH7-beIhteA",
      "execution_count": null,
      "outputs": [
        {
          "output_type": "execute_result",
          "data": {
            "text/html": [
              "<div>\n",
              "<style scoped>\n",
              "    .dataframe tbody tr th:only-of-type {\n",
              "        vertical-align: middle;\n",
              "    }\n",
              "\n",
              "    .dataframe tbody tr th {\n",
              "        vertical-align: top;\n",
              "    }\n",
              "\n",
              "    .dataframe thead th {\n",
              "        text-align: right;\n",
              "    }\n",
              "</style>\n",
              "<table border=\"1\" class=\"dataframe\">\n",
              "  <thead>\n",
              "    <tr style=\"text-align: right;\">\n",
              "      <th></th>\n",
              "      <th>Day</th>\n",
              "      <th>daily_vaccinations</th>\n",
              "    </tr>\n",
              "  </thead>\n",
              "  <tbody>\n",
              "    <tr>\n",
              "      <th>0</th>\n",
              "      <td>2021-01-13</td>\n",
              "      <td>27229</td>\n",
              "    </tr>\n",
              "    <tr>\n",
              "      <th>1</th>\n",
              "      <td>2021-01-14</td>\n",
              "      <td>13614</td>\n",
              "    </tr>\n",
              "    <tr>\n",
              "      <th>2</th>\n",
              "      <td>2021-01-15</td>\n",
              "      <td>17876</td>\n",
              "    </tr>\n",
              "    <tr>\n",
              "      <th>3</th>\n",
              "      <td>2021-01-16</td>\n",
              "      <td>18573</td>\n",
              "    </tr>\n",
              "    <tr>\n",
              "      <th>4</th>\n",
              "      <td>2021-01-17</td>\n",
              "      <td>18991</td>\n",
              "    </tr>\n",
              "    <tr>\n",
              "      <th>...</th>\n",
              "      <td>...</td>\n",
              "      <td>...</td>\n",
              "    </tr>\n",
              "    <tr>\n",
              "      <th>99</th>\n",
              "      <td>2021-04-22</td>\n",
              "      <td>88988</td>\n",
              "    </tr>\n",
              "    <tr>\n",
              "      <th>100</th>\n",
              "      <td>2021-04-23</td>\n",
              "      <td>85810</td>\n",
              "    </tr>\n",
              "    <tr>\n",
              "      <th>101</th>\n",
              "      <td>2021-04-24</td>\n",
              "      <td>86223</td>\n",
              "    </tr>\n",
              "    <tr>\n",
              "      <th>102</th>\n",
              "      <td>2021-04-25</td>\n",
              "      <td>85460</td>\n",
              "    </tr>\n",
              "    <tr>\n",
              "      <th>103</th>\n",
              "      <td>2021-04-26</td>\n",
              "      <td>86267</td>\n",
              "    </tr>\n",
              "  </tbody>\n",
              "</table>\n",
              "<p>104 rows × 2 columns</p>\n",
              "</div>"
            ],
            "text/plain": [
              "            Day  daily_vaccinations\n",
              "0    2021-01-13               27229\n",
              "1    2021-01-14               13614\n",
              "2    2021-01-15               17876\n",
              "3    2021-01-16               18573\n",
              "4    2021-01-17               18991\n",
              "..          ...                 ...\n",
              "99   2021-04-22               88988\n",
              "100  2021-04-23               85810\n",
              "101  2021-04-24               86223\n",
              "102  2021-04-25               85460\n",
              "103  2021-04-26               86267\n",
              "\n",
              "[104 rows x 2 columns]"
            ]
          },
          "metadata": {
            "tags": []
          },
          "execution_count": 61
        }
      ]
    },
    {
      "cell_type": "markdown",
      "metadata": {
        "id": "MG5ZsP3gsWIo"
      },
      "source": [
        "### Model Testing"
      ],
      "id": "MG5ZsP3gsWIo"
    },
    {
      "cell_type": "code",
      "metadata": {
        "id": "8Q6R1VS2gGla"
      },
      "source": [
        "from fbprophet import Prophet\n",
        "df = NY\n",
        "df = df.rename(columns={\"Day\": \"ds\", \"daily_vaccinations\": \"y\"})\n",
        "df = df[['ds','y']]\n",
        "df['ds']= pd.to_datetime(df['ds'])"
      ],
      "id": "8Q6R1VS2gGla",
      "execution_count": null,
      "outputs": []
    },
    {
      "cell_type": "code",
      "metadata": {
        "colab": {
          "base_uri": "https://localhost:8080/"
        },
        "id": "I0q11zA3rOCg",
        "outputId": "ffdfb5dd-27fd-423d-aeb2-ec5ff3b2f636"
      },
      "source": [
        "# create test dataset, remove last 12 months\n",
        "import math\n",
        "train_size = math.floor(0.8*(len(df)))\n",
        "test_size = len(df) - train_size\n",
        "print(\"Train Size: {}, Test Size: {} \".format(train_size, test_size))\n",
        "train = df.drop(df.index[-test_size:])\n",
        "print(train.tail())"
      ],
      "id": "I0q11zA3rOCg",
      "execution_count": null,
      "outputs": [
        {
          "output_type": "stream",
          "text": [
            "Train Size: 83, Test Size: 21 \n",
            "           ds       y\n",
            "78 2021-04-01   87342\n",
            "79 2021-04-02   91083\n",
            "80 2021-04-03  100970\n",
            "81 2021-04-04  101058\n",
            "82 2021-04-05   95899\n"
          ],
          "name": "stdout"
        }
      ]
    },
    {
      "cell_type": "code",
      "metadata": {
        "colab": {
          "base_uri": "https://localhost:8080/",
          "height": 369
        },
        "id": "qDSIU3rPrKrd",
        "outputId": "c2d0b5a1-ffa4-41b7-b2b9-130d4b2e03b7"
      },
      "source": [
        "model = Prophet(weekly_seasonality=True, seasonality_mode='additive', changepoint_range=0)\n",
        "model.fit(train)\n",
        "future = df['ds'][-test_size:].reset_index()\n",
        "future = future.drop(columns='index')\n",
        "forecast = model.predict(future)\n",
        "from sklearn.metrics import mean_absolute_error\n",
        "from sklearn.metrics import mean_squared_error\n",
        "\n",
        "y_true = df['y'][-test_size:].values\n",
        "y_pred = forecast['yhat'].values\n",
        "mae = mean_absolute_error(y_true, y_pred)\n",
        "mse = mean_squared_error(y_true, y_pred)\n",
        "print('MAE: %.3f' % mae)\n",
        "print('MSE: %.3f' % mse)\n",
        "\n",
        "# plot expected vs actual\n",
        "plt.plot(y_true, label='Actual')\n",
        "plt.plot(y_pred, label='Predicted')\n",
        "plt.legend()\n",
        "plt.show()"
      ],
      "id": "qDSIU3rPrKrd",
      "execution_count": null,
      "outputs": [
        {
          "output_type": "stream",
          "text": [
            "INFO:fbprophet:Disabling yearly seasonality. Run prophet with yearly_seasonality=True to override this.\n",
            "INFO:fbprophet:Disabling daily seasonality. Run prophet with daily_seasonality=True to override this.\n",
            "INFO:fbprophet:n_changepoints greater than number of observations. Using -1.\n"
          ],
          "name": "stderr"
        },
        {
          "output_type": "stream",
          "text": [
            "MAE: 3484.063\n",
            "MSE: 20545087.214\n"
          ],
          "name": "stdout"
        },
        {
          "output_type": "display_data",
          "data": {
            "image/png": "[encoded data removed]",
            "text/plain": [
              "<Figure size 432x288 with 1 Axes>"
            ]
          },
          "metadata": {
            "tags": [],
            "needs_background": "light"
          }
        }
      ]
    },
    {
      "cell_type": "code",
      "metadata": {
        "colab": {
          "base_uri": "https://localhost:8080/"
        },
        "id": "FTq4ng9DICZG",
        "outputId": "abe61ede-6cba-42ac-c082-337049986a57"
      },
      "source": [
        "mape_score = (abs(y_true-y_pred)/y_true)\n",
        "mape_mean = mape_score.mean()\n",
        "print(\"MAPE: \", mape_mean)\n",
        "from sklearn.metrics import r2_score\n",
        "print(\"R2: \",r2_score(y_true, y_pred))\n",
        "from sklearn.metrics import mean_squared_error\n",
        "import math\n",
        "print(\"RMSE\",math.sqrt(mean_squared_error(y_true, y_pred)))"
      ],
      "id": "FTq4ng9DICZG",
      "execution_count": null,
      "outputs": [
        {
          "output_type": "stream",
          "text": [
            "MAPE:  0.040205850394176346\n",
            "R2:  -4.507901327901273\n",
            "RMSE 4532.668884264114\n"
          ],
          "name": "stdout"
        }
      ]
    },
    {
      "cell_type": "markdown",
      "metadata": {
        "id": "1O7DUVt8sY1N"
      },
      "source": [
        "# Forecast"
      ],
      "id": "1O7DUVt8sY1N"
    },
    {
      "cell_type": "code",
      "metadata": {
        "colab": {
          "base_uri": "https://localhost:8080/"
        },
        "id": "-LveUBaiuCcy",
        "outputId": "11bee50a-71ef-48a7-c4d3-e4575f63b1d9"
      },
      "source": [
        "model = Prophet()\n",
        "model.fit(df)"
      ],
      "id": "-LveUBaiuCcy",
      "execution_count": null,
      "outputs": [
        {
          "output_type": "stream",
          "text": [
            "INFO:fbprophet:Disabling yearly seasonality. Run prophet with yearly_seasonality=True to override this.\n",
            "INFO:fbprophet:Disabling daily seasonality. Run prophet with daily_seasonality=True to override this.\n"
          ],
          "name": "stderr"
        },
        {
          "output_type": "execute_result",
          "data": {
            "text/plain": [
              "<fbprophet.forecaster.Prophet at 0x7fd158ebb0d0>"
            ]
          },
          "metadata": {
            "tags": []
          },
          "execution_count": 217
        }
      ]
    },
    {
      "cell_type": "code",
      "metadata": {
        "id": "nmqXjxLUieQ2"
      },
      "source": [
        "future = list()\n",
        "for j in range(4,12):\n",
        "  for i in range(1, 30):\n",
        "    date = '2021-{:02d}-{:02d}'.format(j,i)\n",
        "    future.append([date])\n",
        "future = pd.DataFrame(future)\n",
        "future.columns = ['ds']\n",
        "future['ds']= pd.to_datetime(future['ds'])"
      ],
      "id": "nmqXjxLUieQ2",
      "execution_count": null,
      "outputs": []
    },
    {
      "cell_type": "code",
      "metadata": {
        "id": "YDCl_nOoj20z"
      },
      "source": [
        "forecast = model.predict(future)"
      ],
      "id": "YDCl_nOoj20z",
      "execution_count": null,
      "outputs": []
    },
    {
      "cell_type": "code",
      "metadata": {
        "colab": {
          "base_uri": "https://localhost:8080/"
        },
        "id": "noAvEqmYj6ys",
        "outputId": "73185358-9e54-4065-844e-763f4ad6a0ea"
      },
      "source": [
        "# summarize the forecast\n",
        "print(forecast[['ds', 'yhat', 'yhat_lower', 'yhat_upper']].head())"
      ],
      "id": "noAvEqmYj6ys",
      "execution_count": null,
      "outputs": [
        {
          "output_type": "stream",
          "text": [
            "          ds        yhat  yhat_lower  yhat_upper\n",
            "0 2021-04-01  111.642006 -103.422561  323.679222\n",
            "1 2021-04-02  111.251765 -108.388800  331.464656\n",
            "2 2021-04-03  112.065996 -110.072967  332.513910\n",
            "3 2021-04-04  112.317018 -102.891659  333.776273\n",
            "4 2021-04-05  102.518644 -109.403684  317.191420\n"
          ],
          "name": "stdout"
        }
      ]
    },
    {
      "cell_type": "code",
      "metadata": {
        "colab": {
          "base_uri": "https://localhost:8080/",
          "height": 865
        },
        "id": "ory0h0NwkyK3",
        "outputId": "142176a9-5867-428b-8264-7fcbbf85ddf5"
      },
      "source": [
        "model.plot(forecast)"
      ],
      "id": "ory0h0NwkyK3",
      "execution_count": null,
      "outputs": [
        {
          "output_type": "execute_result",
          "data": {
            "image/png": "[encoded data removed]",
            "text/plain": [
              "<Figure size 720x432 with 1 Axes>"
            ]
          },
          "metadata": {
            "tags": []
          },
          "execution_count": 221
        },
        {
          "output_type": "display_data",
          "data": {
            "image/png": "[encoded data removed]",
            "text/plain": [
              "<Figure size 720x432 with 1 Axes>"
            ]
          },
          "metadata": {
            "tags": []
          }
        }
      ]
    },
    {
      "cell_type": "code",
      "metadata": {
        "id": "x057gIOwnXHE"
      },
      "source": [
        ""
      ],
      "id": "x057gIOwnXHE",
      "execution_count": null,
      "outputs": []
    }
  ]
}
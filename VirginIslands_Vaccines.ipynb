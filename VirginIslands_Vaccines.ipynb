{
 "cells": [
  {
   "cell_type": "code",
   "execution_count": 1,
   "metadata": {},
   "outputs": [],
   "source": [
    "import pandas as pd\n",
    "import numpy as np\n",
    "import torch\n",
    "from torch import optim\n",
    "from datetime import timedelta\n",
    "from torch.utils.data import DataLoader,TensorDataset\n",
    "import matplotlib\n",
    "import matplotlib.pyplot as plt\n",
    "matplotlib.style.use('ggplot')\n",
    "import plotly.express as px\n",
    "import plotly.graph_objects as go\n",
    "import math\n",
    "from sklearn.preprocessing import MinMaxScaler\n",
    "from sklearn.metrics import r2_score, mean_absolute_percentage_error\n",
    "from TST import TimeSeriesTransformer\n",
    "from LSTM import COVID_LSTM\n",
    "from GRU import COVID_GRU\n",
    "\n",
    "%matplotlib inline\n",
    "device = torch.device('cuda:0' if torch.cuda.is_available() else 'cpu') \n",
    "from Utils import count_parameters, cumulative_to_daily, daily_to_cumulative"
   ]
  },
  {
   "cell_type": "markdown",
   "metadata": {},
   "source": [
    "# Importing Dataset"
   ]
  },
  {
   "cell_type": "code",
   "execution_count": 6,
   "metadata": {},
   "outputs": [],
   "source": [
    "state = 'VirginIslands'\n",
    "df = pd.read_csv('us-vaccines.csv').drop(['Code'],1)\n",
    "vaccines_daily = df[df['Entity']=='Virgin Islands']['people_vaccinated'].to_numpy().reshape(-1,1)\n"
   ]
  },
  {
   "cell_type": "markdown",
   "metadata": {},
   "source": [
    "States to be worked on are: Northern Mariana Islands, Virgin Islands, Guam\n",
    "\n",
    "Texas\t, California, New York\n",
    "\n",
    "Virginia"
   ]
  },
  {
   "cell_type": "markdown",
   "metadata": {},
   "source": [
    "# Preprocessing Data"
   ]
  },
  {
   "cell_type": "code",
   "execution_count": 7,
   "metadata": {},
   "outputs": [],
   "source": [
    "scaler = MinMaxScaler(feature_range=(-1.0,+1.0))\n",
    "vaccines_cumulative_normalized = scaler.fit_transform(vaccines_daily)"
   ]
  },
  {
   "cell_type": "code",
   "execution_count": 8,
   "metadata": {},
   "outputs": [],
   "source": [
    "def convert_to_slide_window(data,time_steps):\n",
    "    X, y = [], []\n",
    "    # Stride = 1\n",
    "    # The (y) in our case is just the next timestep to compare with it\n",
    "    for i in range(len(data) - time_steps):\n",
    "        x = data[i:(i+time_steps)]\n",
    "        X.append(x)\n",
    "        y.append(data[i+time_steps])\n",
    "    return X,y"
   ]
  },
  {
   "cell_type": "code",
   "execution_count": 9,
   "metadata": {},
   "outputs": [],
   "source": [
    "window_size = 30\n",
    "\n",
    "X,Y = convert_to_slide_window(vaccines_cumulative_normalized,window_size)\n",
    "split = int(len(X) * 0.7)\n",
    "\n",
    "X_train,y_train=X[:split],Y[:split]\n",
    "X_test,y_test =X[split:],Y[split:]\n",
    "\n",
    "# Cumulative + Non-Normalized\n",
    "X_train, y_train = torch.FloatTensor(X_train).to(device), torch.FloatTensor(y_train).to(device)\n",
    "X_test, y_test  = torch.FloatTensor(X_test).to(device), torch.FloatTensor(y_test).to(device)\n",
    "\n",
    "# Load into DataLoader\n",
    "train_loader = DataLoader(TensorDataset(X_train, y_train),batch_size=32, shuffle=True)\n",
    "test_loader = DataLoader(TensorDataset(X_test, y_test), shuffle=False)\n",
    "\n",
    "# Cumulative + Non-Normalized\n",
    "y_test_inverse = scaler.inverse_transform(y_test.cpu().detach().numpy())\n",
    "y_train_inverse = scaler.inverse_transform(y_train.cpu().detach().numpy())\n",
    "\n",
    "# Non-Cumulative + Non-Normalized\n",
    "y_test_daily_vaccines = cumulative_to_daily(y_test_inverse)\n"
   ]
  },
  {
   "cell_type": "code",
   "execution_count": 10,
   "metadata": {},
   "outputs": [
    {
     "data": {
      "text/plain": [
       "(24, 1)"
      ]
     },
     "execution_count": 10,
     "metadata": {},
     "output_type": "execute_result"
    }
   ],
   "source": [
    "y_test_inverse.shape"
   ]
  },
  {
   "cell_type": "markdown",
   "metadata": {},
   "source": [
    "# TST Model"
   ]
  },
  {
   "cell_type": "code",
   "execution_count": 43,
   "metadata": {},
   "outputs": [
    {
     "name": "stdout",
     "output_type": "stream",
     "text": [
      "Epoch 1 Loss is 0.3284008726477623\n",
      "Epoch 2 Loss is 0.13399985432624817\n",
      "Epoch 3 Loss is 0.11114569753408432\n",
      "Epoch 4 Loss is 0.1980685293674469\n",
      "Epoch 5 Loss is 0.16737886890769005\n",
      "Epoch 6 Loss is 0.09955370426177979\n",
      "Epoch 7 Loss is 0.09136471897363663\n",
      "Epoch 8 Loss is 0.08264754712581635\n",
      "Epoch 9 Loss is 0.06386614963412285\n",
      "Epoch 10 Loss is 0.10852653160691261\n",
      "Epoch 11 Loss is 0.09991879388689995\n",
      "Epoch 12 Loss is 0.04403240978717804\n",
      "Epoch 13 Loss is 0.03777964785695076\n",
      "Epoch 14 Loss is 0.03136255964636803\n",
      "Epoch 15 Loss is 0.024080520495772362\n",
      "Epoch 16 Loss is 0.02045571058988571\n",
      "Epoch 17 Loss is 0.015543431742116809\n",
      "Epoch 18 Loss is 0.0430503785610199\n",
      "Epoch 19 Loss is 0.019062628038227558\n",
      "Epoch 20 Loss is 0.0668148435652256\n",
      "Epoch 21 Loss is 0.061256250366568565\n",
      "Epoch 22 Loss is 0.0032390458072768524\n",
      "Epoch 23 Loss is 0.00513766601216048\n",
      "Epoch 24 Loss is 0.005308465857524425\n",
      "Epoch 25 Loss is 0.03984989784657955\n",
      "Epoch 26 Loss is 0.016920442460104823\n",
      "Epoch 27 Loss is 0.05411345884203911\n",
      "Epoch 28 Loss is 0.05274457484483719\n",
      "Epoch 29 Loss is 0.005765091511420906\n",
      "Epoch 30 Loss is 0.0043042965698987246\n",
      "Epoch 31 Loss is 0.0033837694791145623\n",
      "Epoch 32 Loss is 0.003281935671111569\n",
      "Epoch 33 Loss is 0.00380233908072114\n",
      "Epoch 34 Loss is 0.003367480734596029\n",
      "Epoch 35 Loss is 0.0005098474211990833\n",
      "Epoch 36 Loss is 0.003228244837373495\n",
      "Epoch 37 Loss is 0.005782953929156065\n",
      "Epoch 38 Loss is 0.00045163845061324537\n",
      "Epoch 39 Loss is 0.004037007922306657\n",
      "Epoch 40 Loss is 0.004672495648264885\n",
      "Epoch 41 Loss is 0.00044354135752655566\n",
      "Epoch 42 Loss is 0.0018124228226952255\n",
      "Epoch 43 Loss is 0.0058733462647069246\n",
      "Epoch 44 Loss is 0.007832673203665763\n",
      "Epoch 45 Loss is 0.024301396682858467\n",
      "Epoch 46 Loss is 0.01109395592357032\n",
      "Epoch 47 Loss is 0.0605706088244915\n",
      "Epoch 48 Loss is 0.057142410427331924\n",
      "Epoch 49 Loss is 0.029685417597647756\n",
      "Epoch 50 Loss is 0.14155429601669312\n",
      "Epoch 51 Loss is 0.07266005501151085\n",
      "Epoch 52 Loss is 0.01070250233169645\n",
      "Epoch 53 Loss is 0.014044722076505423\n",
      "Epoch 54 Loss is 0.015857159160077572\n",
      "Epoch 55 Loss is 0.0067210620327387005\n",
      "Epoch 56 Loss is 0.0014937350060790777\n",
      "Epoch 57 Loss is 0.005650424238410778\n",
      "Epoch 58 Loss is 0.007959446113090962\n",
      "Epoch 59 Loss is 0.022668014280498028\n",
      "Epoch 60 Loss is 0.009004391729831696\n",
      "Epoch 61 Loss is 0.055831681936979294\n",
      "Epoch 62 Loss is 0.05267130397260189\n",
      "Epoch 63 Loss is 0.02671385879511945\n",
      "Epoch 64 Loss is 0.1356705017387867\n",
      "Epoch 65 Loss is 0.06916866078972816\n",
      "Epoch 66 Loss is 0.00965927925426513\n",
      "Epoch 67 Loss is 0.012470583897083998\n",
      "Epoch 68 Loss is 0.01500944048166275\n",
      "Epoch 69 Loss is 0.0062463094654958695\n",
      "Epoch 70 Loss is 0.0014681248576380312\n",
      "Epoch 71 Loss is 0.005177800398087129\n",
      "Epoch 72 Loss is 0.007095499662682414\n",
      "Epoch 73 Loss is 0.022346033714711666\n",
      "Epoch 74 Loss is 0.008568581863073632\n",
      "Epoch 75 Loss is 0.05329309403896332\n",
      "Epoch 76 Loss is 0.050472745671868324\n",
      "Epoch 77 Loss is 0.02491004191688262\n",
      "Epoch 78 Loss is 0.1278943195939064\n",
      "Epoch 79 Loss is 0.06599832698702812\n",
      "Epoch 80 Loss is 0.009046227962244302\n",
      "Epoch 81 Loss is 0.01198787335306406\n",
      "Epoch 82 Loss is 0.014652777463197708\n",
      "Epoch 83 Loss is 0.006075265308027156\n",
      "Epoch 84 Loss is 0.0015088517684489489\n",
      "Epoch 85 Loss is 0.004506739249336533\n",
      "Epoch 86 Loss is 0.006159807671792805\n",
      "Epoch 87 Loss is 0.022105886600911617\n",
      "Epoch 88 Loss is 0.009263392887078226\n",
      "Epoch 89 Loss is 0.04763467237353325\n",
      "Epoch 90 Loss is 0.04668814688920975\n",
      "Epoch 91 Loss is 0.024235927616246045\n",
      "Epoch 92 Loss is 0.12693769484758377\n",
      "Epoch 93 Loss is 0.0654161162674427\n",
      "Epoch 94 Loss is 0.008055112848524004\n",
      "Epoch 95 Loss is 0.01067014504224062\n",
      "Epoch 96 Loss is 0.01554641779512167\n",
      "Epoch 97 Loss is 0.006468602092354558\n",
      "Epoch 98 Loss is 0.0027965218177996576\n",
      "Epoch 99 Loss is 0.007344146724790335\n",
      "Epoch 100 Loss is 0.007904298370704055\n",
      "Total Time (in minutes) is 0:00:06.121162\n"
     ]
    }
   ],
   "source": [
    "TST_model = TimeSeriesTransformer(n_features=1,d_model=512, n_heads=8, n_hidden=512, n_layers=8 ).to(device)\n",
    "criterion=torch.nn.MSELoss()\n",
    "# 0.00001 is the best LR for TST\n",
    "optimizer = optim.Adam(TST_model.parameters(), lr=0.00001)\n",
    "all_epochs_loss = TST_model.train_model(train_loader,criterion,optimizer,n_epochs = 100 )\n",
    "torch.save(TST_model.state_dict(), 'Weights/model_TST_{}_Vaccine'.format(state))\n",
    "# TST_model.load_state_dict(torch.load('Weights/model_TST_{}_Vaccine'.format(state)))"
   ]
  },
  {
   "cell_type": "code",
   "execution_count": 34,
   "metadata": {},
   "outputs": [
    {
     "data": {
      "image/png": "[encoded data removed]",
      "text/plain": [
       "<Figure size 432x288 with 1 Axes>"
      ]
     },
     "metadata": {
      "needs_background": "light"
     },
     "output_type": "display_data"
    }
   ],
   "source": [
    "# Epoch 300 Loss is 0.0021550819316568473\n",
    "fig, ax = plt.subplots()\n",
    "plt.plot(all_epochs_loss)\n",
    "\n",
    "ax.set_title('Train Loss')\n",
    "ax.set_xlabel('Epoch')\n",
    "ax.set_ylabel('MSE Loss')\n",
    "plt.show()"
   ]
  },
  {
   "cell_type": "code",
   "execution_count": 35,
   "metadata": {},
   "outputs": [
    {
     "name": "stdout",
     "output_type": "stream",
     "text": [
      "TST: Test MSE Loss:  0.02152177318930626\n"
     ]
    }
   ],
   "source": [
    "def test_TST(model, X):\n",
    "    model.eval()\n",
    "    torch.cuda.empty_cache()\n",
    "    S = X.shape[1] # Sequence Length\n",
    "    src_mask = model.generate_square_subsequent_mask(S)\n",
    "    predicted = model(X.permute(1,0,2),None,None).to(device) # [Batch Size, Sequence Length, n_features = 1]\n",
    "    one_new_timesteps=predicted[-1,:,:] # [Batch Size, Sequence Length (Last time step), n_features = 1] -> [Batch Size,]\n",
    "    print('TST: Test MSE Loss: ',criterion(one_new_timesteps,y_test).item())\n",
    "    return one_new_timesteps\n",
    "forecasted_TST = test_TST(TST_model, X=X_test)"
   ]
  },
  {
   "cell_type": "code",
   "execution_count": 36,
   "metadata": {},
   "outputs": [
    {
     "data": {
      "text/plain": [
       "torch.Size([30, 1])"
      ]
     },
     "execution_count": 36,
     "metadata": {},
     "output_type": "execute_result"
    }
   ],
   "source": [
    "X_train[-1].shape"
   ]
  },
  {
   "cell_type": "code",
   "execution_count": 37,
   "metadata": {},
   "outputs": [
    {
     "name": "stdout",
     "output_type": "stream",
     "text": [
      "Test MSE Loss:  tensor(0.0339, device='cuda:0', grad_fn=<MseLossBackward>)\n"
     ]
    },
    {
     "name": "stderr",
     "output_type": "stream",
     "text": [
      "/rhome/yelnady/.local/lib/python3.6/site-packages/torch/nn/modules/loss.py:528: UserWarning:\n",
      "\n",
      "Using a target size (torch.Size([24, 1])) that is different to the input size (torch.Size([24])). This will likely lead to incorrect results due to broadcasting. Please ensure they have the same size.\n",
      "\n"
     ]
    }
   ],
   "source": [
    "def forecast_TST(model, X, forecast_len,n_seed):\n",
    "    model.eval()\n",
    "    datapoint = X.unsqueeze(1) # [S,B,E]\n",
    "    torch.cuda.empty_cache()\n",
    "    for t in range(forecast_len): \n",
    "        \n",
    "        predicted = model(datapoint[-n_seed:,],None,None).to(device) # [S,B,E] \n",
    "        one_new_timestep=predicted[-1,:,:].unsqueeze(0) # [S,B,E]  -> Get the last predicted timestep\n",
    "        datapoint = torch.cat((datapoint,one_new_timestep),0)  # add the forecasted timestep\n",
    "        \n",
    "    forecasted = datapoint.squeeze()[n_seed:,] # Skip the first (n)seed timesteps cuz are n_seed\n",
    "    print('Test MSE Loss: ',criterion(forecasted,y_test))\n",
    "    return forecasted\n",
    "\n",
    "forecasted_once_TST = forecast_TST(TST_model,X=X_test[0],forecast_len=len(y_test),n_seed = window_size )"
   ]
  },
  {
   "cell_type": "code",
   "execution_count": 38,
   "metadata": {},
   "outputs": [
    {
     "name": "stdout",
     "output_type": "stream",
     "text": [
      "We used 797057 Parameters for the transformer model\n"
     ]
    }
   ],
   "source": [
    "print(\"We used {} Parameters for the transformer model\".format(count_parameters(TST_model)))"
   ]
  },
  {
   "cell_type": "code",
   "execution_count": 39,
   "metadata": {},
   "outputs": [],
   "source": [
    "forecasted_inverse_TST = scaler.inverse_transform(forecasted_TST.cpu().detach().numpy())\n",
    "forecasted_daily_vaccines_TST  = cumulative_to_daily(forecasted_inverse_TST)"
   ]
  },
  {
   "cell_type": "code",
   "execution_count": 40,
   "metadata": {},
   "outputs": [
    {
     "name": "stdout",
     "output_type": "stream",
     "text": [
      "R2 Score for Vaccines -2.5066920298360946\n",
      "MAPE Score for Vaccines 0.15890692\n"
     ]
    }
   ],
   "source": [
    "print('R2 Score for Vaccines',r2_score(y_test.cpu().detach().numpy(),forecasted_TST.cpu().detach().numpy()))\n",
    "print('MAPE Score for Vaccines',mean_absolute_percentage_error(y_test.cpu().detach().numpy(),forecasted_TST.cpu().detach().numpy()))"
   ]
  },
  {
   "cell_type": "markdown",
   "metadata": {},
   "source": [
    "# LSTM Model"
   ]
  },
  {
   "cell_type": "code",
   "execution_count": 19,
   "metadata": {},
   "outputs": [
    {
     "name": "stdout",
     "output_type": "stream",
     "text": [
      "Epoch 1 Loss is 0.13245010748505592\n",
      "Epoch 2 Loss is 0.12616942077875137\n",
      "Epoch 3 Loss is 0.12952196598052979\n",
      "Epoch 4 Loss is 0.12784073501825333\n",
      "Epoch 5 Loss is 0.12714514136314392\n",
      "Epoch 6 Loss is 0.12641946971416473\n",
      "Epoch 7 Loss is 0.12992333993315697\n",
      "Epoch 8 Loss is 0.12357333302497864\n",
      "Epoch 9 Loss is 0.12576638907194138\n",
      "Epoch 10 Loss is 0.12147767841815948\n",
      "Epoch 11 Loss is 0.12292938679456711\n",
      "Epoch 12 Loss is 0.1231025718152523\n",
      "Epoch 13 Loss is 0.11872465908527374\n",
      "Epoch 14 Loss is 0.1172592006623745\n",
      "Epoch 15 Loss is 0.11436887830495834\n",
      "Epoch 16 Loss is 0.11347832903265953\n",
      "Epoch 17 Loss is 0.10495050251483917\n",
      "Epoch 18 Loss is 0.10097198933362961\n",
      "Epoch 19 Loss is 0.0961272232234478\n",
      "Epoch 20 Loss is 0.08567585796117783\n",
      "Epoch 21 Loss is 0.07427889108657837\n",
      "Epoch 22 Loss is 0.06075357832014561\n",
      "Epoch 23 Loss is 0.042360108345746994\n",
      "Epoch 24 Loss is 0.022088635712862015\n",
      "Epoch 25 Loss is 0.005897859460674226\n",
      "Epoch 26 Loss is 0.0025434677954763174\n",
      "Epoch 27 Loss is 0.012595904991030693\n",
      "Epoch 28 Loss is 0.01605561887845397\n",
      "Epoch 29 Loss is 0.010329671669751406\n",
      "Epoch 30 Loss is 0.0036658680764958262\n",
      "Epoch 31 Loss is 0.0006807910249335691\n",
      "Epoch 32 Loss is 0.0015055182157084346\n",
      "Epoch 33 Loss is 0.0030220707412809134\n",
      "Epoch 34 Loss is 0.003852724563330412\n",
      "Epoch 35 Loss is 0.0035952379694208503\n",
      "Epoch 36 Loss is 0.002451817854307592\n",
      "Epoch 37 Loss is 0.0011980562412645668\n",
      "Epoch 38 Loss is 0.0005213988188188523\n",
      "Epoch 39 Loss is 0.0005233793053776026\n",
      "Epoch 40 Loss is 0.0008969335467554629\n",
      "Epoch 41 Loss is 0.0012053415412083268\n",
      "Epoch 42 Loss is 0.0011142927105538547\n",
      "Epoch 43 Loss is 0.0007708010089118034\n",
      "Epoch 44 Loss is 0.0004904784727841616\n",
      "Epoch 45 Loss is 0.000385240520699881\n",
      "Epoch 46 Loss is 0.0004872994322795421\n",
      "Epoch 47 Loss is 0.0005860220699105412\n",
      "Epoch 48 Loss is 0.0006474338879343122\n",
      "Epoch 49 Loss is 0.0005449974851217121\n",
      "Epoch 50 Loss is 0.00047589605674147606\n",
      "Epoch 51 Loss is 0.00040290872857440263\n",
      "Epoch 52 Loss is 0.00043195039324928075\n",
      "Epoch 53 Loss is 0.00048446693108417094\n",
      "Epoch 54 Loss is 0.00047115428606048226\n",
      "Epoch 55 Loss is 0.0004446353414095938\n",
      "Epoch 56 Loss is 0.00041948643047362566\n",
      "Epoch 57 Loss is 0.00040137264295481145\n",
      "Epoch 58 Loss is 0.0004001390771009028\n",
      "Epoch 59 Loss is 0.00040772529609967023\n",
      "Epoch 60 Loss is 0.00041988598241005093\n",
      "Epoch 61 Loss is 0.000389584616641514\n",
      "Epoch 62 Loss is 0.0003941634204238653\n",
      "Epoch 63 Loss is 0.0003799659461947158\n",
      "Epoch 64 Loss is 0.00038944058178458363\n",
      "Epoch 65 Loss is 0.0004085742402821779\n",
      "Epoch 66 Loss is 0.0004153586341999471\n",
      "Epoch 67 Loss is 0.0004152207402512431\n",
      "Epoch 68 Loss is 0.0003697630454553291\n",
      "Epoch 69 Loss is 0.00038669082277920097\n",
      "Epoch 70 Loss is 0.0003939441085094586\n",
      "Epoch 71 Loss is 0.00038890456198714674\n",
      "Epoch 72 Loss is 0.00040395697578787804\n",
      "Epoch 73 Loss is 0.0003961084003094584\n",
      "Epoch 74 Loss is 0.0004322356908232905\n",
      "Epoch 75 Loss is 0.00039175304118543863\n",
      "Epoch 76 Loss is 0.00040291965706273913\n",
      "Epoch 77 Loss is 0.00041117593355011195\n",
      "Epoch 78 Loss is 0.0004018011095467955\n",
      "Epoch 79 Loss is 0.00037420577427838\n",
      "Epoch 80 Loss is 0.00038896602927707136\n",
      "Epoch 81 Loss is 0.0003834715753328055\n",
      "Epoch 82 Loss is 0.000400042932596989\n",
      "Epoch 83 Loss is 0.00040801304567139596\n",
      "Epoch 84 Loss is 0.0003791608178289607\n",
      "Epoch 85 Loss is 0.00040798868576530367\n",
      "Epoch 86 Loss is 0.00039009239117149264\n",
      "Epoch 87 Loss is 0.0003971121768699959\n",
      "Epoch 88 Loss is 0.000390092987800017\n",
      "Epoch 89 Loss is 0.0004240487760398537\n",
      "Epoch 90 Loss is 0.00037609243008773774\n",
      "Epoch 91 Loss is 0.00040367140900343657\n",
      "Epoch 92 Loss is 0.0003965249488828704\n",
      "Epoch 93 Loss is 0.0004030940181110054\n",
      "Epoch 94 Loss is 0.0003827475302387029\n",
      "Epoch 95 Loss is 0.0004092990275239572\n",
      "Epoch 96 Loss is 0.0003927124198526144\n",
      "Epoch 97 Loss is 0.00040306334267370403\n",
      "Epoch 98 Loss is 0.00042491260683164\n",
      "Epoch 99 Loss is 0.00037251982575980946\n",
      "Epoch 100 Loss is 0.00039869437750894576\n",
      "Total Time (in minutes) is 0:00:03.100037\n"
     ]
    }
   ],
   "source": [
    "LSTM_model = COVID_LSTM(n_hidden=256,n_features=1).to(device)\n",
    "criterion=torch.nn.MSELoss()\n",
    "optimizer = optim.Adam(LSTM_model.parameters(), lr=0.0001)\n",
    "all_epochs_loss = LSTM_model.train_model(train_loader,criterion,optimizer,n_epochs = 100 )\n",
    "torch.save(LSTM_model.state_dict(), 'Weights/model_LSTM_{}_Vaccine'.format(state))\n",
    "# LSTM_model.load_state_dict(torch.load('Weights/model_LSTM_{}_Vaccine'.format(state)))"
   ]
  },
  {
   "cell_type": "code",
   "execution_count": 20,
   "metadata": {},
   "outputs": [
    {
     "name": "stdout",
     "output_type": "stream",
     "text": [
      "LSTM: Test MSE Loss:  0.013795023784041405\n"
     ]
    }
   ],
   "source": [
    "def test_LSTM(model, X):\n",
    "    model.eval()\n",
    "    torch.cuda.empty_cache()\n",
    "    predicted = model(X).to(device) # [Batch Size, Sequence Length, n_features = 1]\n",
    "    one_new_timesteps=predicted[:,-1,:] # [Batch Size, Sequence Length (Last time step), n_features = 1] -> [Batch Size,]\n",
    "    print('LSTM: Test MSE Loss: ',criterion(one_new_timesteps,y_test).item())\n",
    "    return one_new_timesteps\n",
    "\n",
    "forecasted_LSTM = test_LSTM(LSTM_model, X=X_test)"
   ]
  },
  {
   "cell_type": "code",
   "execution_count": 21,
   "metadata": {},
   "outputs": [
    {
     "data": {
      "text/plain": [
       "torch.Size([24, 30, 1])"
      ]
     },
     "execution_count": 21,
     "metadata": {},
     "output_type": "execute_result"
    }
   ],
   "source": [
    "X_test.shape"
   ]
  },
  {
   "cell_type": "code",
   "execution_count": 22,
   "metadata": {},
   "outputs": [
    {
     "name": "stdout",
     "output_type": "stream",
     "text": [
      "Test MSE Loss:  tensor(0.0249, device='cuda:0', grad_fn=<MseLossBackward>)\n"
     ]
    },
    {
     "name": "stderr",
     "output_type": "stream",
     "text": [
      "/rhome/yelnady/.local/lib/python3.6/site-packages/torch/nn/modules/loss.py:528: UserWarning:\n",
      "\n",
      "Using a target size (torch.Size([24, 1])) that is different to the input size (torch.Size([24])). This will likely lead to incorrect results due to broadcasting. Please ensure they have the same size.\n",
      "\n"
     ]
    }
   ],
   "source": [
    "def forecast_LSTM(model, X, forecast_len,n_seed):\n",
    "    model.eval()\n",
    "    datapoint = X.unsqueeze(0) # [S,B,E]\n",
    "    torch.cuda.empty_cache()\n",
    "    for t in range(forecast_len): \n",
    "        \n",
    "        predicted = model(datapoint[-n_seed:,]).to(device) # [B,S,E] \n",
    "        \n",
    "        one_new_timestep=predicted[:,-1,:].unsqueeze(0) # [S,B,E]  -> Get the last predicted timestep\n",
    "        datapoint = torch.cat((datapoint,one_new_timestep),1)  # add the forecasted timestep\n",
    "    forecasted = datapoint.squeeze()[n_seed:,] # Skip the first (n)seed timesteps cuz are n_seed\n",
    "    print('Test MSE Loss: ',criterion(forecasted,y_test))\n",
    "    return forecasted\n",
    "\n",
    "forecasted_once_LSTM = forecast_LSTM(LSTM_model,X=X_test[0],forecast_len=len(y_test),n_seed = window_size )"
   ]
  },
  {
   "cell_type": "code",
   "execution_count": 23,
   "metadata": {},
   "outputs": [],
   "source": [
    "forecasted_inverse_LSTM = scaler.inverse_transform(forecasted_LSTM.cpu().detach().numpy())\n",
    "forecasted_daily_vaccines_LSTM  = cumulative_to_daily(forecasted_inverse_LSTM)"
   ]
  },
  {
   "cell_type": "code",
   "execution_count": 24,
   "metadata": {},
   "outputs": [
    {
     "name": "stdout",
     "output_type": "stream",
     "text": [
      "R2 Score for Vaccines 0.998307536884366\n",
      "MAPE Score for Vaccines 2.4509528\n"
     ]
    }
   ],
   "source": [
    "print('R2 Score for Vaccines',r2_score(y_test_daily_vaccines,forecasted_daily_vaccines_LSTM))\n",
    "print('MAPE Score for Vaccines',mean_absolute_percentage_error(y_test_daily_vaccines,forecasted_daily_vaccines_LSTM))"
   ]
  },
  {
   "cell_type": "markdown",
   "metadata": {},
   "source": [
    "# GRU Model"
   ]
  },
  {
   "cell_type": "code",
   "execution_count": 25,
   "metadata": {},
   "outputs": [
    {
     "name": "stdout",
     "output_type": "stream",
     "text": [
      "Epoch 1 Loss is 0.14340593665838242\n",
      "Epoch 2 Loss is 0.13521390780806541\n",
      "Epoch 3 Loss is 0.13114923983812332\n",
      "Epoch 4 Loss is 0.12071416899561882\n",
      "Epoch 5 Loss is 0.12027814984321594\n",
      "Epoch 6 Loss is 0.11369351670145988\n",
      "Epoch 7 Loss is 0.10730603337287903\n",
      "Epoch 8 Loss is 0.10273637622594833\n",
      "Epoch 9 Loss is 0.0997748002409935\n",
      "Epoch 10 Loss is 0.0921148955821991\n",
      "Epoch 11 Loss is 0.08394074440002441\n",
      "Epoch 12 Loss is 0.07452552020549774\n",
      "Epoch 13 Loss is 0.06617579236626625\n",
      "Epoch 14 Loss is 0.05499661713838577\n",
      "Epoch 15 Loss is 0.045627182349562645\n",
      "Epoch 16 Loss is 0.03321590647101402\n",
      "Epoch 17 Loss is 0.021670110523700714\n",
      "Epoch 18 Loss is 0.010994164273142815\n",
      "Epoch 19 Loss is 0.0034389480715617537\n",
      "Epoch 20 Loss is 0.0007910401618573815\n",
      "Epoch 21 Loss is 0.002775910892523825\n",
      "Epoch 22 Loss is 0.0070321038365364075\n",
      "Epoch 23 Loss is 0.00877557136118412\n",
      "Epoch 24 Loss is 0.006941878003999591\n",
      "Epoch 25 Loss is 0.004099611891433597\n",
      "Epoch 26 Loss is 0.0016971965960692614\n",
      "Epoch 27 Loss is 0.0005493169883266091\n",
      "Epoch 28 Loss is 0.0006187374528963119\n",
      "Epoch 29 Loss is 0.0011057900846935809\n",
      "Epoch 30 Loss is 0.0017456436762586236\n",
      "Epoch 31 Loss is 0.0020048468140885234\n",
      "Epoch 32 Loss is 0.0017779399640858173\n",
      "Epoch 33 Loss is 0.0013809853699058294\n",
      "Epoch 34 Loss is 0.0009461300796829164\n",
      "Epoch 35 Loss is 0.0006120765465311706\n",
      "Epoch 36 Loss is 0.0004605845460901037\n",
      "Epoch 37 Loss is 0.0005200332379899919\n",
      "Epoch 38 Loss is 0.0006403138395398855\n",
      "Epoch 39 Loss is 0.0007010413391981274\n",
      "Epoch 40 Loss is 0.00073342613177374\n",
      "Epoch 41 Loss is 0.0006489563384093344\n",
      "Epoch 42 Loss is 0.0005325254460331053\n",
      "Epoch 43 Loss is 0.0004994318005628884\n",
      "Epoch 44 Loss is 0.0004694373346865177\n",
      "Epoch 45 Loss is 0.0004762735479744151\n",
      "Epoch 46 Loss is 0.0005045378056820482\n",
      "Epoch 47 Loss is 0.0005306076054694131\n",
      "Epoch 48 Loss is 0.000503803719766438\n",
      "Epoch 49 Loss is 0.0004871647688560188\n",
      "Epoch 50 Loss is 0.0004743017489090562\n",
      "Epoch 51 Loss is 0.0004606501752277836\n",
      "Epoch 52 Loss is 0.00045276091259438545\n",
      "Epoch 53 Loss is 0.0004764750774484128\n",
      "Epoch 54 Loss is 0.00047145581629592925\n",
      "Epoch 55 Loss is 0.0004739021969726309\n",
      "Epoch 56 Loss is 0.00046498081064783037\n",
      "Epoch 57 Loss is 0.00047166546573862433\n",
      "Epoch 58 Loss is 0.0004596845537889749\n",
      "Epoch 59 Loss is 0.00047666390310041606\n",
      "Epoch 60 Loss is 0.0004389469395391643\n",
      "Epoch 61 Loss is 0.00046379768173210323\n",
      "Epoch 62 Loss is 0.00044134735071565956\n",
      "Epoch 63 Loss is 0.0004546901909634471\n",
      "Epoch 64 Loss is 0.00043879357690457255\n",
      "Epoch 65 Loss is 0.0004599626554409042\n",
      "Epoch 66 Loss is 0.00044920363870915025\n",
      "Epoch 67 Loss is 0.0004800525930477306\n",
      "Epoch 68 Loss is 0.0004484469973249361\n",
      "Epoch 69 Loss is 0.00046444755571428686\n",
      "Epoch 70 Loss is 0.0004518657660810277\n",
      "Epoch 71 Loss is 0.00045990434591658413\n",
      "Epoch 72 Loss is 0.00047311924572568387\n",
      "Epoch 73 Loss is 0.000446833175374195\n",
      "Epoch 74 Loss is 0.0004728372150566429\n",
      "Epoch 75 Loss is 0.00046343920985236764\n",
      "Epoch 76 Loss is 0.0004460122581804171\n",
      "Epoch 77 Loss is 0.0004584647831507027\n",
      "Epoch 78 Loss is 0.0004629657487384975\n",
      "Epoch 79 Loss is 0.000463458156445995\n",
      "Epoch 80 Loss is 0.00045664118079002947\n",
      "Epoch 81 Loss is 0.00044702162267640233\n",
      "Epoch 82 Loss is 0.00047671457286924124\n",
      "Epoch 83 Loss is 0.0004630421462934464\n",
      "Epoch 84 Loss is 0.0004410314722917974\n",
      "Epoch 85 Loss is 0.00047709999489597976\n",
      "Epoch 86 Loss is 0.00043380910938140005\n",
      "Epoch 87 Loss is 0.0004657564568333328\n",
      "Epoch 88 Loss is 0.00046374049270525575\n",
      "Epoch 89 Loss is 0.0004758872673846781\n",
      "Epoch 90 Loss is 0.00046932222903706133\n",
      "Epoch 91 Loss is 0.00043029975495301187\n",
      "Epoch 92 Loss is 0.00045962359581608325\n",
      "Epoch 93 Loss is 0.0004525815602391958\n",
      "Epoch 94 Loss is 0.00044056492333766073\n",
      "Epoch 95 Loss is 0.0004835997096961364\n",
      "Epoch 96 Loss is 0.0004393787094159052\n",
      "Epoch 97 Loss is 0.00043953474960289896\n",
      "Epoch 98 Loss is 0.0004563554539345205\n",
      "Epoch 99 Loss is 0.0005049242608947679\n",
      "Epoch 100 Loss is 0.0004620387771865353\n",
      "Total Time (in minutes) is 0:00:03.028683\n"
     ]
    }
   ],
   "source": [
    "GRU_model = COVID_GRU(n_hidden=256,n_features=1).to(device)\n",
    "criterion=torch.nn.MSELoss()\n",
    "optimizer = optim.Adam(GRU_model.parameters(), lr=0.0001)\n",
    "all_epochs_loss = GRU_model.train_model(train_loader,criterion,optimizer,n_epochs = 100 )\n",
    "torch.save(GRU_model.state_dict(), 'Weights/model_GRU_{}_Vaccine'.format(state))\n",
    "# GRU_model.load_state_dict(torch.load('Weights/model_GRU_{}_Vaccine'.format(state)))"
   ]
  },
  {
   "cell_type": "code",
   "execution_count": 26,
   "metadata": {},
   "outputs": [
    {
     "name": "stdout",
     "output_type": "stream",
     "text": [
      "GRU: Test MSE Loss:  0.012565425597131252\n"
     ]
    }
   ],
   "source": [
    "def test_GRU(model, X):\n",
    "    model.eval()\n",
    "    torch.cuda.empty_cache()\n",
    "    predicted = model(X).to(device) # [Batch Size, Sequence Length, n_features = 1]\n",
    "    one_new_timesteps=predicted[:,-1,:] # [Batch Size, Sequence Length (Last time step), n_features = 1] -> [Batch Size,]\n",
    "    print('GRU: Test MSE Loss: ',criterion(one_new_timesteps,y_test).item())\n",
    "    return one_new_timesteps\n",
    "\n",
    "forecasted_GRU = test_GRU(GRU_model, X=X_test)"
   ]
  },
  {
   "cell_type": "code",
   "execution_count": 27,
   "metadata": {},
   "outputs": [
    {
     "data": {
      "text/plain": [
       "torch.Size([24, 30, 1])"
      ]
     },
     "execution_count": 27,
     "metadata": {},
     "output_type": "execute_result"
    }
   ],
   "source": [
    "X_test.shape"
   ]
  },
  {
   "cell_type": "code",
   "execution_count": 28,
   "metadata": {},
   "outputs": [
    {
     "name": "stdout",
     "output_type": "stream",
     "text": [
      "Test MSE Loss:  tensor(0.0285, device='cuda:0', grad_fn=<MseLossBackward>)\n"
     ]
    },
    {
     "name": "stderr",
     "output_type": "stream",
     "text": [
      "/rhome/yelnady/.local/lib/python3.6/site-packages/torch/nn/modules/loss.py:528: UserWarning:\n",
      "\n",
      "Using a target size (torch.Size([24, 1])) that is different to the input size (torch.Size([24])). This will likely lead to incorrect results due to broadcasting. Please ensure they have the same size.\n",
      "\n"
     ]
    }
   ],
   "source": [
    "def forecast_GRU(model, X, forecast_len,n_seed):\n",
    "    model.eval()\n",
    "    datapoint = X.unsqueeze(0) # [S,B,E]\n",
    "    torch.cuda.empty_cache()\n",
    "    for t in range(forecast_len): \n",
    "        \n",
    "        predicted = model(datapoint[-n_seed:,]).to(device) # [B,S,E] \n",
    "        \n",
    "        one_new_timestep=predicted[:,-1,:].unsqueeze(0) # [S,B,E]  -> Get the last predicted timestep\n",
    "        datapoint = torch.cat((datapoint,one_new_timestep),1)  # add the forecasted timestep\n",
    "    forecasted = datapoint.squeeze()[n_seed:,] # Skip the first (n)seed timesteps cuz are n_seed\n",
    "    print('Test MSE Loss: ',criterion(forecasted,y_test))\n",
    "    return forecasted\n",
    "\n",
    "forecasted_once_GRU = forecast_GRU(GRU_model,X=X_test[0],forecast_len=len(y_test),n_seed = window_size )"
   ]
  },
  {
   "cell_type": "code",
   "execution_count": 29,
   "metadata": {},
   "outputs": [],
   "source": [
    "forecasted_inverse_GRU = scaler.inverse_transform(forecasted_GRU.cpu().detach().numpy())\n",
    "forecasted_daily_vaccines_GRU  = cumulative_to_daily(forecasted_inverse_GRU)"
   ]
  },
  {
   "cell_type": "code",
   "execution_count": 30,
   "metadata": {},
   "outputs": [
    {
     "name": "stdout",
     "output_type": "stream",
     "text": [
      "R2 Score for Vaccines 0.9982733896892256\n",
      "MAPE Score for Vaccines 2.5007765\n"
     ]
    }
   ],
   "source": [
    "print('R2 Score for Vaccines',r2_score(y_test_daily_vaccines,forecasted_daily_vaccines_GRU))\n",
    "print('MAPE Score for Vaccines',mean_absolute_percentage_error(y_test_daily_vaccines,forecasted_daily_vaccines_GRU))"
   ]
  },
  {
   "cell_type": "markdown",
   "metadata": {},
   "source": [
    "# Plots"
   ]
  },
  {
   "cell_type": "code",
   "execution_count": 42,
   "metadata": {},
   "outputs": [
    {
     "data": {
      "image/png": "[encoded data removed]",
      "text/plain": [
       "<Figure size 1080x360 with 1 Axes>"
      ]
     },
     "metadata": {
      "needs_background": "light"
     },
     "output_type": "display_data"
    }
   ],
   "source": [
    "fig, ax = plt.subplots()\n",
    "# ax.set_ylim([0.0,1.1])\n",
    "\n",
    "plt.plot(y_test[:,0].cpu().detach().numpy(),label='Real',marker='o')\n",
    "plt.plot(forecasted_TST[:,0].cpu().detach().numpy(),label='Predicted - TST',marker='o')\n",
    "plt.plot(forecasted_LSTM[:,0].cpu().detach().numpy(),label='Predicted - LSTM',marker='o')\n",
    "plt.plot(forecasted_GRU[:,0].cpu().detach().numpy(),label='Predicted - GRU',marker='o')\n",
    "\n",
    "# plt.plot(forecasted_once_TST[:,0].cpu().detach().numpy(),label='Forecast Function - TST',marker='o')\n",
    "fig.set_size_inches(15, 5)\n",
    "ax.set_title('{} Vaccinated - Cumulative + Normalized'.format(state))\n",
    "ax.set_xlabel('Days')\n",
    "ax.set_ylabel('Cumulative')\n",
    "leg = ax.legend(bbox_to_anchor=(1.15, 1.01))\n",
    "plt.show()"
   ]
  },
  {
   "cell_type": "code",
   "execution_count": 41,
   "metadata": {},
   "outputs": [
    {
     "data": {
      "image/png": "[encoded data removed]",
      "text/plain": [
       "<Figure size 1080x360 with 1 Axes>"
      ]
     },
     "metadata": {
      "needs_background": "light"
     },
     "output_type": "display_data"
    }
   ],
   "source": [
    "fig, ax = plt.subplots()\n",
    "\n",
    "plt.plot(y_test_inverse[:,0],label='Real',marker='o')\n",
    "plt.plot(forecasted_inverse_TST[:,0],label='Predicted - TST',marker='o')\n",
    "plt.plot(forecasted_inverse_LSTM[:,0],label='Predicted - LSTM',marker='o')\n",
    "plt.plot(forecasted_inverse_GRU[:,0],label='Predicted - GRU',marker='o')\n",
    "\n",
    "fig.set_size_inches(15, 5)\n",
    "ax.set_title('{} Vaccinated - Cumulative + Non-Normalized'.format(state))\n",
    "ax.set_xlabel('Days')\n",
    "ax.set_ylabel('Cumulative')\n",
    "leg = ax.legend(bbox_to_anchor=(1.15, 1.01))\n",
    "plt.show()"
   ]
  },
  {
   "cell_type": "code",
   "execution_count": null,
   "metadata": {},
   "outputs": [],
   "source": []
  },
  {
   "cell_type": "code",
   "execution_count": null,
   "metadata": {},
   "outputs": [],
   "source": []
  }
 ],
 "metadata": {
  "kernelspec": {
   "display_name": "Python 3",
   "language": "python",
   "name": "python3"
  },
  "language_info": {
   "codemirror_mode": {
    "name": "ipython",
    "version": 3
   },
   "file_extension": ".py",
   "mimetype": "text/x-python",
   "name": "python",
   "nbconvert_exporter": "python",
   "pygments_lexer": "ipython3",
   "version": "3.6.9"
  }
 },
 "nbformat": 4,
 "nbformat_minor": 4
}

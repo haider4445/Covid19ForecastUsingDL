{
 "cells": [
  {
   "cell_type": "code",
   "execution_count": 1,
   "metadata": {},
   "outputs": [],
   "source": [
    "import pandas as pd\n",
    "import numpy as np\n",
    "import torch\n",
    "from torch import optim\n",
    "from datetime import timedelta\n",
    "from torch.utils.data import DataLoader,TensorDataset\n",
    "import matplotlib\n",
    "import matplotlib.pyplot as plt\n",
    "matplotlib.style.use('ggplot')\n",
    "import plotly.express as px\n",
    "import plotly.graph_objects as go\n",
    "import math\n",
    "from sklearn.preprocessing import MinMaxScaler\n",
    "from sklearn.metrics import r2_score, mean_absolute_percentage_error\n",
    "from TST import TimeSeriesTransformer\n",
    "from LSTM import COVID_LSTM\n",
    "from GRU import COVID_GRU\n",
    "\n",
    "%matplotlib inline\n",
    "device = torch.device('cuda:0' if torch.cuda.is_available() else 'cpu') \n",
    "from Utils import count_parameters, cumulative_to_daily, daily_to_cumulative"
   ]
  },
  {
   "cell_type": "markdown",
   "metadata": {},
   "source": [
    "# Importing Dataset"
   ]
  },
  {
   "cell_type": "code",
   "execution_count": 3,
   "metadata": {},
   "outputs": [],
   "source": [
    "state = 'CA'\n",
    "df = pd.read_csv('us-vaccines.csv').drop(['Code'],1)\n",
    "vaccines_daily = df[df['Entity']=='California']['people_vaccinated'].to_numpy().reshape(-1,1)\n"
   ]
  },
  {
   "cell_type": "markdown",
   "metadata": {},
   "source": [
    "States to be worked on are: Northern Mariana Islands, Virgin Islands, Guam\n",
    "\n",
    "Texas\t, California, New York\n",
    "\n",
    "Virginia"
   ]
  },
  {
   "cell_type": "markdown",
   "metadata": {},
   "source": [
    "# Preprocessing Data"
   ]
  },
  {
   "cell_type": "code",
   "execution_count": 7,
   "metadata": {},
   "outputs": [],
   "source": [
    "scaler = MinMaxScaler(feature_range=(-1.0,+1.0))\n",
    "vaccines_cumulative_normalized = scaler.fit_transform(vaccines_daily)"
   ]
  },
  {
   "cell_type": "code",
   "execution_count": 8,
   "metadata": {},
   "outputs": [],
   "source": [
    "def convert_to_slide_window(data,time_steps):\n",
    "    X, y = [], []\n",
    "    # Stride = 1\n",
    "    # The (y) in our case is just the next timestep to compare with it\n",
    "    for i in range(len(data) - time_steps):\n",
    "        x = data[i:(i+time_steps)]\n",
    "        X.append(x)\n",
    "        y.append(data[i+time_steps])\n",
    "    return X,y"
   ]
  },
  {
   "cell_type": "code",
   "execution_count": 9,
   "metadata": {},
   "outputs": [],
   "source": [
    "window_size = 30\n",
    "\n",
    "X,Y = convert_to_slide_window(vaccines_cumulative_normalized,window_size)\n",
    "split = int(len(X) * 0.7)\n",
    "\n",
    "X_train,y_train=X[:split],Y[:split]\n",
    "X_test,y_test =X[split:],Y[split:]\n",
    "\n",
    "# Cumulative + Non-Normalized\n",
    "X_train, y_train = torch.FloatTensor(X_train).to(device), torch.FloatTensor(y_train).to(device)\n",
    "X_test, y_test  = torch.FloatTensor(X_test).to(device), torch.FloatTensor(y_test).to(device)\n",
    "\n",
    "# Load into DataLoader\n",
    "train_loader = DataLoader(TensorDataset(X_train, y_train),batch_size=32, shuffle=True)\n",
    "test_loader = DataLoader(TensorDataset(X_test, y_test), shuffle=False)\n",
    "\n",
    "# Cumulative + Non-Normalized\n",
    "y_test_inverse = scaler.inverse_transform(y_test.cpu().detach().numpy())\n",
    "y_train_inverse = scaler.inverse_transform(y_train.cpu().detach().numpy())\n",
    "\n",
    "# Non-Cumulative + Non-Normalized\n",
    "y_test_daily_vaccines = cumulative_to_daily(y_test_inverse)\n"
   ]
  },
  {
   "cell_type": "code",
   "execution_count": 10,
   "metadata": {},
   "outputs": [
    {
     "data": {
      "text/plain": [
       "(25, 1)"
      ]
     },
     "execution_count": 10,
     "metadata": {},
     "output_type": "execute_result"
    }
   ],
   "source": [
    "y_test_inverse.shape"
   ]
  },
  {
   "cell_type": "markdown",
   "metadata": {},
   "source": [
    "# TST Model"
   ]
  },
  {
   "cell_type": "code",
   "execution_count": 11,
   "metadata": {},
   "outputs": [
    {
     "name": "stdout",
     "output_type": "stream",
     "text": [
      "Epoch 1 Loss is 0.2822604328393936\n",
      "Epoch 2 Loss is 0.11188112571835518\n",
      "Epoch 3 Loss is 0.0839991495013237\n",
      "Epoch 4 Loss is 0.08521527424454689\n",
      "Epoch 5 Loss is 0.07587022706866264\n",
      "Epoch 6 Loss is 0.059004055336117744\n",
      "Epoch 7 Loss is 0.05156850814819336\n",
      "Epoch 8 Loss is 0.044535448774695396\n",
      "Epoch 9 Loss is 0.04271568916738033\n",
      "Epoch 10 Loss is 0.03493733797222376\n",
      "Epoch 11 Loss is 0.03208218980580568\n",
      "Epoch 12 Loss is 0.026435600593686104\n",
      "Epoch 13 Loss is 0.01538309920579195\n",
      "Epoch 14 Loss is 0.01687151100486517\n",
      "Epoch 15 Loss is 0.01522074150852859\n",
      "Epoch 16 Loss is 0.03249026369303465\n",
      "Epoch 17 Loss is 0.012907903525047004\n",
      "Epoch 18 Loss is 0.08772088587284088\n",
      "Epoch 19 Loss is 0.072773901745677\n",
      "Epoch 20 Loss is 0.004798983572982252\n",
      "Epoch 21 Loss is 0.004922285443171859\n",
      "Epoch 22 Loss is 0.003635971574112773\n",
      "Epoch 23 Loss is 0.004380615602713078\n",
      "Epoch 24 Loss is 0.005602594697847962\n",
      "Epoch 25 Loss is 0.005221126019023359\n",
      "Epoch 26 Loss is 0.004231501778122038\n",
      "Epoch 27 Loss is 0.003896122449077666\n",
      "Epoch 28 Loss is 0.002304690075106919\n",
      "Epoch 29 Loss is 0.0034693748457357287\n",
      "Epoch 30 Loss is 0.00299997121328488\n",
      "Epoch 31 Loss is 0.005393022613134235\n",
      "Epoch 32 Loss is 0.004811937935301103\n",
      "Epoch 33 Loss is 0.0003948850935557857\n",
      "Epoch 34 Loss is 0.0033146798377856612\n",
      "Epoch 35 Loss is 0.006854809122160077\n",
      "Epoch 36 Loss is 0.0013198999658925459\n",
      "Epoch 37 Loss is 0.0006470208463724703\n",
      "Epoch 38 Loss is 0.0005760001949965954\n",
      "Epoch 39 Loss is 0.0010042231442639604\n",
      "Epoch 40 Loss is 0.0013589388108812273\n",
      "Epoch 41 Loss is 0.02222983818501234\n",
      "Epoch 42 Loss is 0.007090290077030659\n",
      "Epoch 43 Loss is 0.010778326541185379\n",
      "Epoch 44 Loss is 0.008041594875976443\n",
      "Epoch 45 Loss is 0.00837471871636808\n",
      "Epoch 46 Loss is 0.020095993299037218\n",
      "Epoch 47 Loss is 0.003446095564868301\n",
      "Epoch 48 Loss is 0.010374185418186244\n",
      "Epoch 49 Loss is 0.026219473220407963\n",
      "Epoch 50 Loss is 0.0019317764672450721\n",
      "Epoch 51 Loss is 0.0009071378735825419\n",
      "Epoch 52 Loss is 0.0005283079517539591\n",
      "Epoch 53 Loss is 0.0008685415814397857\n",
      "Epoch 54 Loss is 0.002874035999411717\n",
      "Epoch 55 Loss is 0.003418633947148919\n",
      "Epoch 56 Loss is 0.002880595304304734\n",
      "Epoch 57 Loss is 0.0018322416945011355\n",
      "Epoch 58 Loss is 0.006853027822216973\n",
      "Epoch 59 Loss is 0.011561713181436062\n",
      "Epoch 60 Loss is 0.016085234005004168\n",
      "Epoch 61 Loss is 0.005753248406108469\n",
      "Epoch 62 Loss is 0.002620152496092487\n",
      "Epoch 63 Loss is 0.03196123521775007\n",
      "Epoch 64 Loss is 0.009385788765939651\n",
      "Epoch 65 Loss is 0.006348498864099383\n",
      "Epoch 66 Loss is 0.001909649115987122\n",
      "Epoch 67 Loss is 0.0015932359383441508\n",
      "Epoch 68 Loss is 0.005849551875144243\n",
      "Epoch 69 Loss is 0.00024334648333024234\n",
      "Epoch 70 Loss is 0.00973438797518611\n",
      "Epoch 71 Loss is 0.009324487080448307\n",
      "Epoch 72 Loss is 0.02001330954954028\n",
      "Epoch 73 Loss is 0.004676474025472999\n",
      "Epoch 74 Loss is 0.00674435097607784\n",
      "Epoch 75 Loss is 0.014430555049329996\n",
      "Epoch 76 Loss is 0.00729679164942354\n",
      "Epoch 77 Loss is 0.006156555493362248\n",
      "Epoch 78 Loss is 0.011968994978815317\n",
      "Epoch 79 Loss is 0.008929858217015862\n",
      "Epoch 80 Loss is 0.005507766734808683\n",
      "Epoch 81 Loss is 0.010576846543699503\n",
      "Epoch 82 Loss is 0.009661844000220299\n",
      "Epoch 83 Loss is 0.005451101344078779\n",
      "Epoch 84 Loss is 0.010210693813860416\n",
      "Epoch 85 Loss is 0.010070736054331064\n",
      "Epoch 86 Loss is 0.005279564531520009\n",
      "Epoch 87 Loss is 0.009554681135341525\n",
      "Epoch 88 Loss is 0.00990537041798234\n",
      "Epoch 89 Loss is 0.005053565371781588\n",
      "Epoch 90 Loss is 0.009299600264057517\n",
      "Epoch 91 Loss is 0.010014636907726526\n",
      "Epoch 92 Loss is 0.00533542619086802\n",
      "Epoch 93 Loss is 0.009339912794530392\n",
      "Epoch 94 Loss is 0.009999566012993455\n",
      "Epoch 95 Loss is 0.005283791571855545\n",
      "Epoch 96 Loss is 0.009443491813726723\n",
      "Epoch 97 Loss is 0.0101105528883636\n",
      "Epoch 98 Loss is 0.0053976725321263075\n",
      "Epoch 99 Loss is 0.009461297653615475\n",
      "Epoch 100 Loss is 0.010239132214337587\n",
      "Total Time (in minutes) is 0:00:03.776092\n"
     ]
    }
   ],
   "source": [
    "TST_model = TimeSeriesTransformer(n_features=1,d_model=512, n_heads=8, n_hidden=512, n_layers=8 ).to(device)\n",
    "criterion=torch.nn.MSELoss()\n",
    "# 0.00001 is the best LR for TST\n",
    "optimizer = optim.Adam(TST_model.parameters(), lr=0.00001)\n",
    "all_epochs_loss = TST_model.train_model(train_loader,criterion,optimizer,n_epochs = 100 )\n",
    "torch.save(TST_model.state_dict(), 'Weights/model_TST_{}_Vaccine'.format(state))\n",
    "# TST_model.load_state_dict(torch.load('Weights/model_TST_{}_Vaccine'.format(state)))"
   ]
  },
  {
   "cell_type": "code",
   "execution_count": 12,
   "metadata": {},
   "outputs": [
    {
     "data": {
      "image/png": "[encoded data removed]",
      "text/plain": [
       "<Figure size 432x288 with 1 Axes>"
      ]
     },
     "metadata": {
      "needs_background": "light"
     },
     "output_type": "display_data"
    }
   ],
   "source": [
    "# Epoch 300 Loss is 0.0021550819316568473\n",
    "fig, ax = plt.subplots()\n",
    "plt.plot(all_epochs_loss)\n",
    "\n",
    "ax.set_title('Train Loss')\n",
    "ax.set_xlabel('Epoch')\n",
    "ax.set_ylabel('MSE Loss')\n",
    "plt.show()"
   ]
  },
  {
   "cell_type": "code",
   "execution_count": 13,
   "metadata": {},
   "outputs": [
    {
     "name": "stdout",
     "output_type": "stream",
     "text": [
      "TST: Test MSE Loss:  0.005685179028660059\n"
     ]
    }
   ],
   "source": [
    "def test_TST(model, X):\n",
    "    model.eval()\n",
    "    torch.cuda.empty_cache()\n",
    "    S = X.shape[1] # Sequence Length\n",
    "    src_mask = model.generate_square_subsequent_mask(S)\n",
    "    predicted = model(X.permute(1,0,2),None,None).to(device) # [Batch Size, Sequence Length, n_features = 1]\n",
    "    one_new_timesteps=predicted[-1,:,:] # [Batch Size, Sequence Length (Last time step), n_features = 1] -> [Batch Size,]\n",
    "    print('TST: Test MSE Loss: ',criterion(one_new_timesteps,y_test).item())\n",
    "    return one_new_timesteps\n",
    "forecasted_TST = test_TST(TST_model, X=X_test)"
   ]
  },
  {
   "cell_type": "code",
   "execution_count": 14,
   "metadata": {},
   "outputs": [
    {
     "data": {
      "text/plain": [
       "torch.Size([30, 1])"
      ]
     },
     "execution_count": 14,
     "metadata": {},
     "output_type": "execute_result"
    }
   ],
   "source": [
    "X_train[-1].shape"
   ]
  },
  {
   "cell_type": "code",
   "execution_count": 15,
   "metadata": {},
   "outputs": [
    {
     "name": "stdout",
     "output_type": "stream",
     "text": [
      "Test MSE Loss:  tensor(0.0308, device='cuda:0', grad_fn=<MseLossBackward>)\n"
     ]
    },
    {
     "name": "stderr",
     "output_type": "stream",
     "text": [
      "/rhome/yelnady/.local/lib/python3.6/site-packages/torch/nn/modules/loss.py:528: UserWarning:\n",
      "\n",
      "Using a target size (torch.Size([25, 1])) that is different to the input size (torch.Size([25])). This will likely lead to incorrect results due to broadcasting. Please ensure they have the same size.\n",
      "\n"
     ]
    }
   ],
   "source": [
    "def forecast_TST(model, X, forecast_len,n_seed):\n",
    "    model.eval()\n",
    "    datapoint = X.unsqueeze(1) # [S,B,E]\n",
    "    torch.cuda.empty_cache()\n",
    "    for t in range(forecast_len): \n",
    "        \n",
    "        predicted = model(datapoint[-n_seed:,],None,None).to(device) # [S,B,E] \n",
    "        one_new_timestep=predicted[-1,:,:].unsqueeze(0) # [S,B,E]  -> Get the last predicted timestep\n",
    "        datapoint = torch.cat((datapoint,one_new_timestep),0)  # add the forecasted timestep\n",
    "        \n",
    "    forecasted = datapoint.squeeze()[n_seed:,] # Skip the first (n)seed timesteps cuz are n_seed\n",
    "    print('Test MSE Loss: ',criterion(forecasted,y_test))\n",
    "    return forecasted\n",
    "\n",
    "forecasted_once_TST = forecast_TST(TST_model,X=X_test[0],forecast_len=len(y_test),n_seed = window_size )"
   ]
  },
  {
   "cell_type": "code",
   "execution_count": 16,
   "metadata": {},
   "outputs": [
    {
     "name": "stdout",
     "output_type": "stream",
     "text": [
      "We used 12625409 Parameters for the transformer model\n"
     ]
    }
   ],
   "source": [
    "print(\"We used {} Parameters for the transformer model\".format(count_parameters(TST_model)))"
   ]
  },
  {
   "cell_type": "code",
   "execution_count": 17,
   "metadata": {},
   "outputs": [],
   "source": [
    "forecasted_inverse_TST = scaler.inverse_transform(forecasted_TST.cpu().detach().numpy())\n",
    "forecasted_daily_vaccines_TST  = cumulative_to_daily(forecasted_inverse_TST)"
   ]
  },
  {
   "cell_type": "code",
   "execution_count": 18,
   "metadata": {},
   "outputs": [
    {
     "name": "stdout",
     "output_type": "stream",
     "text": [
      "R2 Score for Vaccines 0.7087719984147376\n",
      "MAPE Score for Vaccines 0.07358544\n"
     ]
    }
   ],
   "source": [
    "print('R2 Score for Vaccines',r2_score(y_test.cpu().detach().numpy(),forecasted_TST.cpu().detach().numpy()))\n",
    "print('MAPE Score for Vaccines',mean_absolute_percentage_error(y_test.cpu().detach().numpy(),forecasted_TST.cpu().detach().numpy()))"
   ]
  },
  {
   "cell_type": "markdown",
   "metadata": {},
   "source": [
    "# LSTM Model"
   ]
  },
  {
   "cell_type": "code",
   "execution_count": 19,
   "metadata": {},
   "outputs": [
    {
     "name": "stdout",
     "output_type": "stream",
     "text": [
      "Epoch 1 Loss is 0.13013900071382523\n",
      "Epoch 2 Loss is 0.12397860735654831\n",
      "Epoch 3 Loss is 0.12133324891328812\n",
      "Epoch 4 Loss is 0.11609480530023575\n",
      "Epoch 5 Loss is 0.11401767283678055\n",
      "Epoch 6 Loss is 0.11019739136099815\n",
      "Epoch 7 Loss is 0.10620441287755966\n",
      "Epoch 8 Loss is 0.10605032369494438\n",
      "Epoch 9 Loss is 0.10557971522212029\n",
      "Epoch 10 Loss is 0.1063617542386055\n",
      "Epoch 11 Loss is 0.10448795929551125\n",
      "Epoch 12 Loss is 0.10496369749307632\n",
      "Epoch 13 Loss is 0.10350850224494934\n",
      "Epoch 14 Loss is 0.1025320515036583\n",
      "Epoch 15 Loss is 0.10142558813095093\n",
      "Epoch 16 Loss is 0.10213002935051918\n",
      "Epoch 17 Loss is 0.09707155078649521\n",
      "Epoch 18 Loss is 0.09623816981911659\n",
      "Epoch 19 Loss is 0.09235372394323349\n",
      "Epoch 20 Loss is 0.08979767188429832\n",
      "Epoch 21 Loss is 0.09231269359588623\n",
      "Epoch 22 Loss is 0.08757977560162544\n",
      "Epoch 23 Loss is 0.08191150426864624\n",
      "Epoch 24 Loss is 0.07985065132379532\n",
      "Epoch 25 Loss is 0.0715346708893776\n",
      "Epoch 26 Loss is 0.061528393998742104\n",
      "Epoch 27 Loss is 0.05421104282140732\n",
      "Epoch 28 Loss is 0.042530396953225136\n",
      "Epoch 29 Loss is 0.03148821461945772\n",
      "Epoch 30 Loss is 0.020654894411563873\n",
      "Epoch 31 Loss is 0.013424512930214405\n",
      "Epoch 32 Loss is 0.010977675206959248\n",
      "Epoch 33 Loss is 0.011745112016797066\n",
      "Epoch 34 Loss is 0.01394673902541399\n",
      "Epoch 35 Loss is 0.013855107594281435\n",
      "Epoch 36 Loss is 0.011153650004416704\n",
      "Epoch 37 Loss is 0.0077903419733047485\n",
      "Epoch 38 Loss is 0.004920576466247439\n",
      "Epoch 39 Loss is 0.0038994350470602512\n",
      "Epoch 40 Loss is 0.0033772122114896774\n",
      "Epoch 41 Loss is 0.0033402902772650123\n",
      "Epoch 42 Loss is 0.0030805564019829035\n",
      "Epoch 43 Loss is 0.0023540231632068753\n",
      "Epoch 44 Loss is 0.001553326495923102\n",
      "Epoch 45 Loss is 0.000889020535396412\n",
      "Epoch 46 Loss is 0.0005772243457613513\n",
      "Epoch 47 Loss is 0.000557116320123896\n",
      "Epoch 48 Loss is 0.0006852180522400886\n",
      "Epoch 49 Loss is 0.0006810495397076011\n",
      "Epoch 50 Loss is 0.0005054898647358641\n",
      "Epoch 51 Loss is 0.0002682674821699038\n",
      "Epoch 52 Loss is 0.00021667712280759588\n",
      "Epoch 53 Loss is 0.00024286623374791816\n",
      "Epoch 54 Loss is 0.00027466478786664084\n",
      "Epoch 55 Loss is 0.00031499085889663547\n",
      "Epoch 56 Loss is 0.0002922740750364028\n",
      "Epoch 57 Loss is 0.00022706347226630896\n",
      "Epoch 58 Loss is 0.0002108495682477951\n",
      "Epoch 59 Loss is 0.00021242420916678384\n",
      "Epoch 60 Loss is 0.00023714516282780096\n",
      "Epoch 61 Loss is 0.00023934040655149147\n",
      "Epoch 62 Loss is 0.00023180402058642358\n",
      "Epoch 63 Loss is 0.0002148411440430209\n",
      "Epoch 64 Loss is 0.00021695576288038865\n",
      "Epoch 65 Loss is 0.0002018057566601783\n",
      "Epoch 66 Loss is 0.00019919296755688265\n",
      "Epoch 67 Loss is 0.00020160663552815095\n",
      "Epoch 68 Loss is 0.0001998403313336894\n",
      "Epoch 69 Loss is 0.00018843365251086652\n",
      "Epoch 70 Loss is 0.0001927210614667274\n",
      "Epoch 71 Loss is 0.00019176615751348436\n",
      "Epoch 72 Loss is 0.00019185388373443857\n",
      "Epoch 73 Loss is 0.00019479930051602423\n",
      "Epoch 74 Loss is 0.0001885977981146425\n",
      "Epoch 75 Loss is 0.00019113071175524965\n",
      "Epoch 76 Loss is 0.00018413423822494224\n",
      "Epoch 77 Loss is 0.00019321833678986877\n",
      "Epoch 78 Loss is 0.00019658184464788064\n",
      "Epoch 79 Loss is 0.0001893857988761738\n",
      "Epoch 80 Loss is 0.0001936025873874314\n",
      "Epoch 81 Loss is 0.00018944872863357887\n",
      "Epoch 82 Loss is 0.00019342957966728136\n",
      "Epoch 83 Loss is 0.00018988251395057887\n",
      "Epoch 84 Loss is 0.00018953425023937598\n",
      "Epoch 85 Loss is 0.00019792553939623758\n",
      "Epoch 86 Loss is 0.00019386905478313565\n",
      "Epoch 87 Loss is 0.00019358743156772107\n",
      "Epoch 88 Loss is 0.00019339078426128253\n",
      "Epoch 89 Loss is 0.00018924188771052286\n",
      "Epoch 90 Loss is 0.0001942366361618042\n",
      "Epoch 91 Loss is 0.0001980175293283537\n",
      "Epoch 92 Loss is 0.00019197916117263958\n",
      "Epoch 93 Loss is 0.00018976614228449762\n",
      "Epoch 94 Loss is 0.0001863403886090964\n",
      "Epoch 95 Loss is 0.00019093637820333242\n",
      "Epoch 96 Loss is 0.0001912411898956634\n",
      "Epoch 97 Loss is 0.00019040473125642166\n",
      "Epoch 98 Loss is 0.00018810164328897372\n",
      "Epoch 99 Loss is 0.00018515304691391066\n",
      "Epoch 100 Loss is 0.00018378182721789926\n",
      "Total Time (in minutes) is 0:00:03.179942\n"
     ]
    }
   ],
   "source": [
    "LSTM_model = COVID_LSTM(n_hidden=256,n_features=1).to(device)\n",
    "criterion=torch.nn.MSELoss()\n",
    "optimizer = optim.Adam(LSTM_model.parameters(), lr=0.0001)\n",
    "all_epochs_loss = LSTM_model.train_model(train_loader,criterion,optimizer,n_epochs = 100 )\n",
    "torch.save(LSTM_model.state_dict(), 'Weights/model_LSTM_{}_Vaccine'.format(state))\n",
    "# LSTM_model.load_state_dict(torch.load('Weights/model_LSTM_{}_Vaccine'.format(state)))"
   ]
  },
  {
   "cell_type": "code",
   "execution_count": 20,
   "metadata": {},
   "outputs": [
    {
     "name": "stdout",
     "output_type": "stream",
     "text": [
      "LSTM: Test MSE Loss:  0.014089690521359444\n"
     ]
    }
   ],
   "source": [
    "def test_LSTM(model, X):\n",
    "    model.eval()\n",
    "    torch.cuda.empty_cache()\n",
    "    predicted = model(X).to(device) # [Batch Size, Sequence Length, n_features = 1]\n",
    "    one_new_timesteps=predicted[:,-1,:] # [Batch Size, Sequence Length (Last time step), n_features = 1] -> [Batch Size,]\n",
    "    print('LSTM: Test MSE Loss: ',criterion(one_new_timesteps,y_test).item())\n",
    "    return one_new_timesteps\n",
    "\n",
    "forecasted_LSTM = test_LSTM(LSTM_model, X=X_test)"
   ]
  },
  {
   "cell_type": "code",
   "execution_count": 21,
   "metadata": {},
   "outputs": [
    {
     "data": {
      "text/plain": [
       "torch.Size([25, 30, 1])"
      ]
     },
     "execution_count": 21,
     "metadata": {},
     "output_type": "execute_result"
    }
   ],
   "source": [
    "X_test.shape"
   ]
  },
  {
   "cell_type": "code",
   "execution_count": 22,
   "metadata": {},
   "outputs": [
    {
     "name": "stdout",
     "output_type": "stream",
     "text": [
      "Test MSE Loss:  tensor(0.0408, device='cuda:0', grad_fn=<MseLossBackward>)\n"
     ]
    },
    {
     "name": "stderr",
     "output_type": "stream",
     "text": [
      "/rhome/yelnady/.local/lib/python3.6/site-packages/torch/nn/modules/loss.py:528: UserWarning:\n",
      "\n",
      "Using a target size (torch.Size([25, 1])) that is different to the input size (torch.Size([25])). This will likely lead to incorrect results due to broadcasting. Please ensure they have the same size.\n",
      "\n"
     ]
    }
   ],
   "source": [
    "def forecast_LSTM(model, X, forecast_len,n_seed):\n",
    "    model.eval()\n",
    "    datapoint = X.unsqueeze(0) # [S,B,E]\n",
    "    torch.cuda.empty_cache()\n",
    "    for t in range(forecast_len): \n",
    "        \n",
    "        predicted = model(datapoint[-n_seed:,]).to(device) # [B,S,E] \n",
    "        \n",
    "        one_new_timestep=predicted[:,-1,:].unsqueeze(0) # [S,B,E]  -> Get the last predicted timestep\n",
    "        datapoint = torch.cat((datapoint,one_new_timestep),1)  # add the forecasted timestep\n",
    "    forecasted = datapoint.squeeze()[n_seed:,] # Skip the first (n)seed timesteps cuz are n_seed\n",
    "    print('Test MSE Loss: ',criterion(forecasted,y_test))\n",
    "    return forecasted\n",
    "\n",
    "forecasted_once_LSTM = forecast_LSTM(LSTM_model,X=X_test[0],forecast_len=len(y_test),n_seed = window_size )"
   ]
  },
  {
   "cell_type": "code",
   "execution_count": 23,
   "metadata": {},
   "outputs": [],
   "source": [
    "forecasted_inverse_LSTM = scaler.inverse_transform(forecasted_LSTM.cpu().detach().numpy())\n",
    "forecasted_daily_vaccines_LSTM  = cumulative_to_daily(forecasted_inverse_LSTM)"
   ]
  },
  {
   "cell_type": "code",
   "execution_count": 24,
   "metadata": {},
   "outputs": [
    {
     "name": "stdout",
     "output_type": "stream",
     "text": [
      "R2 Score for Vaccines 0.9990633418006578\n",
      "MAPE Score for Vaccines 0.35153034\n"
     ]
    }
   ],
   "source": [
    "print('R2 Score for Vaccines',r2_score(y_test_daily_vaccines,forecasted_daily_vaccines_LSTM))\n",
    "print('MAPE Score for Vaccines',mean_absolute_percentage_error(y_test_daily_vaccines,forecasted_daily_vaccines_LSTM))"
   ]
  },
  {
   "cell_type": "markdown",
   "metadata": {},
   "source": [
    "# GRU Model"
   ]
  },
  {
   "cell_type": "code",
   "execution_count": 25,
   "metadata": {},
   "outputs": [
    {
     "name": "stdout",
     "output_type": "stream",
     "text": [
      "Epoch 1 Loss is 0.12233255431056023\n",
      "Epoch 2 Loss is 0.11248330026865005\n",
      "Epoch 3 Loss is 0.10774556547403336\n",
      "Epoch 4 Loss is 0.1017041765153408\n",
      "Epoch 5 Loss is 0.09568113461136818\n",
      "Epoch 6 Loss is 0.09413935616612434\n",
      "Epoch 7 Loss is 0.0926109217107296\n",
      "Epoch 8 Loss is 0.08599337562918663\n",
      "Epoch 9 Loss is 0.07934900559484959\n",
      "Epoch 10 Loss is 0.07511017471551895\n",
      "Epoch 11 Loss is 0.06892829015851021\n",
      "Epoch 12 Loss is 0.06289505213499069\n",
      "Epoch 13 Loss is 0.054281484335660934\n",
      "Epoch 14 Loss is 0.04594947397708893\n",
      "Epoch 15 Loss is 0.036600569263100624\n",
      "Epoch 16 Loss is 0.026402469724416733\n",
      "Epoch 17 Loss is 0.016432348638772964\n",
      "Epoch 18 Loss is 0.007790659787133336\n",
      "Epoch 19 Loss is 0.0018010627245530486\n",
      "Epoch 20 Loss is 0.00044547758443513885\n",
      "Epoch 21 Loss is 0.003344134718645364\n",
      "Epoch 22 Loss is 0.006390727125108242\n",
      "Epoch 23 Loss is 0.006775382906198502\n",
      "Epoch 24 Loss is 0.005164909642189741\n",
      "Epoch 25 Loss is 0.002498811110854149\n",
      "Epoch 26 Loss is 0.0007192534685600549\n",
      "Epoch 27 Loss is 0.00021687887056032196\n",
      "Epoch 28 Loss is 0.0005081198905827478\n",
      "Epoch 29 Loss is 0.0010165736021008343\n",
      "Epoch 30 Loss is 0.0014203920727595687\n",
      "Epoch 31 Loss is 0.0015364186256192625\n",
      "Epoch 32 Loss is 0.0012852530926465988\n",
      "Epoch 33 Loss is 0.000876349164173007\n",
      "Epoch 34 Loss is 0.0005169538198970258\n",
      "Epoch 35 Loss is 0.0002808322897180915\n",
      "Epoch 36 Loss is 0.00023148872423917055\n",
      "Epoch 37 Loss is 0.00031879800371825695\n",
      "Epoch 38 Loss is 0.000413323738030158\n",
      "Epoch 39 Loss is 0.00048545130994170904\n",
      "Epoch 40 Loss is 0.0004293122183298692\n",
      "Epoch 41 Loss is 0.0003392071230337024\n",
      "Epoch 42 Loss is 0.0002518913024687208\n",
      "Epoch 43 Loss is 0.00021689302229788154\n",
      "Epoch 44 Loss is 0.00023327361850533634\n",
      "Epoch 45 Loss is 0.00025633806217228994\n",
      "Epoch 46 Loss is 0.0002739301562542096\n",
      "Epoch 47 Loss is 0.00027061408036388457\n",
      "Epoch 48 Loss is 0.00026199669810011983\n",
      "Epoch 49 Loss is 0.00023857456835685298\n",
      "Epoch 50 Loss is 0.00021525229385588318\n",
      "Epoch 51 Loss is 0.00022021315817255527\n",
      "Epoch 52 Loss is 0.00021429714979603887\n",
      "Epoch 53 Loss is 0.00022819198784418404\n",
      "Epoch 54 Loss is 0.000229199999012053\n",
      "Epoch 55 Loss is 0.00023276561114471406\n",
      "Epoch 56 Loss is 0.00021265183022478595\n",
      "Epoch 57 Loss is 0.00020629577193176374\n",
      "Epoch 58 Loss is 0.0002041310872300528\n",
      "Epoch 59 Loss is 0.00021119580196682364\n",
      "Epoch 60 Loss is 0.00022440253087552264\n",
      "Epoch 61 Loss is 0.00021616752201225609\n",
      "Epoch 62 Loss is 0.00021668378030881286\n",
      "Epoch 63 Loss is 0.0002171066589653492\n",
      "Epoch 64 Loss is 0.0002037693266174756\n",
      "Epoch 65 Loss is 0.00020964856958016753\n",
      "Epoch 66 Loss is 0.00020129585755057633\n",
      "Epoch 67 Loss is 0.0002042197884293273\n",
      "Epoch 68 Loss is 0.0002033243144978769\n",
      "Epoch 69 Loss is 0.00022097606415627524\n",
      "Epoch 70 Loss is 0.00020949031022610143\n",
      "Epoch 71 Loss is 0.00020851678709732369\n",
      "Epoch 72 Loss is 0.0002033307173405774\n",
      "Epoch 73 Loss is 0.0002078428806271404\n",
      "Epoch 74 Loss is 0.0002048564056167379\n",
      "Epoch 75 Loss is 0.00020331244013505057\n",
      "Epoch 76 Loss is 0.00021252621081657708\n",
      "Epoch 77 Loss is 0.00020011176820844412\n",
      "Epoch 78 Loss is 0.00019641522521851584\n",
      "Epoch 79 Loss is 0.0002015648497035727\n",
      "Epoch 80 Loss is 0.0001989758893614635\n",
      "Epoch 81 Loss is 0.00020664429757744074\n",
      "Epoch 82 Loss is 0.00020648385543609038\n",
      "Epoch 83 Loss is 0.00019818925647996366\n",
      "Epoch 84 Loss is 0.00020009656145703048\n",
      "Epoch 85 Loss is 0.00019727437029359862\n",
      "Epoch 86 Loss is 0.0001941604568855837\n",
      "Epoch 87 Loss is 0.00019103835802525282\n",
      "Epoch 88 Loss is 0.0002141935983672738\n",
      "Epoch 89 Loss is 0.0001936516709974967\n",
      "Epoch 90 Loss is 0.00019218710804125294\n",
      "Epoch 91 Loss is 0.00019110121502308175\n",
      "Epoch 92 Loss is 0.00019806700584013015\n",
      "Epoch 93 Loss is 0.00020013815083075315\n",
      "Epoch 94 Loss is 0.0002014080819208175\n",
      "Epoch 95 Loss is 0.00019830949167953804\n",
      "Epoch 96 Loss is 0.00021161635231692344\n",
      "Epoch 97 Loss is 0.00019894479191862047\n",
      "Epoch 98 Loss is 0.00019186002464266494\n",
      "Epoch 99 Loss is 0.00018817946693161502\n",
      "Epoch 100 Loss is 0.0002092813519993797\n",
      "Total Time (in minutes) is 0:00:03.143954\n"
     ]
    }
   ],
   "source": [
    "GRU_model = COVID_GRU(n_hidden=256,n_features=1).to(device)\n",
    "criterion=torch.nn.MSELoss()\n",
    "optimizer = optim.Adam(GRU_model.parameters(), lr=0.0001)\n",
    "all_epochs_loss = GRU_model.train_model(train_loader,criterion,optimizer,n_epochs = 100 )\n",
    "torch.save(GRU_model.state_dict(), 'Weights/model_GRU_{}_Vaccine'.format(state))\n",
    "# GRU_model.load_state_dict(torch.load('Weights/model_GRU_{}_Vaccine'.format(state)))"
   ]
  },
  {
   "cell_type": "code",
   "execution_count": 26,
   "metadata": {},
   "outputs": [
    {
     "name": "stdout",
     "output_type": "stream",
     "text": [
      "GRU: Test MSE Loss:  0.013142380863428116\n"
     ]
    }
   ],
   "source": [
    "def test_GRU(model, X):\n",
    "    model.eval()\n",
    "    torch.cuda.empty_cache()\n",
    "    predicted = model(X).to(device) # [Batch Size, Sequence Length, n_features = 1]\n",
    "    one_new_timesteps=predicted[:,-1,:] # [Batch Size, Sequence Length (Last time step), n_features = 1] -> [Batch Size,]\n",
    "    print('GRU: Test MSE Loss: ',criterion(one_new_timesteps,y_test).item())\n",
    "    return one_new_timesteps\n",
    "\n",
    "forecasted_GRU = test_GRU(GRU_model, X=X_test)"
   ]
  },
  {
   "cell_type": "code",
   "execution_count": 27,
   "metadata": {},
   "outputs": [
    {
     "data": {
      "text/plain": [
       "torch.Size([25, 30, 1])"
      ]
     },
     "execution_count": 27,
     "metadata": {},
     "output_type": "execute_result"
    }
   ],
   "source": [
    "X_test.shape"
   ]
  },
  {
   "cell_type": "code",
   "execution_count": 28,
   "metadata": {},
   "outputs": [
    {
     "name": "stdout",
     "output_type": "stream",
     "text": [
      "Test MSE Loss:  tensor(0.0435, device='cuda:0', grad_fn=<MseLossBackward>)\n"
     ]
    },
    {
     "name": "stderr",
     "output_type": "stream",
     "text": [
      "/rhome/yelnady/.local/lib/python3.6/site-packages/torch/nn/modules/loss.py:528: UserWarning:\n",
      "\n",
      "Using a target size (torch.Size([25, 1])) that is different to the input size (torch.Size([25])). This will likely lead to incorrect results due to broadcasting. Please ensure they have the same size.\n",
      "\n"
     ]
    }
   ],
   "source": [
    "def forecast_GRU(model, X, forecast_len,n_seed):\n",
    "    model.eval()\n",
    "    datapoint = X.unsqueeze(0) # [S,B,E]\n",
    "    torch.cuda.empty_cache()\n",
    "    for t in range(forecast_len): \n",
    "        \n",
    "        predicted = model(datapoint[-n_seed:,]).to(device) # [B,S,E] \n",
    "        \n",
    "        one_new_timestep=predicted[:,-1,:].unsqueeze(0) # [S,B,E]  -> Get the last predicted timestep\n",
    "        datapoint = torch.cat((datapoint,one_new_timestep),1)  # add the forecasted timestep\n",
    "    forecasted = datapoint.squeeze()[n_seed:,] # Skip the first (n)seed timesteps cuz are n_seed\n",
    "    print('Test MSE Loss: ',criterion(forecasted,y_test))\n",
    "    return forecasted\n",
    "\n",
    "forecasted_once_GRU = forecast_GRU(GRU_model,X=X_test[0],forecast_len=len(y_test),n_seed = window_size )"
   ]
  },
  {
   "cell_type": "code",
   "execution_count": 29,
   "metadata": {},
   "outputs": [],
   "source": [
    "forecasted_inverse_GRU = scaler.inverse_transform(forecasted_GRU.cpu().detach().numpy())\n",
    "forecasted_daily_vaccines_GRU  = cumulative_to_daily(forecasted_inverse_GRU)"
   ]
  },
  {
   "cell_type": "code",
   "execution_count": 30,
   "metadata": {},
   "outputs": [
    {
     "name": "stdout",
     "output_type": "stream",
     "text": [
      "R2 Score for Vaccines 0.9990667986197543\n",
      "MAPE Score for Vaccines 0.35641566\n"
     ]
    }
   ],
   "source": [
    "print('R2 Score for Vaccines',r2_score(y_test_daily_vaccines,forecasted_daily_vaccines_GRU))\n",
    "print('MAPE Score for Vaccines',mean_absolute_percentage_error(y_test_daily_vaccines,forecasted_daily_vaccines_GRU))"
   ]
  },
  {
   "cell_type": "markdown",
   "metadata": {},
   "source": [
    "# Plots"
   ]
  },
  {
   "cell_type": "code",
   "execution_count": 31,
   "metadata": {},
   "outputs": [
    {
     "data": {
      "image/png": "[encoded data removed]",
      "text/plain": [
       "<Figure size 1080x360 with 1 Axes>"
      ]
     },
     "metadata": {
      "needs_background": "light"
     },
     "output_type": "display_data"
    }
   ],
   "source": [
    "fig, ax = plt.subplots()\n",
    "# ax.set_ylim([0.0,1.1])\n",
    "\n",
    "plt.plot(y_test[:,0].cpu().detach().numpy(),label='Real',marker='o')\n",
    "plt.plot(forecasted_TST[:,0].cpu().detach().numpy(),label='Predicted - TST',marker='o')\n",
    "plt.plot(forecasted_LSTM[:,0].cpu().detach().numpy(),label='Predicted - LSTM',marker='o')\n",
    "plt.plot(forecasted_GRU[:,0].cpu().detach().numpy(),label='Predicted - GRU',marker='o')\n",
    "\n",
    "# plt.plot(forecasted_once_TST[:,0].cpu().detach().numpy(),label='Forecast Function - TST',marker='o')\n",
    "fig.set_size_inches(15, 5)\n",
    "ax.set_title('{} Vaccinated - Cumulative + Normalized'.format(state))\n",
    "ax.set_xlabel('Days')\n",
    "ax.set_ylabel('Cumulative')\n",
    "leg = ax.legend(bbox_to_anchor=(1.15, 1.01))\n",
    "plt.show()"
   ]
  },
  {
   "cell_type": "code",
   "execution_count": 32,
   "metadata": {},
   "outputs": [
    {
     "data": {
      "image/png": "[encoded data removed]",
      "text/plain": [
       "<Figure size 1080x360 with 1 Axes>"
      ]
     },
     "metadata": {
      "needs_background": "light"
     },
     "output_type": "display_data"
    }
   ],
   "source": [
    "fig, ax = plt.subplots()\n",
    "\n",
    "plt.plot(y_test_inverse[:,0],label='Real',marker='o')\n",
    "plt.plot(forecasted_inverse_TST[:,0],label='Predicted - TST',marker='o')\n",
    "plt.plot(forecasted_inverse_LSTM[:,0],label='Predicted - LSTM',marker='o')\n",
    "plt.plot(forecasted_inverse_GRU[:,0],label='Predicted - GRU',marker='o')\n",
    "\n",
    "fig.set_size_inches(15, 5)\n",
    "ax.set_title('{} Vaccinated - Cumulative + Non-Normalized'.format(state))\n",
    "ax.set_xlabel('Days')\n",
    "ax.set_ylabel('Cumulative')\n",
    "leg = ax.legend(bbox_to_anchor=(1.15, 1.01))\n",
    "plt.show()"
   ]
  },
  {
   "cell_type": "code",
   "execution_count": null,
   "metadata": {},
   "outputs": [],
   "source": []
  },
  {
   "cell_type": "code",
   "execution_count": null,
   "metadata": {},
   "outputs": [],
   "source": []
  }
 ],
 "metadata": {
  "kernelspec": {
   "display_name": "Python 3",
   "language": "python",
   "name": "python3"
  },
  "language_info": {
   "codemirror_mode": {
    "name": "ipython",
    "version": 3
   },
   "file_extension": ".py",
   "mimetype": "text/x-python",
   "name": "python",
   "nbconvert_exporter": "python",
   "pygments_lexer": "ipython3",
   "version": "3.6.9"
  }
 },
 "nbformat": 4,
 "nbformat_minor": 4
}
